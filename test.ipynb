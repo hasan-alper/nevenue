{
 "cells": [
  {
   "cell_type": "code",
   "execution_count": 1,
   "metadata": {},
   "outputs": [],
   "source": [
    "inputs = [[2.0, 3.0, 5.0, 9.0],\n",
    "          [1.5, 3.5, 4.5, 8.5],\n",
    "          [2.5, 3.0, 1.0, 4.0]]"
   ]
  },
  {
   "cell_type": "code",
   "execution_count": 2,
   "metadata": {},
   "outputs": [],
   "source": [
    "from src.layers import Dense\n",
    "\n",
    "dense1 = Dense(6, n_inputs=4)\n",
    "dense2 = Dense(2, n_inputs=6)\n",
    "\n",
    "dense1.forward(inputs)\n",
    "dense2.forward(dense1.outputs)"
   ]
  },
  {
   "cell_type": "code",
   "execution_count": 3,
   "metadata": {},
   "outputs": [
    {
     "name": "stdout",
     "output_type": "stream",
     "text": [
      "#### DENSE 1 ####\n",
      "\n",
      "Inputs:\n",
      "[[2.  3.  5.  9. ]\n",
      " [1.5 3.5 4.5 8.5]\n",
      " [2.5 3.  1.  4. ]]\n",
      "\n",
      "Weights:\n",
      "[[-0.05250877 -0.11316486 -0.12702318  0.13743468]\n",
      " [-0.01561898 -0.00804966  0.23469023 -0.25927026]\n",
      " [ 0.05583355  0.12761415 -0.03849316  0.04808676]\n",
      " [-0.12968246  0.03612773 -0.02313815  0.01712491]\n",
      " [-0.08137553  0.14850774  0.10296845  0.0116457 ]\n",
      " [ 0.04221282 -0.0786937   0.10742711 -0.21700426]]\n",
      "\n",
      "Biases:\n",
      "[0. 0. 0. 0. 0. 0.]\n",
      "\n",
      "Outputs:\n",
      "[[ 0.15728408 -1.21536812  0.73482463 -0.11254823  0.90242571 -1.56755819]\n",
      " [ 0.12175028 -1.19929344  0.76591813 -0.02663652  0.96006027 -1.57322287]\n",
      " [-0.04805097 -0.86558722  0.67628022 -0.17046145  0.39163563 -0.89113894]]\n",
      "\n"
     ]
    }
   ],
   "source": [
    "print(\"#### DENSE 1 ####\\n\")\n",
    "dense1.info()"
   ]
  },
  {
   "cell_type": "code",
   "execution_count": 4,
   "metadata": {},
   "outputs": [
    {
     "name": "stdout",
     "output_type": "stream",
     "text": [
      "#### DENSE 2 ####\n",
      "\n",
      "Inputs:\n",
      "[[ 0.15728408 -1.21536812  0.73482463 -0.11254823  0.90242571 -1.56755819]\n",
      " [ 0.12175028 -1.19929344  0.76591813 -0.02663652  0.96006027 -1.57322287]\n",
      " [-0.04805097 -0.86558722  0.67628022 -0.17046145  0.39163563 -0.89113894]]\n",
      "\n",
      "Weights:\n",
      "[[-0.05585768 -0.02130115 -0.04120387  0.01833321  0.11252351  0.07098546]\n",
      " [-0.01529817 -0.24120557 -0.0133427  -0.0533003  -0.21177823 -0.22116585]]\n",
      "\n",
      "Biases:\n",
      "[0. 0.]\n",
      "\n",
      "Outputs:\n",
      "[[-0.0249675   0.44251793]\n",
      " [-0.01694807  0.42323733]\n",
      " [-0.02905814  0.32373139]]\n",
      "\n"
     ]
    }
   ],
   "source": [
    "print(\"#### DENSE 2 ####\\n\")\n",
    "dense2.info()"
   ]
  }
 ],
 "metadata": {
  "kernelspec": {
   "display_name": "venv",
   "language": "python",
   "name": "python3"
  },
  "language_info": {
   "codemirror_mode": {
    "name": "ipython",
    "version": 3
   },
   "file_extension": ".py",
   "mimetype": "text/x-python",
   "name": "python",
   "nbconvert_exporter": "python",
   "pygments_lexer": "ipython3",
   "version": "3.9.5"
  }
 },
 "nbformat": 4,
 "nbformat_minor": 2
}
