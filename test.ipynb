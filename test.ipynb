{
 "cells": [
  {
   "cell_type": "code",
   "execution_count": 3,
   "metadata": {},
   "outputs": [],
   "source": [
    "X = [[2.0, 3.0, 5.0, 9.0],\n",
    "     [1.5, 3.5, 4.5, 8.5],\n",
    "     [2.5, 3.0, 1.0, 4.0]]\n",
    "\n",
    "y_sparse = [2, 0, 1]\n",
    "y_onehot = [[0, 0, 1], [1, 0, 0], [0, 1, 0]]"
   ]
  },
  {
   "cell_type": "code",
   "execution_count": 4,
   "metadata": {},
   "outputs": [],
   "source": [
    "from src.layers import Dense, ReLU, Softmax\n",
    "from src.losses import CategoricalCrossentropy, SparseCategoricalCrossentropy\n",
    "\n",
    "dense1 = Dense(6, n_inputs=4)\n",
    "activation1 = ReLU()\n",
    "dense2 = Dense(3, n_inputs=6)\n",
    "activation2 = Softmax()\n",
    "\n",
    "loss_function1 = CategoricalCrossentropy()\n",
    "loss_function2 = SparseCategoricalCrossentropy()\n",
    "\n",
    "dense1.forward(X)\n",
    "activation1.forward(dense1.outputs)\n",
    "dense2.forward(activation1.outputs)\n",
    "activation2.forward(dense2.outputs)\n",
    "\n",
    "loss1 = loss_function1.calculate(y_onehot, activation2.outputs)\n",
    "loss2 = loss_function2.calculate(y_sparse, activation2.outputs)\n"
   ]
  },
  {
   "cell_type": "code",
   "execution_count": 5,
   "metadata": {},
   "outputs": [
    {
     "name": "stdout",
     "output_type": "stream",
     "text": [
      "#### DENSE 1 ####\n",
      "\n",
      "Inputs:\n",
      "[[2.  3.  5.  9. ]\n",
      " [1.5 3.5 4.5 8.5]\n",
      " [2.5 3.  1.  4. ]]\n",
      "\n",
      "Weights:\n",
      "[[ 0.10407404 -0.07327186 -0.15251294  0.02930044]\n",
      " [-0.1775013  -0.05422652  0.04623952 -0.12824235]\n",
      " [-0.10055477  0.03256417 -0.08021221  0.02582573]\n",
      " [-0.03649746  0.04333322 -0.05763572 -0.34717841]\n",
      " [ 0.00235377  0.045127    0.15173582 -0.0096642 ]\n",
      " [-0.03686597 -0.1411463   0.04763824 -0.0582887 ]]\n",
      "\n",
      "Biases:\n",
      "[0. 0. 0. 0. 0. 0.]\n",
      "\n",
      "Outputs:\n",
      "[[-0.51052821 -1.44066566 -0.27204648 -3.35577954  0.81178987 -0.78357798]\n",
      " [-0.53759492 -1.33802685 -0.17829377 -3.11345714  0.76214067 -0.83039291]\n",
      " [ 0.00505835 -1.07316266 -0.13060368 -1.40759335  0.25434447 -0.70112039]]\n",
      "\n"
     ]
    }
   ],
   "source": [
    "print(\"#### DENSE 1 ####\\n\")\n",
    "dense1.info()"
   ]
  },
  {
   "cell_type": "code",
   "execution_count": 6,
   "metadata": {},
   "outputs": [
    {
     "name": "stdout",
     "output_type": "stream",
     "text": [
      "#### ACTIVATION 1 ####\n",
      "\n",
      "Inputs:\n",
      "[[-0.51052821 -1.44066566 -0.27204648 -3.35577954  0.81178987 -0.78357798]\n",
      " [-0.53759492 -1.33802685 -0.17829377 -3.11345714  0.76214067 -0.83039291]\n",
      " [ 0.00505835 -1.07316266 -0.13060368 -1.40759335  0.25434447 -0.70112039]]\n",
      "\n",
      "Outputs:\n",
      "[[0.         0.         0.         0.         0.81178987 0.        ]\n",
      " [0.         0.         0.         0.         0.76214067 0.        ]\n",
      " [0.00505835 0.         0.         0.         0.25434447 0.        ]]\n",
      "\n"
     ]
    }
   ],
   "source": [
    "print(\"#### ACTIVATION 1 ####\\n\")\n",
    "activation1.info()"
   ]
  },
  {
   "cell_type": "code",
   "execution_count": 7,
   "metadata": {},
   "outputs": [
    {
     "name": "stdout",
     "output_type": "stream",
     "text": [
      "#### DENSE 2 ####\n",
      "\n",
      "Inputs:\n",
      "[[0.         0.         0.         0.         0.81178987 0.        ]\n",
      " [0.         0.         0.         0.         0.76214067 0.        ]\n",
      " [0.00505835 0.         0.         0.         0.25434447 0.        ]]\n",
      "\n",
      "Weights:\n",
      "[[ 0.00688693 -0.03215948 -0.11738064 -0.15692876 -0.05387779  0.07565974]\n",
      " [ 0.01104332  0.01928134 -0.00610216  0.03170912 -0.1508533  -0.05145745]\n",
      " [-0.00849565  0.10720519  0.03147755 -0.06215839 -0.0462432  -0.21424636]]\n",
      "\n",
      "Biases:\n",
      "[0. 0. 0.]\n",
      "\n",
      "Outputs:\n",
      "[[-0.04373745 -0.12246118 -0.03753976]\n",
      " [-0.04106246 -0.11497144 -0.03524382]\n",
      " [-0.01366868 -0.03831284 -0.01180468]]\n",
      "\n"
     ]
    }
   ],
   "source": [
    "print(\"#### DENSE 2 ####\\n\")\n",
    "dense2.info()"
   ]
  },
  {
   "cell_type": "code",
   "execution_count": 8,
   "metadata": {},
   "outputs": [
    {
     "name": "stdout",
     "output_type": "stream",
     "text": [
      "#### ACTIVATION 2 ####\n",
      "\n",
      "Inputs:\n",
      "[[-0.04373745 -0.12246118 -0.03753976]\n",
      " [-0.04106246 -0.11497144 -0.03524382]\n",
      " [-0.01366868 -0.03831284 -0.01180468]]\n",
      "\n",
      "Outputs:\n",
      "[[0.11183959 0.1033728  0.11253489]\n",
      " [0.11213916 0.10414995 0.11279356]\n",
      " [0.11525354 0.11244793 0.11546857]]\n",
      "\n"
     ]
    }
   ],
   "source": [
    "print(\"#### ACTIVATION 2 ####\\n\")\n",
    "activation2.info()"
   ]
  },
  {
   "cell_type": "code",
   "execution_count": 12,
   "metadata": {},
   "outputs": [
    {
     "name": "stdout",
     "output_type": "stream",
     "text": [
      "#### LOSS ####\n",
      "\n",
      "2.1859238816164113 2.1859238816164113\n"
     ]
    }
   ],
   "source": [
    "print(\"#### LOSS ####\\n\")\n",
    "print(loss1, loss2)"
   ]
  }
 ],
 "metadata": {
  "kernelspec": {
   "display_name": "venv",
   "language": "python",
   "name": "python3"
  },
  "language_info": {
   "codemirror_mode": {
    "name": "ipython",
    "version": 3
   },
   "file_extension": ".py",
   "mimetype": "text/x-python",
   "name": "python",
   "nbconvert_exporter": "python",
   "pygments_lexer": "ipython3",
   "version": "3.9.5"
  }
 },
 "nbformat": 4,
 "nbformat_minor": 2
}
