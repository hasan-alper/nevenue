{
 "cells": [
  {
   "cell_type": "markdown",
   "metadata": {},
   "source": [
    "# Test Notebook"
   ]
  },
  {
   "cell_type": "markdown",
   "metadata": {},
   "source": [
    "## Forward Pass"
   ]
  },
  {
   "cell_type": "markdown",
   "metadata": {},
   "source": [
    "### Example Dataset"
   ]
  },
  {
   "cell_type": "code",
   "execution_count": 1,
   "metadata": {},
   "outputs": [],
   "source": [
    "X = [[2.0, 3.0, 5.0, 9.0],\n",
    "     [1.5, 3.5, 4.5, 8.5],\n",
    "     [2.5, 3.0, 1.0, 4.0]]\n",
    "\n",
    "y_sparse = [2, 0, 1]\n",
    "y_onehot = [[0, 0, 1], [1, 0, 0], [0, 1, 0]]"
   ]
  },
  {
   "cell_type": "markdown",
   "metadata": {},
   "source": [
    "### Simple Dense Model"
   ]
  },
  {
   "cell_type": "code",
   "execution_count": 2,
   "metadata": {},
   "outputs": [],
   "source": [
    "from src.layers import Dense, ReLU, Softmax\n",
    "from src.losses import CategoricalCrossentropy, SparseCategoricalCrossentropy\n",
    "\n",
    "dense1 = Dense(6, n_inputs=4)\n",
    "activation1 = ReLU()\n",
    "dense2 = Dense(3, n_inputs=6)\n",
    "activation2 = Softmax()\n",
    "\n",
    "loss_function1 = CategoricalCrossentropy()\n",
    "loss_function2 = SparseCategoricalCrossentropy()\n",
    "\n",
    "dense1.forward(X)\n",
    "activation1.forward(dense1.outputs)\n",
    "dense2.forward(activation1.outputs)\n",
    "activation2.forward(dense2.outputs)\n",
    "\n",
    "loss1 = loss_function1.calculate(y_onehot, activation2.outputs)\n",
    "loss2 = loss_function2.calculate(y_sparse, activation2.outputs)\n"
   ]
  },
  {
   "cell_type": "markdown",
   "metadata": {},
   "source": [
    "### Weights and biases\n",
    "\n",
    "Parameters after one iteration."
   ]
  },
  {
   "cell_type": "markdown",
   "metadata": {},
   "source": [
    "**Dense 1 (6 neurons, 4 inputs)**"
   ]
  },
  {
   "cell_type": "code",
   "execution_count": 3,
   "metadata": {},
   "outputs": [
    {
     "name": "stdout",
     "output_type": "stream",
     "text": [
      "Inputs:\n",
      "[[2.  3.  5.  9. ]\n",
      " [1.5 3.5 4.5 8.5]\n",
      " [2.5 3.  1.  4. ]]\n",
      "\n",
      "Weights:\n",
      "[[-0.15244377 -0.0676247   0.05704502  0.14498978]\n",
      " [-0.17178489  0.15940522 -0.10578902  0.0162111 ]\n",
      " [ 0.03858385  0.09758355  0.11724702  0.00306343]\n",
      " [-0.08954043  0.05271546  0.08104321 -0.10458009]\n",
      " [ 0.16320427  0.02503802 -0.11801112 -0.12288308]\n",
      " [ 0.04222257 -0.04100979 -0.12081692  0.00039383]]\n",
      "\n",
      "Biases:\n",
      "[0. 0. 0. 0. 0. 0.]\n",
      "\n",
      "Outputs:\n",
      "[[ 1.08237144 -0.24839932  0.98372433 -0.5569392  -1.29448076 -0.63912439]\n",
      " [ 1.02376358 -0.03801531  0.95306896 -0.47404282 -1.24311678 -0.62052902]\n",
      " [ 0.05302061  0.00780881  0.51871101 -0.40298184 -0.12641873 -0.13671456]]\n",
      "\n"
     ]
    }
   ],
   "source": [
    "dense1.info()"
   ]
  },
  {
   "cell_type": "markdown",
   "metadata": {},
   "source": [
    "**Activation 1 (ReLU)**"
   ]
  },
  {
   "cell_type": "code",
   "execution_count": 4,
   "metadata": {},
   "outputs": [
    {
     "name": "stdout",
     "output_type": "stream",
     "text": [
      "Inputs:\n",
      "[[ 1.08237144 -0.24839932  0.98372433 -0.5569392  -1.29448076 -0.63912439]\n",
      " [ 1.02376358 -0.03801531  0.95306896 -0.47404282 -1.24311678 -0.62052902]\n",
      " [ 0.05302061  0.00780881  0.51871101 -0.40298184 -0.12641873 -0.13671456]]\n",
      "\n",
      "Outputs:\n",
      "[[1.08237144 0.         0.98372433 0.         0.         0.        ]\n",
      " [1.02376358 0.         0.95306896 0.         0.         0.        ]\n",
      " [0.05302061 0.00780881 0.51871101 0.         0.         0.        ]]\n",
      "\n"
     ]
    }
   ],
   "source": [
    "activation1.info()"
   ]
  },
  {
   "cell_type": "markdown",
   "metadata": {},
   "source": [
    "**Dense 2 (3 neurons, 6 inputs)**"
   ]
  },
  {
   "cell_type": "code",
   "execution_count": 5,
   "metadata": {},
   "outputs": [
    {
     "name": "stdout",
     "output_type": "stream",
     "text": [
      "Inputs:\n",
      "[[1.08237144 0.         0.98372433 0.         0.         0.        ]\n",
      " [1.02376358 0.         0.95306896 0.         0.         0.        ]\n",
      " [0.05302061 0.00780881 0.51871101 0.         0.         0.        ]]\n",
      "\n",
      "Weights:\n",
      "[[ 0.0848103   0.07473824  0.0816149  -0.1636703  -0.07826137 -0.06548692]\n",
      " [ 0.08361105 -0.04521063 -0.15238063 -0.12941695 -0.0631346  -0.00470737]\n",
      " [-0.09654551 -0.01416223 -0.03655321  0.03622273  0.02932639 -0.12604342]]\n",
      "\n",
      "Biases:\n",
      "[0. 0. 0.]\n",
      "\n",
      "Outputs:\n",
      "[[ 0.17208281 -0.05940232 -0.14045638]\n",
      " [ 0.16461032 -0.0596313  -0.1336775 ]\n",
      " [ 0.04741486 -0.07496144 -0.02419004]]\n",
      "\n"
     ]
    }
   ],
   "source": [
    "dense2.info()"
   ]
  },
  {
   "cell_type": "markdown",
   "metadata": {},
   "source": [
    "**Activation 2 (Softmax)**"
   ]
  },
  {
   "cell_type": "code",
   "execution_count": 6,
   "metadata": {},
   "outputs": [
    {
     "name": "stdout",
     "output_type": "stream",
     "text": [
      "Inputs:\n",
      "[[ 0.17208281 -0.05940232 -0.14045638]\n",
      " [ 0.16461032 -0.0596313  -0.1336775 ]\n",
      " [ 0.04741486 -0.07496144 -0.02419004]]\n",
      "\n",
      "Outputs:\n",
      "[[0.39604879 0.31420708 0.28974413]\n",
      " [0.39351337 0.3144652  0.29202144]\n",
      " [0.35514971 0.31424192 0.33060837]]\n",
      "\n"
     ]
    }
   ],
   "source": [
    "activation2.info()"
   ]
  },
  {
   "cell_type": "markdown",
   "metadata": {},
   "source": [
    "### Loss\n",
    "\n",
    "* loss1: CategoricalCrossentropy\n",
    "* loss2: SparseCategoricalCrossentropy"
   ]
  },
  {
   "cell_type": "code",
   "execution_count": 7,
   "metadata": {},
   "outputs": [
    {
     "data": {
      "text/plain": [
       "(1.1096631552086615, 1.1096631552086615)"
      ]
     },
     "execution_count": 7,
     "metadata": {},
     "output_type": "execute_result"
    }
   ],
   "source": [
    "loss1, loss2"
   ]
  },
  {
   "cell_type": "markdown",
   "metadata": {},
   "source": [
    "## Visualize datasets"
   ]
  },
  {
   "cell_type": "markdown",
   "metadata": {},
   "source": [
    "### Spiral Data"
   ]
  },
  {
   "cell_type": "code",
   "execution_count": 8,
   "metadata": {},
   "outputs": [
    {
     "data": {
      "text/plain": [
       "<matplotlib.collections.PathCollection at 0x7faf114aa160>"
      ]
     },
     "execution_count": 8,
     "metadata": {},
     "output_type": "execute_result"
    },
    {
     "data": {
      "image/png": "[encoded data removed]",
      "text/plain": [
       "<Figure size 640x480 with 1 Axes>"
      ]
     },
     "metadata": {},
     "output_type": "display_data"
    }
   ],
   "source": [
    "import matplotlib.pyplot as plt\n",
    "from src.datasets import spiral_data\n",
    "\n",
    "X, y = spiral_data(n_samples=100, n_classes=3)\n",
    "\n",
    "plt.scatter(X[:, 0], X[:, 1], c=y)"
   ]
  },
  {
   "cell_type": "markdown",
   "metadata": {},
   "source": [
    "### Vertical Data"
   ]
  },
  {
   "cell_type": "code",
   "execution_count": 9,
   "metadata": {},
   "outputs": [
    {
     "data": {
      "text/plain": [
       "<matplotlib.collections.PathCollection at 0x7faf010eefa0>"
      ]
     },
     "execution_count": 9,
     "metadata": {},
     "output_type": "execute_result"
    },
    {
     "data": {
      "image/png": "[encoded data removed]",
      "text/plain": [
       "<Figure size 640x480 with 1 Axes>"
      ]
     },
     "metadata": {},
     "output_type": "display_data"
    }
   ],
   "source": [
    "from src.datasets import vertical_data\n",
    "\n",
    "X, y = vertical_data(n_samples=100, n_classes=3)\n",
    "\n",
    "plt.scatter(X[:, 0], X[:, 1], c=y)"
   ]
  },
  {
   "cell_type": "markdown",
   "metadata": {},
   "source": [
    "## Backward Pass"
   ]
  },
  {
   "cell_type": "markdown",
   "metadata": {},
   "source": [
    "### Simple Dense Model\n",
    "One forward and one backward."
   ]
  },
  {
   "cell_type": "code",
   "execution_count": 10,
   "metadata": {},
   "outputs": [
    {
     "name": "stdout",
     "output_type": "stream",
     "text": [
      "loss: 1.0984005775914036\n",
      "acc: 0.33666666666666667\n"
     ]
    }
   ],
   "source": [
    "import numpy as np\n",
    "\n",
    "X, y = spiral_data(n_samples=100, n_classes=3)\n",
    "\n",
    "dense1 = Dense(4, n_inputs=2)\n",
    "activation1 = ReLU()\n",
    "dense2 = Dense(3, n_inputs=4)\n",
    "activation2 = Softmax()\n",
    "loss_function = SparseCategoricalCrossentropy()\n",
    "\n",
    "dense1.forward(X)\n",
    "activation1.forward(dense1.outputs)\n",
    "dense2.forward(activation1.outputs)\n",
    "activation2.forward(dense2.outputs)\n",
    "\n",
    "loss = loss_function.calculate(y_true=y, y_pred=activation2.outputs)\n",
    "print(\"loss:\", loss)\n",
    "\n",
    "predictions = np.argmax(activation2.outputs, axis=1)\n",
    "accuracy = np.mean(predictions == y)\n",
    "print(\"acc:\", accuracy)\n",
    "\n",
    "loss_function.backward(activation2.outputs, y)\n",
    "activation2.backward(loss_function.dinputs)\n",
    "dense2.backward(activation2.dinputs)\n",
    "activation1.backward(dense2.dinputs)\n",
    "dense1.backward(activation1.dinputs)"
   ]
  },
  {
   "cell_type": "markdown",
   "metadata": {},
   "source": [
    "### Gradients\n",
    "\n",
    "Calculated gradients after one iteration."
   ]
  },
  {
   "cell_type": "markdown",
   "metadata": {},
   "source": [
    "**Dense 1 Weight Gradient**"
   ]
  },
  {
   "cell_type": "code",
   "execution_count": 11,
   "metadata": {},
   "outputs": [
    {
     "data": {
      "text/plain": [
       "array([[-0.00071559,  0.00187496],\n",
       "       [-0.00046237,  0.00223019],\n",
       "       [ 0.00032384, -0.0032859 ],\n",
       "       [-0.00022152, -0.00107692]])"
      ]
     },
     "execution_count": 11,
     "metadata": {},
     "output_type": "execute_result"
    }
   ],
   "source": [
    "dense1.dweights"
   ]
  },
  {
   "cell_type": "markdown",
   "metadata": {},
   "source": [
    "**Dense 1 Bias Gradient**"
   ]
  },
  {
   "cell_type": "code",
   "execution_count": 12,
   "metadata": {},
   "outputs": [
    {
     "data": {
      "text/plain": [
       "array([-3.48558478e-03, -5.89122652e-03,  2.53658969e-05,  3.36795575e-03])"
      ]
     },
     "execution_count": 12,
     "metadata": {},
     "output_type": "execute_result"
    }
   ],
   "source": [
    "dense1.dbiases"
   ]
  },
  {
   "cell_type": "markdown",
   "metadata": {},
   "source": [
    "**Dense 2 Weight Gradient**"
   ]
  },
  {
   "cell_type": "code",
   "execution_count": 13,
   "metadata": {},
   "outputs": [
    {
     "data": {
      "text/plain": [
       "array([[-1.63884918e-04, -2.51621415e-04,  5.68973208e-04,\n",
       "        -1.91322800e-03],\n",
       "       [-5.45017924e-04,  2.98776947e-04, -1.67768442e-03,\n",
       "         2.32309006e-03],\n",
       "       [ 7.08902843e-04, -4.71555327e-05,  1.10871121e-03,\n",
       "        -4.09862063e-04]])"
      ]
     },
     "execution_count": 13,
     "metadata": {},
     "output_type": "execute_result"
    }
   ],
   "source": [
    "dense2.dweights"
   ]
  },
  {
   "cell_type": "markdown",
   "metadata": {},
   "source": [
    "**Dense 2 Bias Gradient**"
   ]
  },
  {
   "cell_type": "code",
   "execution_count": 14,
   "metadata": {},
   "outputs": [
    {
     "data": {
      "text/plain": [
       "array([-3.25719746e-05,  2.35279898e-04, -2.02707923e-04])"
      ]
     },
     "execution_count": 14,
     "metadata": {},
     "output_type": "execute_result"
    }
   ],
   "source": [
    "dense2.dbiases"
   ]
  },
  {
   "cell_type": "markdown",
   "metadata": {},
   "source": [
    "## Optimizing Parameters "
   ]
  },
  {
   "cell_type": "markdown",
   "metadata": {},
   "source": [
    "### SGD \n",
    "\n",
    "* Learning rate: 1.0\n",
    "* Decay: 0.0\n",
    "* Momentum: 0.0\n",
    "* Epoch: 10000"
   ]
  },
  {
   "cell_type": "code",
   "execution_count": 15,
   "metadata": {},
   "outputs": [
    {
     "name": "stdout",
     "output_type": "stream",
     "text": [
      "epoch: 0, acc: 0.383, loss: 1.096, lr: 1.0\n"
     ]
    },
    {
     "ename": "KeyboardInterrupt",
     "evalue": "",
     "output_type": "error",
     "traceback": [
      "\u001b[0;31m---------------------------------------------------------------------------\u001b[0m",
      "\u001b[0;31mKeyboardInterrupt\u001b[0m                         Traceback (most recent call last)",
      "Cell \u001b[0;32mIn[15], line 32\u001b[0m\n\u001b[1;32m     26\u001b[0m     \u001b[38;5;28mprint\u001b[39m(\u001b[38;5;124mf\u001b[39m\u001b[38;5;124m\"\u001b[39m\u001b[38;5;124mepoch: \u001b[39m\u001b[38;5;132;01m{\u001b[39;00mepoch\u001b[38;5;132;01m}\u001b[39;00m\u001b[38;5;124m, \u001b[39m\u001b[38;5;124m\"\u001b[39m \u001b[38;5;241m+\u001b[39m\n\u001b[1;32m     27\u001b[0m           \u001b[38;5;124mf\u001b[39m\u001b[38;5;124m\"\u001b[39m\u001b[38;5;124macc: \u001b[39m\u001b[38;5;132;01m{\u001b[39;00maccuracy\u001b[38;5;132;01m:\u001b[39;00m\u001b[38;5;124m.3f\u001b[39m\u001b[38;5;132;01m}\u001b[39;00m\u001b[38;5;124m, \u001b[39m\u001b[38;5;124m\"\u001b[39m \u001b[38;5;241m+\u001b[39m\n\u001b[1;32m     28\u001b[0m           \u001b[38;5;124mf\u001b[39m\u001b[38;5;124m\"\u001b[39m\u001b[38;5;124mloss: \u001b[39m\u001b[38;5;132;01m{\u001b[39;00mloss\u001b[38;5;132;01m:\u001b[39;00m\u001b[38;5;124m.3f\u001b[39m\u001b[38;5;132;01m}\u001b[39;00m\u001b[38;5;124m, \u001b[39m\u001b[38;5;124m\"\u001b[39m \u001b[38;5;241m+\u001b[39m\n\u001b[1;32m     29\u001b[0m           \u001b[38;5;124mf\u001b[39m\u001b[38;5;124m\"\u001b[39m\u001b[38;5;124mlr: \u001b[39m\u001b[38;5;132;01m{\u001b[39;00moptimizer\u001b[38;5;241m.\u001b[39mcurrent_learning_rate\u001b[38;5;132;01m}\u001b[39;00m\u001b[38;5;124m\"\u001b[39m)\n\u001b[1;32m     31\u001b[0m loss_function\u001b[38;5;241m.\u001b[39mbackward(activation2\u001b[38;5;241m.\u001b[39moutputs, y)\n\u001b[0;32m---> 32\u001b[0m \u001b[43mactivation2\u001b[49m\u001b[38;5;241;43m.\u001b[39;49m\u001b[43mbackward\u001b[49m\u001b[43m(\u001b[49m\u001b[43mloss_function\u001b[49m\u001b[38;5;241;43m.\u001b[39;49m\u001b[43mdinputs\u001b[49m\u001b[43m)\u001b[49m\n\u001b[1;32m     33\u001b[0m dense2\u001b[38;5;241m.\u001b[39mbackward(activation2\u001b[38;5;241m.\u001b[39mdinputs)\n\u001b[1;32m     34\u001b[0m activation1\u001b[38;5;241m.\u001b[39mbackward(dense2\u001b[38;5;241m.\u001b[39mdinputs)\n",
      "File \u001b[0;32m~/Documents/Nevenue/src/layers.py:113\u001b[0m, in \u001b[0;36mSoftmax.backward\u001b[0;34m(self, dvalues)\u001b[0m\n\u001b[1;32m    111\u001b[0m \u001b[38;5;28;01mfor\u001b[39;00m i, (single_output, single_dvalues) \u001b[38;5;129;01min\u001b[39;00m \u001b[38;5;28menumerate\u001b[39m(\u001b[38;5;28mzip\u001b[39m(\u001b[38;5;28mself\u001b[39m\u001b[38;5;241m.\u001b[39moutputs, dvalues)):\n\u001b[1;32m    112\u001b[0m     single_output \u001b[38;5;241m=\u001b[39m single_output\u001b[38;5;241m.\u001b[39mreshape(\u001b[38;5;241m-\u001b[39m\u001b[38;5;241m1\u001b[39m, \u001b[38;5;241m1\u001b[39m)\n\u001b[0;32m--> 113\u001b[0m     jacobian_matrix \u001b[38;5;241m=\u001b[39m \u001b[43mnp\u001b[49m\u001b[38;5;241;43m.\u001b[39;49m\u001b[43mdiagflat\u001b[49m\u001b[43m(\u001b[49m\u001b[43msingle_output\u001b[49m\u001b[43m)\u001b[49m \u001b[38;5;241m-\u001b[39m np\u001b[38;5;241m.\u001b[39mdot(single_output, single_output\u001b[38;5;241m.\u001b[39mT)\n\u001b[1;32m    114\u001b[0m     \u001b[38;5;28mself\u001b[39m\u001b[38;5;241m.\u001b[39mdinputs[i] \u001b[38;5;241m=\u001b[39m np\u001b[38;5;241m.\u001b[39mdot(jacobian_matrix, single_dvalues)\n",
      "File \u001b[0;32m~/Documents/Nevenue/venv/lib/python3.9/site-packages/numpy/lib/twodim_base.py:356\u001b[0m, in \u001b[0;36mdiagflat\u001b[0;34m(v, k)\u001b[0m\n\u001b[1;32m    354\u001b[0m \u001b[38;5;28;01mif\u001b[39;00m (k \u001b[38;5;241m>\u001b[39m\u001b[38;5;241m=\u001b[39m \u001b[38;5;241m0\u001b[39m):\n\u001b[1;32m    355\u001b[0m     i \u001b[38;5;241m=\u001b[39m arange(\u001b[38;5;241m0\u001b[39m, n\u001b[38;5;241m-\u001b[39mk, dtype\u001b[38;5;241m=\u001b[39mintp)\n\u001b[0;32m--> 356\u001b[0m     fi \u001b[38;5;241m=\u001b[39m \u001b[43mi\u001b[49m\u001b[38;5;241;43m+\u001b[39;49m\u001b[43mk\u001b[49m\u001b[38;5;241m+\u001b[39mi\u001b[38;5;241m*\u001b[39mn\n\u001b[1;32m    357\u001b[0m \u001b[38;5;28;01melse\u001b[39;00m:\n\u001b[1;32m    358\u001b[0m     i \u001b[38;5;241m=\u001b[39m arange(\u001b[38;5;241m0\u001b[39m, n\u001b[38;5;241m+\u001b[39mk, dtype\u001b[38;5;241m=\u001b[39mintp)\n",
      "\u001b[0;31mKeyboardInterrupt\u001b[0m: "
     ]
    }
   ],
   "source": [
    "from src.optimizers import SGD\n",
    "\n",
    "X, y = spiral_data(n_samples=100, n_classes=3)\n",
    "\n",
    "dense1 = Dense(64, n_inputs=2)\n",
    "activation1 = ReLU()\n",
    "dense2 = Dense(3, n_inputs=64)\n",
    "activation2 = Softmax()\n",
    "\n",
    "loss_function = SparseCategoricalCrossentropy()\n",
    "\n",
    "optimizer = SGD()\n",
    "\n",
    "for epoch in range(10001):\n",
    "    dense1.forward(X)\n",
    "    activation1.forward(dense1.outputs)\n",
    "    dense2.forward(activation1.outputs)\n",
    "    activation2.forward(dense2.outputs)\n",
    "\n",
    "    loss = loss_function.calculate(y_true=y, y_pred=activation2.outputs)\n",
    "\n",
    "    predictions = np.argmax(activation2.outputs, axis=1)\n",
    "    accuracy = np.mean(predictions == y)\n",
    "\n",
    "    if not epoch % 1000:\n",
    "        print(f\"epoch: {epoch}, \" +\n",
    "              f\"acc: {accuracy:.3f}, \" +\n",
    "              f\"loss: {loss:.3f}, \" +\n",
    "              f\"lr: {optimizer.current_learning_rate}\")\n",
    "\n",
    "    loss_function.backward(activation2.outputs, y)\n",
    "    activation2.backward(loss_function.dinputs)\n",
    "    dense2.backward(activation2.dinputs)\n",
    "    activation1.backward(dense2.dinputs)\n",
    "    dense1.backward(activation1.dinputs)\n",
    "\n",
    "    optimizer.update_params(dense1)\n",
    "    optimizer.update_params(dense2)"
   ]
  },
  {
   "cell_type": "markdown",
   "metadata": {},
   "source": [
    "### SGD \n",
    "\n",
    "* Learning rate: 1.0\n",
    "* **Decay: 0.001**\n",
    "* Momentum: 0.0\n",
    "* Epoch: 10000"
   ]
  },
  {
   "cell_type": "code",
   "execution_count": null,
   "metadata": {},
   "outputs": [
    {
     "name": "stdout",
     "output_type": "stream",
     "text": [
      "epoch: 0, acc: 0.313, loss: 1.100, lr: 1.0\n",
      "epoch: 1000, acc: 0.447, loss: 1.011, lr: 0.5002501250625312\n",
      "epoch: 2000, acc: 0.563, loss: 0.945, lr: 0.33344448149383127\n",
      "epoch: 3000, acc: 0.590, loss: 0.874, lr: 0.25006251562890724\n",
      "epoch: 4000, acc: 0.660, loss: 0.813, lr: 0.2000400080016003\n",
      "epoch: 5000, acc: 0.673, loss: 0.759, lr: 0.16669444907484582\n",
      "epoch: 6000, acc: 0.700, loss: 0.716, lr: 0.1428775539362766\n",
      "epoch: 7000, acc: 0.720, loss: 0.678, lr: 0.12501562695336915\n",
      "epoch: 8000, acc: 0.750, loss: 0.639, lr: 0.11112345816201799\n",
      "epoch: 9000, acc: 0.753, loss: 0.610, lr: 0.1000100010001\n",
      "epoch: 10000, acc: 0.770, loss: 0.586, lr: 0.09091735612328393\n"
     ]
    }
   ],
   "source": [
    "X, y = spiral_data(n_samples=100, n_classes=3)\n",
    "\n",
    "dense1 = Dense(64, n_inputs=2)\n",
    "activation1 = ReLU()\n",
    "dense2 = Dense(3, n_inputs=64)\n",
    "activation2 = Softmax()\n",
    "\n",
    "loss_function = SparseCategoricalCrossentropy()\n",
    "\n",
    "optimizer = SGD(decay=0.001)\n",
    "\n",
    "for epoch in range(10001):\n",
    "    dense1.forward(X)\n",
    "    activation1.forward(dense1.outputs)\n",
    "    dense2.forward(activation1.outputs)\n",
    "    activation2.forward(dense2.outputs)\n",
    "\n",
    "    loss = loss_function.calculate(y_true=y, y_pred=activation2.outputs)\n",
    "\n",
    "    predictions = np.argmax(activation2.outputs, axis=1)\n",
    "    accuracy = np.mean(predictions == y)\n",
    "\n",
    "    if not epoch % 1000:\n",
    "        print(f\"epoch: {epoch}, \" +\n",
    "              f\"acc: {accuracy:.3f}, \" +\n",
    "              f\"loss: {loss:.3f}, \" +\n",
    "              f\"lr: {optimizer.current_learning_rate}\")\n",
    "\n",
    "    loss_function.backward(activation2.outputs, y)\n",
    "    activation2.backward(loss_function.dinputs)\n",
    "    dense2.backward(activation2.dinputs)\n",
    "    activation1.backward(dense2.dinputs)\n",
    "    dense1.backward(activation1.dinputs)\n",
    "\n",
    "    optimizer.pre_update_params()\n",
    "    optimizer.update_params(dense1)\n",
    "    optimizer.update_params(dense2)\n",
    "    optimizer.post_update_params()"
   ]
  },
  {
   "cell_type": "markdown",
   "metadata": {},
   "source": [
    "### SGD \n",
    "\n",
    "* Learning rate: 1.0\n",
    "* **Decay: 0.001**\n",
    "* **Momentum: 0.9**\n",
    "* Epoch: 10000"
   ]
  },
  {
   "cell_type": "code",
   "execution_count": null,
   "metadata": {},
   "outputs": [
    {
     "name": "stdout",
     "output_type": "stream",
     "text": [
      "epoch: 0, acc: 0.343, loss: 1.099, lr: 1\n",
      "epoch: 1000, acc: 0.717, loss: 0.514, lr: 0.5002501250625312\n",
      "epoch: 2000, acc: 0.747, loss: 0.477, lr: 0.33344448149383127\n",
      "epoch: 3000, acc: 0.753, loss: 0.456, lr: 0.25006251562890724\n",
      "epoch: 4000, acc: 0.753, loss: 0.449, lr: 0.2000400080016003\n",
      "epoch: 5000, acc: 0.777, loss: 0.435, lr: 0.16669444907484582\n",
      "epoch: 6000, acc: 0.780, loss: 0.424, lr: 0.1428775539362766\n",
      "epoch: 7000, acc: 0.783, loss: 0.419, lr: 0.12501562695336915\n",
      "epoch: 8000, acc: 0.787, loss: 0.416, lr: 0.11112345816201799\n",
      "epoch: 9000, acc: 0.787, loss: 0.415, lr: 0.1000100010001\n",
      "epoch: 10000, acc: 0.787, loss: 0.414, lr: 0.09091735612328393\n"
     ]
    }
   ],
   "source": [
    "X, y = spiral_data(n_samples=100, n_classes=3)\n",
    "\n",
    "dense1 = Dense(64, n_inputs=2)\n",
    "activation1 = ReLU()\n",
    "dense2 = Dense(3, n_inputs=64)\n",
    "activation2 = Softmax()\n",
    "\n",
    "loss_function = SparseCategoricalCrossentropy()\n",
    "\n",
    "optimizer = SGD(learning_rate=1, decay=0.001, momentum=0.9)\n",
    "\n",
    "for epoch in range(10001):\n",
    "    dense1.forward(X)\n",
    "    activation1.forward(dense1.outputs)\n",
    "    dense2.forward(activation1.outputs)\n",
    "    activation2.forward(dense2.outputs)\n",
    "\n",
    "    loss = loss_function.calculate(y_true=y, y_pred=activation2.outputs)\n",
    "\n",
    "    predictions = np.argmax(activation2.outputs, axis=1)\n",
    "    accuracy = np.mean(predictions == y)\n",
    "\n",
    "    if not epoch % 1000:\n",
    "        print(f\"epoch: {epoch}, \" +\n",
    "              f\"acc: {accuracy:.3f}, \" +\n",
    "              f\"loss: {loss:.3f}, \" +\n",
    "              f\"lr: {optimizer.current_learning_rate}\")\n",
    "\n",
    "    loss_function.backward(activation2.outputs, y)\n",
    "    activation2.backward(loss_function.dinputs)\n",
    "    dense2.backward(activation2.dinputs)\n",
    "    activation1.backward(dense2.dinputs)\n",
    "    dense1.backward(activation1.dinputs)\n",
    "\n",
    "    optimizer.pre_update_params()\n",
    "    optimizer.update_params(dense1)\n",
    "    optimizer.update_params(dense2)\n",
    "    optimizer.post_update_params()"
   ]
  },
  {
   "cell_type": "markdown",
   "metadata": {},
   "source": [
    "### AdaGrad \n",
    "\n",
    "* Learning rate: 1.0\n",
    "* Decay: 0.0\n",
    "* Epsilon: 1e-7\n",
    "* Epoch: 10000"
   ]
  },
  {
   "cell_type": "code",
   "execution_count": null,
   "metadata": {},
   "outputs": [
    {
     "name": "stdout",
     "output_type": "stream",
     "text": [
      "epoch: 0, acc: 0.237, loss: 1.102, lr: 1.0\n",
      "epoch: 1000, acc: 0.647, loss: 0.728, lr: 1.0\n",
      "epoch: 2000, acc: 0.717, loss: 0.616, lr: 1.0\n",
      "epoch: 3000, acc: 0.753, loss: 0.561, lr: 1.0\n",
      "epoch: 4000, acc: 0.793, loss: 0.465, lr: 1.0\n",
      "epoch: 5000, acc: 0.823, loss: 0.422, lr: 1.0\n",
      "epoch: 6000, acc: 0.847, loss: 0.405, lr: 1.0\n",
      "epoch: 7000, acc: 0.853, loss: 0.389, lr: 1.0\n",
      "epoch: 8000, acc: 0.857, loss: 0.378, lr: 1.0\n",
      "epoch: 9000, acc: 0.860, loss: 0.370, lr: 1.0\n",
      "epoch: 10000, acc: 0.860, loss: 0.364, lr: 1.0\n"
     ]
    }
   ],
   "source": [
    "from src.optimizers import AdaGrad\n",
    "\n",
    "X, y = spiral_data(n_samples=100, n_classes=3)\n",
    "\n",
    "dense1 = Dense(64, n_inputs=2)\n",
    "activation1 = ReLU()\n",
    "dense2 = Dense(3, n_inputs=64)\n",
    "activation2 = Softmax()\n",
    "\n",
    "loss_function = SparseCategoricalCrossentropy()\n",
    "\n",
    "optimizer = AdaGrad()\n",
    "for epoch in range(10001):\n",
    "    dense1.forward(X)\n",
    "    activation1.forward(dense1.outputs)\n",
    "    dense2.forward(activation1.outputs)\n",
    "    activation2.forward(dense2.outputs)\n",
    "\n",
    "    loss = loss_function.calculate(y_true=y, y_pred=activation2.outputs)\n",
    "\n",
    "    predictions = np.argmax(activation2.outputs, axis=1)\n",
    "    accuracy = np.mean(predictions == y)\n",
    "\n",
    "    if not epoch % 1000:\n",
    "        print(f\"epoch: {epoch}, \" +\n",
    "              f\"acc: {accuracy:.3f}, \" +\n",
    "              f\"loss: {loss:.3f}, \" +\n",
    "              f\"lr: {optimizer.current_learning_rate}\")\n",
    "\n",
    "    loss_function.backward(activation2.outputs, y)\n",
    "    activation2.backward(loss_function.dinputs)\n",
    "    dense2.backward(activation2.dinputs)\n",
    "    activation1.backward(dense2.dinputs)\n",
    "    dense1.backward(activation1.dinputs)\n",
    "\n",
    "    optimizer.pre_update_params()\n",
    "    optimizer.update_params(dense1)\n",
    "    optimizer.update_params(dense2)\n",
    "    optimizer.post_update_params()"
   ]
  },
  {
   "cell_type": "markdown",
   "metadata": {},
   "source": [
    "### RMSProp \n",
    "\n",
    "* Learning rate: 0.001\n",
    "* **Decay: 1e-4**\n",
    "* Epsilon: 1e-7\n",
    "* Rho: 0.9\n",
    "* Epoch: 10000"
   ]
  },
  {
   "cell_type": "code",
   "execution_count": null,
   "metadata": {},
   "outputs": [
    {
     "name": "stdout",
     "output_type": "stream",
     "text": [
      "epoch: 0, acc: 0.380, loss: 1.098, lr: 0.001\n",
      "epoch: 1000, acc: 0.610, loss: 0.937, lr: 0.0009091735612328393\n",
      "epoch: 2000, acc: 0.657, loss: 0.814, lr: 0.0008334027835652972\n",
      "epoch: 3000, acc: 0.703, loss: 0.714, lr: 0.0007692899453804139\n",
      "epoch: 4000, acc: 0.727, loss: 0.648, lr: 0.0007143367383384526\n",
      "epoch: 5000, acc: 0.770, loss: 0.597, lr: 0.0006667111140742716\n",
      "epoch: 6000, acc: 0.810, loss: 0.559, lr: 0.0006250390649415589\n",
      "epoch: 7000, acc: 0.817, loss: 0.528, lr: 0.0005882698982293077\n",
      "epoch: 8000, acc: 0.827, loss: 0.505, lr: 0.0005555864214678594\n",
      "epoch: 9000, acc: 0.847, loss: 0.483, lr: 0.0005263434917627244\n",
      "epoch: 10000, acc: 0.857, loss: 0.466, lr: 0.0005000250012500625\n"
     ]
    }
   ],
   "source": [
    "from src.optimizers import RMSProp\n",
    "\n",
    "X, y = spiral_data(n_samples=100, n_classes=3)\n",
    "\n",
    "dense1 = Dense(64, n_inputs=2)\n",
    "activation1 = ReLU()\n",
    "dense2 = Dense(3, n_inputs=64)\n",
    "activation2 = Softmax()\n",
    "\n",
    "loss_function = SparseCategoricalCrossentropy()\n",
    "\n",
    "optimizer = RMSProp(decay=1e-4)\n",
    "\n",
    "for epoch in range(10001):\n",
    "    dense1.forward(X)\n",
    "    activation1.forward(dense1.outputs)\n",
    "    dense2.forward(activation1.outputs)\n",
    "    activation2.forward(dense2.outputs)\n",
    "\n",
    "    loss = loss_function.calculate(y_true=y, y_pred=activation2.outputs)\n",
    "\n",
    "    predictions = np.argmax(activation2.outputs, axis=1)\n",
    "    accuracy = np.mean(predictions == y)\n",
    "\n",
    "    if not epoch % 1000:\n",
    "        print(f\"epoch: {epoch}, \" +\n",
    "              f\"acc: {accuracy:.3f}, \" +\n",
    "              f\"loss: {loss:.3f}, \" +\n",
    "              f\"lr: {optimizer.current_learning_rate}\")\n",
    "\n",
    "    loss_function.backward(activation2.outputs, y)\n",
    "    activation2.backward(loss_function.dinputs)\n",
    "    dense2.backward(activation2.dinputs)\n",
    "    activation1.backward(dense2.dinputs)\n",
    "    dense1.backward(activation1.dinputs)\n",
    "\n",
    "    optimizer.pre_update_params()\n",
    "    optimizer.update_params(dense1)\n",
    "    optimizer.update_params(dense2)\n",
    "    optimizer.post_update_params()"
   ]
  },
  {
   "cell_type": "markdown",
   "metadata": {},
   "source": [
    "### Adam \n",
    "\n",
    "* Learning rate: 0.001\n",
    "* Decay: 0.0\n",
    "* Epsilon: 1e-7\n",
    "* Beta 1: 0.9\n",
    "* Beta 2: 0.999\n",
    "* Epoch: 10000"
   ]
  },
  {
   "cell_type": "code",
   "execution_count": 16,
   "metadata": {},
   "outputs": [
    {
     "name": "stdout",
     "output_type": "stream",
     "text": [
      "epoch: 0, acc: 0.303, loss: 1.106, lr: 0.001\n"
     ]
    },
    {
     "ename": "KeyboardInterrupt",
     "evalue": "",
     "output_type": "error",
     "traceback": [
      "\u001b[0;31m---------------------------------------------------------------------------\u001b[0m",
      "\u001b[0;31mKeyboardInterrupt\u001b[0m                         Traceback (most recent call last)",
      "Cell \u001b[0;32mIn[16], line 32\u001b[0m\n\u001b[1;32m     26\u001b[0m     \u001b[38;5;28mprint\u001b[39m(\u001b[38;5;124mf\u001b[39m\u001b[38;5;124m\"\u001b[39m\u001b[38;5;124mepoch: \u001b[39m\u001b[38;5;132;01m{\u001b[39;00mepoch\u001b[38;5;132;01m}\u001b[39;00m\u001b[38;5;124m, \u001b[39m\u001b[38;5;124m\"\u001b[39m \u001b[38;5;241m+\u001b[39m\n\u001b[1;32m     27\u001b[0m           \u001b[38;5;124mf\u001b[39m\u001b[38;5;124m\"\u001b[39m\u001b[38;5;124macc: \u001b[39m\u001b[38;5;132;01m{\u001b[39;00maccuracy\u001b[38;5;132;01m:\u001b[39;00m\u001b[38;5;124m.3f\u001b[39m\u001b[38;5;132;01m}\u001b[39;00m\u001b[38;5;124m, \u001b[39m\u001b[38;5;124m\"\u001b[39m \u001b[38;5;241m+\u001b[39m\n\u001b[1;32m     28\u001b[0m           \u001b[38;5;124mf\u001b[39m\u001b[38;5;124m\"\u001b[39m\u001b[38;5;124mloss: \u001b[39m\u001b[38;5;132;01m{\u001b[39;00mloss\u001b[38;5;132;01m:\u001b[39;00m\u001b[38;5;124m.3f\u001b[39m\u001b[38;5;132;01m}\u001b[39;00m\u001b[38;5;124m, \u001b[39m\u001b[38;5;124m\"\u001b[39m \u001b[38;5;241m+\u001b[39m\n\u001b[1;32m     29\u001b[0m           \u001b[38;5;124mf\u001b[39m\u001b[38;5;124m\"\u001b[39m\u001b[38;5;124mlr: \u001b[39m\u001b[38;5;132;01m{\u001b[39;00moptimizer\u001b[38;5;241m.\u001b[39mcurrent_learning_rate\u001b[38;5;132;01m}\u001b[39;00m\u001b[38;5;124m\"\u001b[39m)\n\u001b[1;32m     31\u001b[0m loss_function\u001b[38;5;241m.\u001b[39mbackward(activation2\u001b[38;5;241m.\u001b[39moutputs, y)\n\u001b[0;32m---> 32\u001b[0m \u001b[43mactivation2\u001b[49m\u001b[38;5;241;43m.\u001b[39;49m\u001b[43mbackward\u001b[49m\u001b[43m(\u001b[49m\u001b[43mloss_function\u001b[49m\u001b[38;5;241;43m.\u001b[39;49m\u001b[43mdinputs\u001b[49m\u001b[43m)\u001b[49m\n\u001b[1;32m     33\u001b[0m dense2\u001b[38;5;241m.\u001b[39mbackward(activation2\u001b[38;5;241m.\u001b[39mdinputs)\n\u001b[1;32m     34\u001b[0m activation1\u001b[38;5;241m.\u001b[39mbackward(dense2\u001b[38;5;241m.\u001b[39mdinputs)\n",
      "File \u001b[0;32m~/Documents/Nevenue/src/layers.py:113\u001b[0m, in \u001b[0;36mSoftmax.backward\u001b[0;34m(self, dvalues)\u001b[0m\n\u001b[1;32m    111\u001b[0m \u001b[38;5;28;01mfor\u001b[39;00m i, (single_output, single_dvalues) \u001b[38;5;129;01min\u001b[39;00m \u001b[38;5;28menumerate\u001b[39m(\u001b[38;5;28mzip\u001b[39m(\u001b[38;5;28mself\u001b[39m\u001b[38;5;241m.\u001b[39moutputs, dvalues)):\n\u001b[1;32m    112\u001b[0m     single_output \u001b[38;5;241m=\u001b[39m single_output\u001b[38;5;241m.\u001b[39mreshape(\u001b[38;5;241m-\u001b[39m\u001b[38;5;241m1\u001b[39m, \u001b[38;5;241m1\u001b[39m)\n\u001b[0;32m--> 113\u001b[0m     jacobian_matrix \u001b[38;5;241m=\u001b[39m \u001b[43mnp\u001b[49m\u001b[38;5;241;43m.\u001b[39;49m\u001b[43mdiagflat\u001b[49m\u001b[43m(\u001b[49m\u001b[43msingle_output\u001b[49m\u001b[43m)\u001b[49m \u001b[38;5;241m-\u001b[39m np\u001b[38;5;241m.\u001b[39mdot(single_output, single_output\u001b[38;5;241m.\u001b[39mT)\n\u001b[1;32m    114\u001b[0m     \u001b[38;5;28mself\u001b[39m\u001b[38;5;241m.\u001b[39mdinputs[i] \u001b[38;5;241m=\u001b[39m np\u001b[38;5;241m.\u001b[39mdot(jacobian_matrix, single_dvalues)\n",
      "File \u001b[0;32m~/Documents/Nevenue/venv/lib/python3.9/site-packages/numpy/lib/twodim_base.py:356\u001b[0m, in \u001b[0;36mdiagflat\u001b[0;34m(v, k)\u001b[0m\n\u001b[1;32m    354\u001b[0m \u001b[38;5;28;01mif\u001b[39;00m (k \u001b[38;5;241m>\u001b[39m\u001b[38;5;241m=\u001b[39m \u001b[38;5;241m0\u001b[39m):\n\u001b[1;32m    355\u001b[0m     i \u001b[38;5;241m=\u001b[39m arange(\u001b[38;5;241m0\u001b[39m, n\u001b[38;5;241m-\u001b[39mk, dtype\u001b[38;5;241m=\u001b[39mintp)\n\u001b[0;32m--> 356\u001b[0m     fi \u001b[38;5;241m=\u001b[39m \u001b[43mi\u001b[49m\u001b[38;5;241;43m+\u001b[39;49m\u001b[43mk\u001b[49m\u001b[38;5;241m+\u001b[39mi\u001b[38;5;241m*\u001b[39mn\n\u001b[1;32m    357\u001b[0m \u001b[38;5;28;01melse\u001b[39;00m:\n\u001b[1;32m    358\u001b[0m     i \u001b[38;5;241m=\u001b[39m arange(\u001b[38;5;241m0\u001b[39m, n\u001b[38;5;241m+\u001b[39mk, dtype\u001b[38;5;241m=\u001b[39mintp)\n",
      "\u001b[0;31mKeyboardInterrupt\u001b[0m: "
     ]
    }
   ],
   "source": [
    "from src.optimizers import Adam\n",
    "\n",
    "X, y = spiral_data(n_samples=100, n_classes=3)\n",
    "\n",
    "dense1 = Dense(64, n_inputs=2)\n",
    "activation1 = ReLU()\n",
    "dense2 = Dense(3, n_inputs=64)\n",
    "activation2 = Softmax()\n",
    "\n",
    "loss_function = SparseCategoricalCrossentropy()\n",
    "\n",
    "optimizer = Adam()\n",
    "\n",
    "for epoch in range(10001):\n",
    "    dense1.forward(X)\n",
    "    activation1.forward(dense1.outputs)\n",
    "    dense2.forward(activation1.outputs)\n",
    "    activation2.forward(dense2.outputs)\n",
    "\n",
    "    loss = loss_function.calculate(y_true=y, y_pred=activation2.outputs)\n",
    "\n",
    "    predictions = np.argmax(activation2.outputs, axis=1)\n",
    "    accuracy = np.mean(predictions == y)\n",
    "\n",
    "    if not epoch % 1000:\n",
    "        print(f\"epoch: {epoch}, \" +\n",
    "              f\"acc: {accuracy:.3f}, \" +\n",
    "              f\"loss: {loss:.3f}, \" +\n",
    "              f\"lr: {optimizer.current_learning_rate}\")\n",
    "\n",
    "    loss_function.backward(activation2.outputs, y)\n",
    "    activation2.backward(loss_function.dinputs)\n",
    "    dense2.backward(activation2.dinputs)\n",
    "    activation1.backward(dense2.dinputs)\n",
    "    dense1.backward(activation1.dinputs)\n",
    "\n",
    "    optimizer.pre_update_params()\n",
    "    optimizer.update_params(dense1)\n",
    "    optimizer.update_params(dense2)\n",
    "    optimizer.post_update_params()"
   ]
  },
  {
   "cell_type": "markdown",
   "metadata": {},
   "source": [
    "### Testing\n",
    "\n",
    "Performance of the last model."
   ]
  },
  {
   "cell_type": "code",
   "execution_count": null,
   "metadata": {},
   "outputs": [
    {
     "name": "stdout",
     "output_type": "stream",
     "text": [
      "validation -> acc: 0.753, loss: 0.700\n"
     ]
    }
   ],
   "source": [
    "X_test, y_test = spiral_data(n_samples=100, n_classes=3)\n",
    "\n",
    "dense1.forward(X_test)\n",
    "activation1.forward(dense1.outputs)\n",
    "dense2.forward(activation1.outputs)\n",
    "activation2.forward(dense2.outputs)\n",
    "\n",
    "loss = loss_function.calculate(y_true=y_test, y_pred=activation2.outputs)\n",
    "\n",
    "predictions = np.argmax(activation2.outputs, axis=1)\n",
    "accuracy = np.mean(predictions == y_test)\n",
    "\n",
    "print(f\"validation -> \" + f\"acc: {accuracy:.3f}, \" + f\"loss: {loss:.3f}\")"
   ]
  },
  {
   "cell_type": "markdown",
   "metadata": {},
   "source": [
    "## Regularization"
   ]
  },
  {
   "cell_type": "markdown",
   "metadata": {},
   "source": [
    "### L1 and L2 Regularization"
   ]
  },
  {
   "cell_type": "code",
   "execution_count": null,
   "metadata": {},
   "outputs": [
    {
     "name": "stdout",
     "output_type": "stream",
     "text": [
      "epoch: 0, acc: 0.287, loss: 1.104, (data loss:1.103, reg loss:0.001), lr: 0.02\n",
      "epoch: 1000, acc: 0.917, loss: 0.396, (data loss:0.233, reg loss:0.163), lr: 0.019990014987513734\n",
      "epoch: 2000, acc: 0.933, loss: 0.325, (data loss:0.189, reg loss:0.136), lr: 0.019980029960054924\n",
      "epoch: 3000, acc: 0.933, loss: 0.291, (data loss:0.170, reg loss:0.120), lr: 0.01997005490267344\n",
      "epoch: 4000, acc: 0.937, loss: 0.265, (data loss:0.155, reg loss:0.110), lr: 0.019960089800444013\n",
      "epoch: 5000, acc: 0.940, loss: 0.248, (data loss:0.146, reg loss:0.102), lr: 0.01995013463847114\n",
      "epoch: 6000, acc: 0.947, loss: 0.235, (data loss:0.139, reg loss:0.096), lr: 0.019940189401889033\n",
      "epoch: 7000, acc: 0.947, loss: 0.225, (data loss:0.134, reg loss:0.091), lr: 0.019930254075861523\n",
      "epoch: 8000, acc: 0.947, loss: 0.215, (data loss:0.128, reg loss:0.087), lr: 0.019920328645581995\n",
      "epoch: 9000, acc: 0.960, loss: 0.208, (data loss:0.124, reg loss:0.084), lr: 0.019910413096273318\n",
      "epoch: 10000, acc: 0.943, loss: 0.203, (data loss:0.123, reg loss:0.081), lr: 0.019900507413187767\n"
     ]
    }
   ],
   "source": [
    "X, y = spiral_data(n_samples=100, n_classes=3)\n",
    "\n",
    "dense1 = Dense(64, n_inputs=2, l2_w=5e-4, l2_b=5e-4)\n",
    "activation1 = ReLU()\n",
    "dense2 = Dense(3, n_inputs=64)\n",
    "activation2 = Softmax()\n",
    "\n",
    "loss_function = SparseCategoricalCrossentropy()\n",
    "\n",
    "optimizer = Adam(learning_rate=0.02, decay=5e-7)\n",
    "\n",
    "for epoch in range(10001):\n",
    "    dense1.forward(X)\n",
    "    activation1.forward(dense1.outputs)\n",
    "    dense2.forward(activation1.outputs)\n",
    "    activation2.forward(dense2.outputs)\n",
    "\n",
    "    data_loss = loss_function.calculate(y_true=y, y_pred=activation2.outputs)\n",
    "    regularization_loss = loss_function.regularization_loss(dense1) + loss_function.regularization_loss(dense2)\n",
    "    loss = data_loss + regularization_loss\n",
    "\n",
    "    predictions = np.argmax(activation2.outputs, axis=1)\n",
    "    accuracy = np.mean(predictions == y)\n",
    "\n",
    "    if not epoch % 1000:\n",
    "        print(f\"epoch: {epoch}, \" +\n",
    "              f\"acc: {accuracy:.3f}, \" +\n",
    "              f\"loss: {loss:.3f}, (data loss: {data_loss:.3f}, reg loss: {regularization_loss:.3f}), \" +\n",
    "              f\"lr: {optimizer.current_learning_rate}\")\n",
    "\n",
    "    loss_function.backward(activation2.outputs, y)\n",
    "    activation2.backward(loss_function.dinputs)\n",
    "    dense2.backward(activation2.dinputs)\n",
    "    activation1.backward(dense2.dinputs)\n",
    "    dense1.backward(activation1.dinputs)\n",
    "\n",
    "    optimizer.pre_update_params()\n",
    "    optimizer.update_params(dense1)\n",
    "    optimizer.update_params(dense2)\n",
    "    optimizer.post_update_params()\n"
   ]
  },
  {
   "cell_type": "markdown",
   "metadata": {},
   "source": [
    "### Testing\n",
    "\n",
    "Performance of the last model."
   ]
  },
  {
   "cell_type": "code",
   "execution_count": null,
   "metadata": {},
   "outputs": [
    {
     "name": "stdout",
     "output_type": "stream",
     "text": [
      "validation -> acc: 0.857, loss: 0.405\n"
     ]
    }
   ],
   "source": [
    "X_test, y_test = spiral_data(n_samples=100, n_classes=3)\n",
    "\n",
    "dense1.forward(X_test)\n",
    "activation1.forward(dense1.outputs)\n",
    "dense2.forward(activation1.outputs)\n",
    "activation2.forward(dense2.outputs)\n",
    "\n",
    "loss = loss_function.calculate(y_true=y_test, y_pred=activation2.outputs)\n",
    "\n",
    "predictions = np.argmax(activation2.outputs, axis=1)\n",
    "accuracy = np.mean(predictions == y_test)\n",
    "\n",
    "print(f\"validation -> \" + f\"acc: {accuracy:.3f}, \" + f\"loss: {loss:.3f}\")"
   ]
  },
  {
   "cell_type": "markdown",
   "metadata": {},
   "source": [
    "### Dropout Layer"
   ]
  },
  {
   "cell_type": "code",
   "execution_count": null,
   "metadata": {},
   "outputs": [
    {
     "name": "stdout",
     "output_type": "stream",
     "text": [
      "epoch: 0, acc: 0.333, loss: 1.100, (data loss:1.099, reg loss:0.001), lr: 0.05\n",
      "epoch: 1000, acc: 0.690, loss: 0.966, (data loss:0.711, reg loss:0.255), lr: 0.03334444814938313\n",
      "epoch: 2000, acc: 0.737, loss: 0.919, (data loss:0.627, reg loss:0.293), lr: 0.025006251562890724\n",
      "epoch: 3000, acc: 0.720, loss: 0.905, (data loss:0.599, reg loss:0.305), lr: 0.02000400080016003\n",
      "epoch: 4000, acc: 0.740, loss: 0.860, (data loss:0.548, reg loss:0.312), lr: 0.01666944490748458\n",
      "epoch: 5000, acc: 0.737, loss: 0.929, (data loss:0.608, reg loss:0.320), lr: 0.014287755393627663\n",
      "epoch: 6000, acc: 0.753, loss: 0.862, (data loss:0.534, reg loss:0.327), lr: 0.012501562695336917\n",
      "epoch: 7000, acc: 0.710, loss: 0.910, (data loss:0.583, reg loss:0.327), lr: 0.0111123458162018\n",
      "epoch: 8000, acc: 0.707, loss: 0.946, (data loss:0.615, reg loss:0.331), lr: 0.010001000100010001\n",
      "epoch: 9000, acc: 0.747, loss: 0.952, (data loss:0.618, reg loss:0.335), lr: 0.009091735612328393\n",
      "epoch: 10000, acc: 0.740, loss: 0.906, (data loss:0.568, reg loss:0.338), lr: 0.008334027835652971\n"
     ]
    }
   ],
   "source": [
    "from src.layers import Dropout\n",
    "\n",
    "X, y = spiral_data(n_samples=100, n_classes=3)\n",
    "\n",
    "dense1 = Dense(64, n_inputs=2, l2_w=5e-4, l2_b=5e-4)\n",
    "activation1 = ReLU()\n",
    "dropout = Dropout(0.1)\n",
    "dense2 = Dense(3, n_inputs=64)\n",
    "activation2 = Softmax()\n",
    "\n",
    "loss_function = SparseCategoricalCrossentropy()\n",
    "\n",
    "optimizer = Adam(learning_rate=0.05, decay=5e-4)\n",
    "\n",
    "for epoch in range(10001):\n",
    "    dense1.forward(X)\n",
    "    activation1.forward(dense1.outputs)\n",
    "    dropout.forward(activation1.outputs)\n",
    "    dense2.forward(dropout.outputs)\n",
    "    activation2.forward(dense2.outputs)\n",
    "\n",
    "    data_loss = loss_function.calculate(y_true=y, y_pred=activation2.outputs)\n",
    "    regularization_loss = loss_function.regularization_loss(dense1) + loss_function.regularization_loss(dense2)\n",
    "    loss = data_loss + regularization_loss\n",
    "\n",
    "    predictions = np.argmax(activation2.outputs, axis=1)\n",
    "    accuracy = np.mean(predictions == y)\n",
    "\n",
    "    if not epoch % 1000:\n",
    "        print(f\"epoch: {epoch}, \" +\n",
    "              f\"acc: {accuracy:.3f}, \" +\n",
    "              f\"loss: {loss:.3f}, (data loss: {data_loss:.3f}, reg loss: {regularization_loss:.3f}), \" +\n",
    "              f\"lr: {optimizer.current_learning_rate}\")\n",
    "\n",
    "    loss_function.backward(activation2.outputs, y)\n",
    "    activation2.backward(loss_function.dinputs)\n",
    "    dense2.backward(activation2.dinputs)\n",
    "    activation1.backward(dense2.dinputs)\n",
    "    dense1.backward(activation1.dinputs)\n",
    "\n",
    "    optimizer.pre_update_params()\n",
    "    optimizer.update_params(dense1)\n",
    "    optimizer.update_params(dense2)\n",
    "    optimizer.post_update_params()"
   ]
  },
  {
   "cell_type": "markdown",
   "metadata": {},
   "source": [
    "### Testing\n",
    "\n",
    "Performance of the last model."
   ]
  },
  {
   "cell_type": "code",
   "execution_count": null,
   "metadata": {},
   "outputs": [
    {
     "name": "stdout",
     "output_type": "stream",
     "text": [
      "validation -> acc: 0.760, loss: 0.647\n"
     ]
    }
   ],
   "source": [
    "X_test, y_test = spiral_data(n_samples=100, n_classes=3)\n",
    "\n",
    "dense1.forward(X_test)\n",
    "activation1.forward(dense1.outputs)\n",
    "dense2.forward(activation1.outputs)\n",
    "activation2.forward(dense2.outputs)\n",
    "\n",
    "loss = loss_function.calculate(y_true=y_test, y_pred=activation2.outputs)\n",
    "\n",
    "predictions = np.argmax(activation2.outputs, axis=1)\n",
    "accuracy = np.mean(predictions == y_test)\n",
    "\n",
    "print(f\"validation -> \" + f\"acc: {accuracy:.3f}, \" + f\"loss: {loss:.3f}\")"
   ]
  },
  {
   "cell_type": "markdown",
   "metadata": {},
   "source": [
    "## Binary Logistic Regression"
   ]
  },
  {
   "cell_type": "code",
   "execution_count": 18,
   "metadata": {},
   "outputs": [
    {
     "name": "stdout",
     "output_type": "stream",
     "text": [
      "epoch: 0, acc: 0.500, loss: 0.693, (data loss:0.693, reg loss:0.001), lr: 0.001\n",
      "epoch: 1000, acc: 0.705, loss: 0.600, (data loss:0.583, reg loss:0.017), lr: 0.0006668889629876625\n",
      "epoch: 2000, acc: 0.780, loss: 0.537, (data loss:0.493, reg loss:0.045), lr: 0.0005001250312578144\n",
      "epoch: 3000, acc: 0.805, loss: 0.504, (data loss:0.442, reg loss:0.061), lr: 0.0004000800160032006\n",
      "epoch: 4000, acc: 0.840, loss: 0.468, (data loss:0.395, reg loss:0.073), lr: 0.0003333888981496916\n",
      "epoch: 5000, acc: 0.870, loss: 0.429, (data loss:0.346, reg loss:0.084), lr: 0.00028575510787255323\n",
      "epoch: 6000, acc: 0.935, loss: 0.400, (data loss:0.308, reg loss:0.092), lr: 0.0002500312539067383\n",
      "epoch: 7000, acc: 0.940, loss: 0.380, (data loss:0.280, reg loss:0.100), lr: 0.000222246916324036\n",
      "epoch: 8000, acc: 0.940, loss: 0.363, (data loss:0.257, reg loss:0.107), lr: 0.00020002000200020003\n",
      "epoch: 9000, acc: 0.950, loss: 0.349, (data loss:0.238, reg loss:0.112), lr: 0.00018183471224656787\n",
      "epoch: 10000, acc: 0.950, loss: 0.339, (data loss:0.222, reg loss:0.116), lr: 0.0001666805567130594\n"
     ]
    }
   ],
   "source": [
    "from src.layers import Sigmoid\n",
    "from src.losses import BinaryCrossentropy\n",
    "\n",
    "X, y = spiral_data(n_samples=100, n_classes=2)\n",
    "y = y.reshape(-1, 1)\n",
    "\n",
    "dense1 = Dense(64, n_inputs=2, l2_w=5e-4, l2_b=5e-4)\n",
    "activation1 = ReLU()\n",
    "dense2 = Dense(1, n_inputs=64)\n",
    "activation2 = Sigmoid()\n",
    "\n",
    "loss_function = BinaryCrossentropy()\n",
    "\n",
    "optimizer = Adam(decay=5e-4)\n",
    "\n",
    "for epoch in range(10001):\n",
    "    dense1.forward(X)\n",
    "    activation1.forward(dense1.outputs)\n",
    "    dense2.forward(activation1.outputs)\n",
    "    activation2.forward(dense2.outputs)\n",
    "\n",
    "    data_loss = loss_function.calculate(y_true=y, y_pred=activation2.outputs)\n",
    "    regularization_loss = loss_function.regularization_loss(dense1) + loss_function.regularization_loss(dense2)\n",
    "    loss = data_loss + regularization_loss\n",
    "\n",
    "    predictions = (activation2.outputs > 0.5) * 1\n",
    "    accuracy = np.mean(predictions == y)\n",
    "\n",
    "    if not epoch % 1000:\n",
    "        print(f\"epoch: {epoch}, \" +\n",
    "              f\"acc: {accuracy:.3f}, \" +\n",
    "              f\"loss: {loss:.3f}, (data loss: {data_loss:.3f}, reg loss: {regularization_loss:.3f}), \" +\n",
    "              f\"lr: {optimizer.current_learning_rate}\")\n",
    "        \n",
    "    loss_function.backward(activation2.outputs, y)\n",
    "    activation2.backward(loss_function.dinputs)\n",
    "    dense2.backward(activation2.dinputs)\n",
    "    activation1.backward(dense2.dinputs)\n",
    "    dense1.backward(activation1.dinputs)\n",
    "\n",
    "    optimizer.pre_update_params()\n",
    "    optimizer.update_params(dense1)\n",
    "    optimizer.update_params(dense2)\n",
    "    optimizer.post_update_params()"
   ]
  },
  {
   "cell_type": "markdown",
   "metadata": {},
   "source": [
    "### Testing\n",
    "\n",
    "Performance of the last model."
   ]
  },
  {
   "cell_type": "code",
   "execution_count": 21,
   "metadata": {},
   "outputs": [
    {
     "name": "stdout",
     "output_type": "stream",
     "text": [
      "validation -> acc: 0.900, loss: 0.311\n"
     ]
    }
   ],
   "source": [
    "X_test, y_test = spiral_data(n_samples=100, n_classes=2)\n",
    "y_test = y_test.reshape(-1, 1)\n",
    "\n",
    "dense1.forward(X_test)\n",
    "activation1.forward(dense1.outputs)\n",
    "dense2.forward(activation1.outputs)\n",
    "activation2.forward(dense2.outputs)\n",
    "\n",
    "loss = loss_function.calculate(y_true=y_test, y_pred=activation2.outputs)\n",
    "\n",
    "predictions = (activation2.outputs > 0.5) * 1\n",
    "accuracy = np.mean(predictions == y_test)\n",
    "\n",
    "print(f\"validation -> \" + f\"acc: {accuracy:.3f}, \" + f\"loss: {loss:.3f}\")"
   ]
  }
 ],
 "metadata": {
  "kernelspec": {
   "display_name": "venv",
   "language": "python",
   "name": "python3"
  },
  "language_info": {
   "codemirror_mode": {
    "name": "ipython",
    "version": 3
   },
   "file_extension": ".py",
   "mimetype": "text/x-python",
   "name": "python",
   "nbconvert_exporter": "python",
   "pygments_lexer": "ipython3",
   "version": "3.9.5"
  }
 },
 "nbformat": 4,
 "nbformat_minor": 2
}
