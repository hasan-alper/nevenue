{
 "cells": [
  {
   "cell_type": "markdown",
   "metadata": {},
   "source": [
    "# Test Notebook"
   ]
  },
  {
   "cell_type": "markdown",
   "metadata": {},
   "source": [
    "## Forward Pass"
   ]
  },
  {
   "cell_type": "markdown",
   "metadata": {},
   "source": [
    "### Example Dataset"
   ]
  },
  {
   "cell_type": "code",
   "execution_count": 1,
   "metadata": {},
   "outputs": [],
   "source": [
    "X = [[2.0, 3.0, 5.0, 9.0],\n",
    "     [1.5, 3.5, 4.5, 8.5],\n",
    "     [2.5, 3.0, 1.0, 4.0]]\n",
    "\n",
    "y_sparse = [2, 0, 1]\n",
    "y_onehot = [[0, 0, 1], [1, 0, 0], [0, 1, 0]]"
   ]
  },
  {
   "cell_type": "markdown",
   "metadata": {},
   "source": [
    "### Simple Dense Model"
   ]
  },
  {
   "cell_type": "code",
   "execution_count": 2,
   "metadata": {},
   "outputs": [],
   "source": [
    "from src.layers import Dense, ReLU, Softmax\n",
    "from src.losses import CategoricalCrossentropy, SparseCategoricalCrossentropy\n",
    "\n",
    "dense1 = Dense(6, n_inputs=4)\n",
    "activation1 = ReLU()\n",
    "dense2 = Dense(3, n_inputs=6)\n",
    "activation2 = Softmax()\n",
    "\n",
    "loss_function1 = CategoricalCrossentropy()\n",
    "loss_function2 = SparseCategoricalCrossentropy()\n",
    "\n",
    "dense1.forward(X)\n",
    "activation1.forward(dense1.outputs)\n",
    "dense2.forward(activation1.outputs)\n",
    "activation2.forward(dense2.outputs)\n",
    "\n",
    "loss1 = loss_function1.calculate(y_onehot, activation2.outputs)\n",
    "loss2 = loss_function2.calculate(y_sparse, activation2.outputs)\n"
   ]
  },
  {
   "cell_type": "markdown",
   "metadata": {},
   "source": [
    "### Weights and biases\n",
    "\n",
    "Parameters after one iteration."
   ]
  },
  {
   "cell_type": "markdown",
   "metadata": {},
   "source": [
    "**Dense 1 (6 neurons, 4 inputs)**"
   ]
  },
  {
   "cell_type": "code",
   "execution_count": 3,
   "metadata": {},
   "outputs": [
    {
     "name": "stdout",
     "output_type": "stream",
     "text": [
      "Inputs:\n",
      "[[2.  3.  5.  9. ]\n",
      " [1.5 3.5 4.5 8.5]\n",
      " [2.5 3.  1.  4. ]]\n",
      "\n",
      "Weights:\n",
      "[[-0.1093212  -0.01052544  0.09103704  0.11434726]\n",
      " [ 0.11170012 -0.08992451  0.06843326 -0.06675159]\n",
      " [-0.13125935 -0.03477549 -0.04944095 -0.09370033]\n",
      " [ 0.1771584  -0.14039332  0.06789722  0.0831771 ]\n",
      " [-0.16509689 -0.00055295  0.06212483  0.08690072]\n",
      " [-0.18738328 -0.07983817  0.04304449 -0.10378145]]\n",
      "\n",
      "Biases:\n",
      "[0. 0. 0. 0. 0. 0.]\n",
      "\n",
      "Outputs:\n",
      "[[ 1.23409185 -0.30497131 -1.45735296  1.02121686  0.760878   -1.3330917 ]\n",
      " [ 1.18079758 -0.40662445 -1.33754039  0.78690384  0.7686372  -1.24895066]\n",
      " [ 0.24354676 -0.18909632 -0.85671715  0.42232166 -0.00467338 -1.08005402]]\n",
      "\n"
     ]
    }
   ],
   "source": [
    "dense1.info()"
   ]
  },
  {
   "cell_type": "markdown",
   "metadata": {},
   "source": [
    "**Activation 1 (ReLU)**"
   ]
  },
  {
   "cell_type": "code",
   "execution_count": 4,
   "metadata": {},
   "outputs": [
    {
     "name": "stdout",
     "output_type": "stream",
     "text": [
      "Inputs:\n",
      "[[ 1.23409185 -0.30497131 -1.45735296  1.02121686  0.760878   -1.3330917 ]\n",
      " [ 1.18079758 -0.40662445 -1.33754039  0.78690384  0.7686372  -1.24895066]\n",
      " [ 0.24354676 -0.18909632 -0.85671715  0.42232166 -0.00467338 -1.08005402]]\n",
      "\n",
      "Outputs:\n",
      "[[1.23409185 0.         0.         1.02121686 0.760878   0.        ]\n",
      " [1.18079758 0.         0.         0.78690384 0.7686372  0.        ]\n",
      " [0.24354676 0.         0.         0.42232166 0.         0.        ]]\n",
      "\n"
     ]
    }
   ],
   "source": [
    "activation1.info()"
   ]
  },
  {
   "cell_type": "markdown",
   "metadata": {},
   "source": [
    "**Dense 2 (3 neurons, 6 inputs)**"
   ]
  },
  {
   "cell_type": "code",
   "execution_count": 5,
   "metadata": {},
   "outputs": [
    {
     "name": "stdout",
     "output_type": "stream",
     "text": [
      "Inputs:\n",
      "[[1.23409185 0.         0.         1.02121686 0.760878   0.        ]\n",
      " [1.18079758 0.         0.         0.78690384 0.7686372  0.        ]\n",
      " [0.24354676 0.         0.         0.42232166 0.         0.        ]]\n",
      "\n",
      "Weights:\n",
      "[[ 0.16865887 -0.09890124 -0.02046217 -0.09549543  0.01848868 -0.0233542 ]\n",
      " [-0.07200502  0.09170328  0.17243901 -0.02448305 -0.02802372  0.13223072]\n",
      " [ 0.18289628  0.08533753 -0.02383854 -0.17355777  0.08803061  0.03247667]]\n",
      "\n",
      "Biases:\n",
      "[0. 0. 0.]\n",
      "\n",
      "Outputs:\n",
      "[[ 0.12468664 -0.13518594  0.11545124]\n",
      " [ 0.13821736 -0.12582923  0.14705381]\n",
      " [ 0.00074654 -0.02787631 -0.02875341]]\n",
      "\n"
     ]
    }
   ],
   "source": [
    "dense2.info()"
   ]
  },
  {
   "cell_type": "markdown",
   "metadata": {},
   "source": [
    "**Activation 2 (Softmax)**"
   ]
  },
  {
   "cell_type": "code",
   "execution_count": 6,
   "metadata": {},
   "outputs": [
    {
     "name": "stdout",
     "output_type": "stream",
     "text": [
      "Inputs:\n",
      "[[ 0.12468664 -0.13518594  0.11545124]\n",
      " [ 0.13821736 -0.12582923  0.14705381]\n",
      " [ 0.00074654 -0.02787631 -0.02875341]]\n",
      "\n",
      "Outputs:\n",
      "[[0.36206212 0.27920415 0.35873373]\n",
      " [0.36012503 0.27655361 0.36332136]\n",
      " [0.33982237 0.33023357 0.32994405]]\n",
      "\n"
     ]
    }
   ],
   "source": [
    "activation2.info()"
   ]
  },
  {
   "cell_type": "markdown",
   "metadata": {},
   "source": [
    "### Loss\n",
    "\n",
    "* loss1: CategoricalCrossentropy\n",
    "* loss2: SparseCategoricalCrossentropy"
   ]
  },
  {
   "cell_type": "code",
   "execution_count": 7,
   "metadata": {},
   "outputs": [
    {
     "data": {
      "text/plain": [
       "(1.0514779805632493, 1.0514779805632493)"
      ]
     },
     "execution_count": 7,
     "metadata": {},
     "output_type": "execute_result"
    }
   ],
   "source": [
    "loss1, loss2"
   ]
  },
  {
   "cell_type": "markdown",
   "metadata": {},
   "source": [
    "## Visualize datasets"
   ]
  },
  {
   "cell_type": "markdown",
   "metadata": {},
   "source": [
    "### Spiral Data"
   ]
  },
  {
   "cell_type": "code",
   "execution_count": 8,
   "metadata": {},
   "outputs": [
    {
     "data": {
      "text/plain": [
       "<matplotlib.collections.PathCollection at 0x7fe5f10b1e80>"
      ]
     },
     "execution_count": 8,
     "metadata": {},
     "output_type": "execute_result"
    },
    {
     "data": {
      "image/png": "[encoded data removed]",
      "text/plain": [
       "<Figure size 640x480 with 1 Axes>"
      ]
     },
     "metadata": {},
     "output_type": "display_data"
    }
   ],
   "source": [
    "import matplotlib.pyplot as plt\n",
    "from src.datasets import spiral_data\n",
    "\n",
    "X, y = spiral_data(n_samples=100, n_classes=3)\n",
    "\n",
    "plt.scatter(X[:, 0], X[:, 1], c=y)"
   ]
  },
  {
   "cell_type": "markdown",
   "metadata": {},
   "source": [
    "### Vertical Data"
   ]
  },
  {
   "cell_type": "code",
   "execution_count": 9,
   "metadata": {},
   "outputs": [
    {
     "data": {
      "text/plain": [
       "<matplotlib.collections.PathCollection at 0x7fe61068a460>"
      ]
     },
     "execution_count": 9,
     "metadata": {},
     "output_type": "execute_result"
    },
    {
     "data": {
      "image/png": "[encoded data removed]",
      "text/plain": [
       "<Figure size 640x480 with 1 Axes>"
      ]
     },
     "metadata": {},
     "output_type": "display_data"
    }
   ],
   "source": [
    "from src.datasets import vertical_data\n",
    "\n",
    "X, y = vertical_data(n_samples=100, n_classes=3)\n",
    "\n",
    "plt.scatter(X[:, 0], X[:, 1], c=y)"
   ]
  },
  {
   "cell_type": "markdown",
   "metadata": {},
   "source": [
    "## Backward Pass"
   ]
  },
  {
   "cell_type": "markdown",
   "metadata": {},
   "source": [
    "### Simple Dense Model\n",
    "One forward and one backward."
   ]
  },
  {
   "cell_type": "code",
   "execution_count": 10,
   "metadata": {},
   "outputs": [
    {
     "name": "stdout",
     "output_type": "stream",
     "text": [
      "loss: 1.099338213056398\n",
      "acc: 0.2966666666666667\n"
     ]
    }
   ],
   "source": [
    "import numpy as np\n",
    "\n",
    "X, y = spiral_data(n_samples=100, n_classes=3)\n",
    "\n",
    "dense1 = Dense(4, n_inputs=2)\n",
    "activation1 = ReLU()\n",
    "dense2 = Dense(3, n_inputs=4)\n",
    "activation2 = Softmax()\n",
    "loss_function = SparseCategoricalCrossentropy()\n",
    "\n",
    "dense1.forward(X)\n",
    "activation1.forward(dense1.outputs)\n",
    "dense2.forward(activation1.outputs)\n",
    "activation2.forward(dense2.outputs)\n",
    "\n",
    "loss = loss_function.calculate(y_true=y, y_pred=activation2.outputs)\n",
    "print(\"loss:\", loss)\n",
    "\n",
    "predictions = np.argmax(activation2.outputs, axis=1)\n",
    "accuracy = np.mean(predictions == y)\n",
    "print(\"acc:\", accuracy)\n",
    "\n",
    "loss_function.backward(activation2.outputs, y)\n",
    "activation2.backward(loss_function.dinputs)\n",
    "dense2.backward(activation2.dinputs)\n",
    "activation1.backward(dense2.dinputs)\n",
    "dense1.backward(activation1.dinputs)"
   ]
  },
  {
   "cell_type": "markdown",
   "metadata": {},
   "source": [
    "### Gradients\n",
    "\n",
    "Calculated gradients after one iteration."
   ]
  },
  {
   "cell_type": "markdown",
   "metadata": {},
   "source": [
    "**Dense 1 Weight Gradient**"
   ]
  },
  {
   "cell_type": "code",
   "execution_count": 11,
   "metadata": {},
   "outputs": [
    {
     "data": {
      "text/plain": [
       "array([[ 0.00119134, -0.00101437],\n",
       "       [ 0.00152705, -0.00212519],\n",
       "       [ 0.00079484, -0.00269519],\n",
       "       [-0.00094144, -0.0020349 ]])"
      ]
     },
     "execution_count": 11,
     "metadata": {},
     "output_type": "execute_result"
    }
   ],
   "source": [
    "dense1.dweights"
   ]
  },
  {
   "cell_type": "markdown",
   "metadata": {},
   "source": [
    "**Dense 1 Bias Gradient**"
   ]
  },
  {
   "cell_type": "code",
   "execution_count": 12,
   "metadata": {},
   "outputs": [
    {
     "data": {
      "text/plain": [
       "array([0.00264258, 0.00570467, 0.00748894, 0.00781711])"
      ]
     },
     "execution_count": 12,
     "metadata": {},
     "output_type": "execute_result"
    }
   ],
   "source": [
    "dense1.dbiases"
   ]
  },
  {
   "cell_type": "markdown",
   "metadata": {},
   "source": [
    "**Dense 2 Weight Gradient**"
   ]
  },
  {
   "cell_type": "code",
   "execution_count": 13,
   "metadata": {},
   "outputs": [
    {
     "data": {
      "text/plain": [
       "array([[-0.00086864, -0.00225817, -0.00039028, -0.00207456],\n",
       "       [-0.00033891,  0.00086661,  0.00063583,  0.00325467],\n",
       "       [ 0.00120755,  0.00139156, -0.00024555, -0.0011801 ]])"
      ]
     },
     "execution_count": 13,
     "metadata": {},
     "output_type": "execute_result"
    }
   ],
   "source": [
    "dense2.dweights"
   ]
  },
  {
   "cell_type": "markdown",
   "metadata": {},
   "source": [
    "**Dense 2 Bias Gradient**"
   ]
  },
  {
   "cell_type": "code",
   "execution_count": 14,
   "metadata": {},
   "outputs": [
    {
     "data": {
      "text/plain": [
       "array([-0.00056008,  0.00199929, -0.00143921])"
      ]
     },
     "execution_count": 14,
     "metadata": {},
     "output_type": "execute_result"
    }
   ],
   "source": [
    "dense2.dbiases"
   ]
  },
  {
   "cell_type": "markdown",
   "metadata": {},
   "source": [
    "## Optimizing Parameters "
   ]
  },
  {
   "cell_type": "markdown",
   "metadata": {},
   "source": [
    "### SGD \n",
    "\n",
    "* Learning rate: 1.0\n",
    "* Decay: 0.0\n",
    "* Momentum: 0.0\n",
    "* Epoch: 10000"
   ]
  },
  {
   "cell_type": "code",
   "execution_count": 15,
   "metadata": {},
   "outputs": [
    {
     "name": "stdout",
     "output_type": "stream",
     "text": [
      "epoch: 0, acc: 0.367, loss: 1.100, lr: 1.0\n",
      "epoch: 1000, acc: 0.503, loss: 1.018, lr: 1.0\n",
      "epoch: 2000, acc: 0.507, loss: 0.966, lr: 1.0\n",
      "epoch: 3000, acc: 0.580, loss: 0.880, lr: 1.0\n",
      "epoch: 4000, acc: 0.627, loss: 0.792, lr: 1.0\n",
      "epoch: 5000, acc: 0.693, loss: 0.676, lr: 1.0\n",
      "epoch: 6000, acc: 0.703, loss: 0.670, lr: 1.0\n",
      "epoch: 7000, acc: 0.720, loss: 0.653, lr: 1.0\n",
      "epoch: 8000, acc: 0.737, loss: 0.629, lr: 1.0\n",
      "epoch: 9000, acc: 0.743, loss: 0.628, lr: 1.0\n",
      "epoch: 10000, acc: 0.580, loss: 1.038, lr: 1.0\n"
     ]
    }
   ],
   "source": [
    "from src.optimizers import SGD\n",
    "\n",
    "X, y = spiral_data(n_samples=100, n_classes=3)\n",
    "\n",
    "dense1 = Dense(64, n_inputs=2)\n",
    "activation1 = ReLU()\n",
    "dense2 = Dense(3, n_inputs=64)\n",
    "activation2 = Softmax()\n",
    "\n",
    "loss_function = SparseCategoricalCrossentropy()\n",
    "\n",
    "optimizer = SGD()\n",
    "\n",
    "for epoch in range(10001):\n",
    "    dense1.forward(X)\n",
    "    activation1.forward(dense1.outputs)\n",
    "    dense2.forward(activation1.outputs)\n",
    "    activation2.forward(dense2.outputs)\n",
    "\n",
    "    loss = loss_function.calculate(y_true=y, y_pred=activation2.outputs)\n",
    "\n",
    "    predictions = np.argmax(activation2.outputs, axis=1)\n",
    "    accuracy = np.mean(predictions == y)\n",
    "\n",
    "    if not epoch % 1000:\n",
    "        print(f\"epoch: {epoch}, \" +\n",
    "              f\"acc: {accuracy:.3f}, \" +\n",
    "              f\"loss: {loss:.3f}, \" +\n",
    "              f\"lr: {optimizer.current_learning_rate}\")\n",
    "\n",
    "    loss_function.backward(activation2.outputs, y)\n",
    "    activation2.backward(loss_function.dinputs)\n",
    "    dense2.backward(activation2.dinputs)\n",
    "    activation1.backward(dense2.dinputs)\n",
    "    dense1.backward(activation1.dinputs)\n",
    "\n",
    "    optimizer.update_params(dense1)\n",
    "    optimizer.update_params(dense2)"
   ]
  },
  {
   "cell_type": "markdown",
   "metadata": {},
   "source": [
    "### SGD \n",
    "\n",
    "* Learning rate: 1.0\n",
    "* **Decay: 0.001**\n",
    "* Momentum: 0.0\n",
    "* Epoch: 10000"
   ]
  },
  {
   "cell_type": "code",
   "execution_count": 16,
   "metadata": {},
   "outputs": [
    {
     "name": "stdout",
     "output_type": "stream",
     "text": [
      "epoch: 0, acc: 0.380, loss: 1.097, lr: 1.0\n",
      "epoch: 1000, acc: 0.480, loss: 1.013, lr: 0.5002501250625312\n",
      "epoch: 2000, acc: 0.533, loss: 0.969, lr: 0.33344448149383127\n",
      "epoch: 3000, acc: 0.583, loss: 0.911, lr: 0.25006251562890724\n",
      "epoch: 4000, acc: 0.610, loss: 0.859, lr: 0.2000400080016003\n",
      "epoch: 5000, acc: 0.643, loss: 0.814, lr: 0.16669444907484582\n",
      "epoch: 6000, acc: 0.683, loss: 0.778, lr: 0.1428775539362766\n",
      "epoch: 7000, acc: 0.680, loss: 0.743, lr: 0.12501562695336915\n",
      "epoch: 8000, acc: 0.703, loss: 0.712, lr: 0.11112345816201799\n",
      "epoch: 9000, acc: 0.713, loss: 0.685, lr: 0.1000100010001\n",
      "epoch: 10000, acc: 0.727, loss: 0.664, lr: 0.09091735612328393\n"
     ]
    }
   ],
   "source": [
    "X, y = spiral_data(n_samples=100, n_classes=3)\n",
    "\n",
    "dense1 = Dense(64, n_inputs=2)\n",
    "activation1 = ReLU()\n",
    "dense2 = Dense(3, n_inputs=64)\n",
    "activation2 = Softmax()\n",
    "\n",
    "loss_function = SparseCategoricalCrossentropy()\n",
    "\n",
    "optimizer = SGD(decay=0.001)\n",
    "\n",
    "for epoch in range(10001):\n",
    "    dense1.forward(X)\n",
    "    activation1.forward(dense1.outputs)\n",
    "    dense2.forward(activation1.outputs)\n",
    "    activation2.forward(dense2.outputs)\n",
    "\n",
    "    loss = loss_function.calculate(y_true=y, y_pred=activation2.outputs)\n",
    "\n",
    "    predictions = np.argmax(activation2.outputs, axis=1)\n",
    "    accuracy = np.mean(predictions == y)\n",
    "\n",
    "    if not epoch % 1000:\n",
    "        print(f\"epoch: {epoch}, \" +\n",
    "              f\"acc: {accuracy:.3f}, \" +\n",
    "              f\"loss: {loss:.3f}, \" +\n",
    "              f\"lr: {optimizer.current_learning_rate}\")\n",
    "\n",
    "    loss_function.backward(activation2.outputs, y)\n",
    "    activation2.backward(loss_function.dinputs)\n",
    "    dense2.backward(activation2.dinputs)\n",
    "    activation1.backward(dense2.dinputs)\n",
    "    dense1.backward(activation1.dinputs)\n",
    "\n",
    "    optimizer.pre_update_params()\n",
    "    optimizer.update_params(dense1)\n",
    "    optimizer.update_params(dense2)\n",
    "    optimizer.post_update_params()"
   ]
  },
  {
   "cell_type": "markdown",
   "metadata": {},
   "source": [
    "### SGD \n",
    "\n",
    "* Learning rate: 1.0\n",
    "* **Decay: 0.001**\n",
    "* **Momentum: 0.9**\n",
    "* Epoch: 10000"
   ]
  },
  {
   "cell_type": "code",
   "execution_count": 17,
   "metadata": {},
   "outputs": [
    {
     "name": "stdout",
     "output_type": "stream",
     "text": [
      "epoch: 0, acc: 0.270, loss: 1.104, lr: 1\n",
      "epoch: 1000, acc: 0.927, loss: 0.220, lr: 0.5002501250625312\n",
      "epoch: 2000, acc: 0.930, loss: 0.164, lr: 0.33344448149383127\n",
      "epoch: 3000, acc: 0.937, loss: 0.142, lr: 0.25006251562890724\n",
      "epoch: 4000, acc: 0.937, loss: 0.131, lr: 0.2000400080016003\n",
      "epoch: 5000, acc: 0.940, loss: 0.124, lr: 0.16669444907484582\n",
      "epoch: 6000, acc: 0.940, loss: 0.120, lr: 0.1428775539362766\n",
      "epoch: 7000, acc: 0.943, loss: 0.117, lr: 0.12501562695336915\n",
      "epoch: 8000, acc: 0.943, loss: 0.114, lr: 0.11112345816201799\n",
      "epoch: 9000, acc: 0.947, loss: 0.112, lr: 0.1000100010001\n",
      "epoch: 10000, acc: 0.947, loss: 0.111, lr: 0.09091735612328393\n"
     ]
    }
   ],
   "source": [
    "X, y = spiral_data(n_samples=100, n_classes=3)\n",
    "\n",
    "dense1 = Dense(64, n_inputs=2)\n",
    "activation1 = ReLU()\n",
    "dense2 = Dense(3, n_inputs=64)\n",
    "activation2 = Softmax()\n",
    "\n",
    "loss_function = SparseCategoricalCrossentropy()\n",
    "\n",
    "optimizer = SGD(learning_rate=1, decay=0.001, momentum=0.9)\n",
    "\n",
    "for epoch in range(10001):\n",
    "    dense1.forward(X)\n",
    "    activation1.forward(dense1.outputs)\n",
    "    dense2.forward(activation1.outputs)\n",
    "    activation2.forward(dense2.outputs)\n",
    "\n",
    "    loss = loss_function.calculate(y_true=y, y_pred=activation2.outputs)\n",
    "\n",
    "    predictions = np.argmax(activation2.outputs, axis=1)\n",
    "    accuracy = np.mean(predictions == y)\n",
    "\n",
    "    if not epoch % 1000:\n",
    "        print(f\"epoch: {epoch}, \" +\n",
    "              f\"acc: {accuracy:.3f}, \" +\n",
    "              f\"loss: {loss:.3f}, \" +\n",
    "              f\"lr: {optimizer.current_learning_rate}\")\n",
    "\n",
    "    loss_function.backward(activation2.outputs, y)\n",
    "    activation2.backward(loss_function.dinputs)\n",
    "    dense2.backward(activation2.dinputs)\n",
    "    activation1.backward(dense2.dinputs)\n",
    "    dense1.backward(activation1.dinputs)\n",
    "\n",
    "    optimizer.pre_update_params()\n",
    "    optimizer.update_params(dense1)\n",
    "    optimizer.update_params(dense2)\n",
    "    optimizer.post_update_params()"
   ]
  },
  {
   "cell_type": "markdown",
   "metadata": {},
   "source": [
    "### AdaGrad \n",
    "\n",
    "* Learning rate: 1.0\n",
    "* Decay: 0.0\n",
    "* Epsilon: 1e-7\n",
    "* Epoch: 10000"
   ]
  },
  {
   "cell_type": "code",
   "execution_count": 18,
   "metadata": {},
   "outputs": [
    {
     "name": "stdout",
     "output_type": "stream",
     "text": [
      "epoch: 0, acc: 0.363, loss: 1.099, lr: 1.0\n",
      "epoch: 1000, acc: 0.533, loss: 0.847, lr: 1.0\n",
      "epoch: 2000, acc: 0.630, loss: 0.769, lr: 1.0\n",
      "epoch: 3000, acc: 0.663, loss: 0.717, lr: 1.0\n",
      "epoch: 4000, acc: 0.630, loss: 0.685, lr: 1.0\n",
      "epoch: 5000, acc: 0.643, loss: 0.653, lr: 1.0\n",
      "epoch: 6000, acc: 0.683, loss: 0.635, lr: 1.0\n",
      "epoch: 7000, acc: 0.680, loss: 0.621, lr: 1.0\n",
      "epoch: 8000, acc: 0.707, loss: 0.615, lr: 1.0\n",
      "epoch: 9000, acc: 0.700, loss: 0.603, lr: 1.0\n",
      "epoch: 10000, acc: 0.697, loss: 0.589, lr: 1.0\n"
     ]
    }
   ],
   "source": [
    "from src.optimizers import AdaGrad\n",
    "\n",
    "X, y = spiral_data(n_samples=100, n_classes=3)\n",
    "\n",
    "dense1 = Dense(64, n_inputs=2)\n",
    "activation1 = ReLU()\n",
    "dense2 = Dense(3, n_inputs=64)\n",
    "activation2 = Softmax()\n",
    "\n",
    "loss_function = SparseCategoricalCrossentropy()\n",
    "\n",
    "optimizer = AdaGrad()\n",
    "for epoch in range(10001):\n",
    "    dense1.forward(X)\n",
    "    activation1.forward(dense1.outputs)\n",
    "    dense2.forward(activation1.outputs)\n",
    "    activation2.forward(dense2.outputs)\n",
    "\n",
    "    loss = loss_function.calculate(y_true=y, y_pred=activation2.outputs)\n",
    "\n",
    "    predictions = np.argmax(activation2.outputs, axis=1)\n",
    "    accuracy = np.mean(predictions == y)\n",
    "\n",
    "    if not epoch % 1000:\n",
    "        print(f\"epoch: {epoch}, \" +\n",
    "              f\"acc: {accuracy:.3f}, \" +\n",
    "              f\"loss: {loss:.3f}, \" +\n",
    "              f\"lr: {optimizer.current_learning_rate}\")\n",
    "\n",
    "    loss_function.backward(activation2.outputs, y)\n",
    "    activation2.backward(loss_function.dinputs)\n",
    "    dense2.backward(activation2.dinputs)\n",
    "    activation1.backward(dense2.dinputs)\n",
    "    dense1.backward(activation1.dinputs)\n",
    "\n",
    "    optimizer.pre_update_params()\n",
    "    optimizer.update_params(dense1)\n",
    "    optimizer.update_params(dense2)\n",
    "    optimizer.post_update_params()"
   ]
  },
  {
   "cell_type": "markdown",
   "metadata": {},
   "source": [
    "### RMSProp \n",
    "\n",
    "* Learning rate: 0.001\n",
    "* **Decay: 1e-4**\n",
    "* Epsilon: 1e-7\n",
    "* Rho: 0.9\n",
    "* Epoch: 10000"
   ]
  },
  {
   "cell_type": "code",
   "execution_count": 19,
   "metadata": {},
   "outputs": [
    {
     "name": "stdout",
     "output_type": "stream",
     "text": [
      "epoch: 0, acc: 0.323, loss: 1.098, lr: 0.001\n",
      "epoch: 1000, acc: 0.617, loss: 0.931, lr: 0.0009091735612328393\n",
      "epoch: 2000, acc: 0.690, loss: 0.792, lr: 0.0008334027835652972\n",
      "epoch: 3000, acc: 0.717, loss: 0.695, lr: 0.0007692899453804139\n",
      "epoch: 4000, acc: 0.750, loss: 0.625, lr: 0.0007143367383384526\n",
      "epoch: 5000, acc: 0.770, loss: 0.568, lr: 0.0006667111140742716\n",
      "epoch: 6000, acc: 0.800, loss: 0.514, lr: 0.0006250390649415589\n",
      "epoch: 7000, acc: 0.820, loss: 0.471, lr: 0.0005882698982293077\n",
      "epoch: 8000, acc: 0.843, loss: 0.438, lr: 0.0005555864214678594\n",
      "epoch: 9000, acc: 0.873, loss: 0.409, lr: 0.0005263434917627244\n",
      "epoch: 10000, acc: 0.880, loss: 0.383, lr: 0.0005000250012500625\n"
     ]
    }
   ],
   "source": [
    "from src.optimizers import RMSProp\n",
    "\n",
    "X, y = spiral_data(n_samples=100, n_classes=3)\n",
    "\n",
    "dense1 = Dense(64, n_inputs=2)\n",
    "activation1 = ReLU()\n",
    "dense2 = Dense(3, n_inputs=64)\n",
    "activation2 = Softmax()\n",
    "\n",
    "loss_function = SparseCategoricalCrossentropy()\n",
    "\n",
    "optimizer = RMSProp(decay=1e-4)\n",
    "\n",
    "for epoch in range(10001):\n",
    "    dense1.forward(X)\n",
    "    activation1.forward(dense1.outputs)\n",
    "    dense2.forward(activation1.outputs)\n",
    "    activation2.forward(dense2.outputs)\n",
    "\n",
    "    loss = loss_function.calculate(y_true=y, y_pred=activation2.outputs)\n",
    "\n",
    "    predictions = np.argmax(activation2.outputs, axis=1)\n",
    "    accuracy = np.mean(predictions == y)\n",
    "\n",
    "    if not epoch % 1000:\n",
    "        print(f\"epoch: {epoch}, \" +\n",
    "              f\"acc: {accuracy:.3f}, \" +\n",
    "              f\"loss: {loss:.3f}, \" +\n",
    "              f\"lr: {optimizer.current_learning_rate}\")\n",
    "\n",
    "    loss_function.backward(activation2.outputs, y)\n",
    "    activation2.backward(loss_function.dinputs)\n",
    "    dense2.backward(activation2.dinputs)\n",
    "    activation1.backward(dense2.dinputs)\n",
    "    dense1.backward(activation1.dinputs)\n",
    "\n",
    "    optimizer.pre_update_params()\n",
    "    optimizer.update_params(dense1)\n",
    "    optimizer.update_params(dense2)\n",
    "    optimizer.post_update_params()"
   ]
  },
  {
   "cell_type": "markdown",
   "metadata": {},
   "source": [
    "### Adam \n",
    "\n",
    "* Learning rate: 0.001\n",
    "* Decay: 0.0\n",
    "* Epsilon: 1e-7\n",
    "* Beta 1: 0.9\n",
    "* Beta 2: 0.999\n",
    "* Epoch: 10000"
   ]
  },
  {
   "cell_type": "code",
   "execution_count": 20,
   "metadata": {},
   "outputs": [
    {
     "name": "stdout",
     "output_type": "stream",
     "text": [
      "epoch: 0, acc: 0.333, loss: 1.098, lr: 0.001\n",
      "epoch: 1000, acc: 0.640, loss: 0.889, lr: 0.001\n",
      "epoch: 2000, acc: 0.783, loss: 0.610, lr: 0.001\n",
      "epoch: 3000, acc: 0.853, loss: 0.449, lr: 0.001\n",
      "epoch: 4000, acc: 0.910, loss: 0.335, lr: 0.001\n",
      "epoch: 5000, acc: 0.927, loss: 0.254, lr: 0.001\n",
      "epoch: 6000, acc: 0.927, loss: 0.204, lr: 0.001\n",
      "epoch: 7000, acc: 0.940, loss: 0.172, lr: 0.001\n",
      "epoch: 8000, acc: 0.947, loss: 0.150, lr: 0.001\n",
      "epoch: 9000, acc: 0.947, loss: 0.133, lr: 0.001\n",
      "epoch: 10000, acc: 0.950, loss: 0.122, lr: 0.001\n"
     ]
    }
   ],
   "source": [
    "from src.optimizers import Adam\n",
    "\n",
    "X, y = spiral_data(n_samples=100, n_classes=3)\n",
    "\n",
    "dense1 = Dense(64, n_inputs=2)\n",
    "activation1 = ReLU()\n",
    "dense2 = Dense(3, n_inputs=64)\n",
    "activation2 = Softmax()\n",
    "\n",
    "loss_function = SparseCategoricalCrossentropy()\n",
    "\n",
    "optimizer = Adam()\n",
    "\n",
    "for epoch in range(10001):\n",
    "    dense1.forward(X)\n",
    "    activation1.forward(dense1.outputs)\n",
    "    dense2.forward(activation1.outputs)\n",
    "    activation2.forward(dense2.outputs)\n",
    "\n",
    "    loss = loss_function.calculate(y_true=y, y_pred=activation2.outputs)\n",
    "\n",
    "    predictions = np.argmax(activation2.outputs, axis=1)\n",
    "    accuracy = np.mean(predictions == y)\n",
    "\n",
    "    if not epoch % 1000:\n",
    "        print(f\"epoch: {epoch}, \" +\n",
    "              f\"acc: {accuracy:.3f}, \" +\n",
    "              f\"loss: {loss:.3f}, \" +\n",
    "              f\"lr: {optimizer.current_learning_rate}\")\n",
    "\n",
    "    loss_function.backward(activation2.outputs, y)\n",
    "    activation2.backward(loss_function.dinputs)\n",
    "    dense2.backward(activation2.dinputs)\n",
    "    activation1.backward(dense2.dinputs)\n",
    "    dense1.backward(activation1.dinputs)\n",
    "\n",
    "    optimizer.pre_update_params()\n",
    "    optimizer.update_params(dense1)\n",
    "    optimizer.update_params(dense2)\n",
    "    optimizer.post_update_params()"
   ]
  },
  {
   "cell_type": "markdown",
   "metadata": {},
   "source": [
    "### Testing\n",
    "\n",
    "Performance of the last model."
   ]
  },
  {
   "cell_type": "code",
   "execution_count": 21,
   "metadata": {},
   "outputs": [
    {
     "name": "stdout",
     "output_type": "stream",
     "text": [
      "validation -> acc: 0.843, loss: 0.556\n"
     ]
    }
   ],
   "source": [
    "X_test, y_test = spiral_data(n_samples=100, n_classes=3)\n",
    "\n",
    "dense1.forward(X_test)\n",
    "activation1.forward(dense1.outputs)\n",
    "dense2.forward(activation1.outputs)\n",
    "activation2.forward(dense2.outputs)\n",
    "\n",
    "loss = loss_function.calculate(y_true=y_test, y_pred=activation2.outputs)\n",
    "\n",
    "predictions = np.argmax(activation2.outputs, axis=1)\n",
    "accuracy = np.mean(predictions == y_test)\n",
    "\n",
    "print(f\"validation -> \" + f\"acc: {accuracy:.3f}, \" + f\"loss: {loss:.3f}\")"
   ]
  },
  {
   "cell_type": "markdown",
   "metadata": {},
   "source": [
    "## Regularization"
   ]
  },
  {
   "cell_type": "code",
   "execution_count": 22,
   "metadata": {},
   "outputs": [
    {
     "name": "stdout",
     "output_type": "stream",
     "text": [
      "epoch: 0, acc: 0.357, loss: 1.098, (data loss:1.098, reg loss:0.001), lr: 0.02\n",
      "epoch: 1000, acc: 0.913, loss: 0.383, (data loss:0.233, reg loss:0.150), lr: 0.019990014987513734\n",
      "epoch: 2000, acc: 0.923, loss: 0.313, (data loss:0.186, reg loss:0.127), lr: 0.019980029960054924\n",
      "epoch: 3000, acc: 0.940, loss: 0.276, (data loss:0.164, reg loss:0.112), lr: 0.01997005490267344\n",
      "epoch: 4000, acc: 0.940, loss: 0.254, (data loss:0.151, reg loss:0.103), lr: 0.019960089800444013\n",
      "epoch: 5000, acc: 0.953, loss: 0.233, (data loss:0.137, reg loss:0.095), lr: 0.01995013463847114\n",
      "epoch: 6000, acc: 0.957, loss: 0.223, (data loss:0.127, reg loss:0.096), lr: 0.019940189401889033\n",
      "epoch: 7000, acc: 0.943, loss: 0.217, (data loss:0.127, reg loss:0.090), lr: 0.019930254075861523\n",
      "epoch: 8000, acc: 0.947, loss: 0.208, (data loss:0.121, reg loss:0.087), lr: 0.019920328645581995\n",
      "epoch: 9000, acc: 0.960, loss: 0.203, (data loss:0.120, reg loss:0.083), lr: 0.019910413096273318\n",
      "epoch: 10000, acc: 0.960, loss: 0.194, (data loss:0.110, reg loss:0.084), lr: 0.019900507413187767\n"
     ]
    }
   ],
   "source": [
    "X, y = spiral_data(n_samples=100, n_classes=3)\n",
    "\n",
    "dense1 = Dense(64, n_inputs=2, l2_w=5e-4, l2_b=5e-4)\n",
    "activation1 = ReLU()\n",
    "dense2 = Dense(3, n_inputs=64)\n",
    "activation2 = Softmax()\n",
    "\n",
    "loss_function = SparseCategoricalCrossentropy()\n",
    "\n",
    "optimizer = Adam(learning_rate=0.02, decay=5e-7)\n",
    "\n",
    "for epoch in range(10001):\n",
    "    dense1.forward(X)\n",
    "    activation1.forward(dense1.outputs)\n",
    "    dense2.forward(activation1.outputs)\n",
    "    activation2.forward(dense2.outputs)\n",
    "\n",
    "    data_loss = loss_function.calculate(y_true=y, y_pred=activation2.outputs)\n",
    "    regularization_loss = loss_function.regularization_loss(dense1) + loss_function.regularization_loss(dense2)\n",
    "    loss = data_loss + regularization_loss\n",
    "\n",
    "    predictions = np.argmax(activation2.outputs, axis=1)\n",
    "    accuracy = np.mean(predictions == y)\n",
    "\n",
    "    if not epoch % 1000:\n",
    "        print(f\"epoch: {epoch}, \" +\n",
    "              f\"acc: {accuracy:.3f}, \" +\n",
    "              f\"loss: {loss:.3f}, (data loss:{data_loss:.3f}, reg loss:{regularization_loss:.3f}), \" +\n",
    "              f\"lr: {optimizer.current_learning_rate}\")\n",
    "\n",
    "    loss_function.backward(activation2.outputs, y)\n",
    "    activation2.backward(loss_function.dinputs)\n",
    "    dense2.backward(activation2.dinputs)\n",
    "    activation1.backward(dense2.dinputs)\n",
    "    dense1.backward(activation1.dinputs)\n",
    "\n",
    "    optimizer.pre_update_params()\n",
    "    optimizer.update_params(dense1)\n",
    "    optimizer.update_params(dense2)\n",
    "    optimizer.post_update_params()\n"
   ]
  },
  {
   "cell_type": "markdown",
   "metadata": {},
   "source": [
    "### Testing\n",
    "\n",
    "Performance of the last model."
   ]
  },
  {
   "cell_type": "code",
   "execution_count": 23,
   "metadata": {},
   "outputs": [
    {
     "name": "stdout",
     "output_type": "stream",
     "text": [
      "validation -> acc: 0.853, loss: 0.512\n"
     ]
    }
   ],
   "source": [
    "X_test, y_test = spiral_data(n_samples=100, n_classes=3)\n",
    "\n",
    "dense1.forward(X_test)\n",
    "activation1.forward(dense1.outputs)\n",
    "dense2.forward(activation1.outputs)\n",
    "activation2.forward(dense2.outputs)\n",
    "\n",
    "loss = loss_function.calculate(y_true=y_test, y_pred=activation2.outputs)\n",
    "\n",
    "predictions = np.argmax(activation2.outputs, axis=1)\n",
    "accuracy = np.mean(predictions == y_test)\n",
    "\n",
    "print(f\"validation -> \" + f\"acc: {accuracy:.3f}, \" + f\"loss: {loss:.3f}\")"
   ]
  }
 ],
 "metadata": {
  "kernelspec": {
   "display_name": "venv",
   "language": "python",
   "name": "python3"
  },
  "language_info": {
   "codemirror_mode": {
    "name": "ipython",
    "version": 3
   },
   "file_extension": ".py",
   "mimetype": "text/x-python",
   "name": "python",
   "nbconvert_exporter": "python",
   "pygments_lexer": "ipython3",
   "version": "3.9.5"
  }
 },
 "nbformat": 4,
 "nbformat_minor": 2
}
