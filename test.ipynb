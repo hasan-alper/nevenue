{
 "cells": [
  {
   "cell_type": "markdown",
   "metadata": {},
   "source": [
    "# Test Notebook"
   ]
  },
  {
   "cell_type": "markdown",
   "metadata": {},
   "source": [
    "## Forward Pass"
   ]
  },
  {
   "cell_type": "markdown",
   "metadata": {},
   "source": [
    "### Example Dataset"
   ]
  },
  {
   "cell_type": "code",
   "execution_count": 1,
   "metadata": {},
   "outputs": [],
   "source": [
    "X = [[2.0, 3.0, 5.0, 9.0],\n",
    "     [1.5, 3.5, 4.5, 8.5],\n",
    "     [2.5, 3.0, 1.0, 4.0]]\n",
    "\n",
    "y_sparse = [2, 0, 1]\n",
    "y_onehot = [[0, 0, 1], [1, 0, 0], [0, 1, 0]]"
   ]
  },
  {
   "cell_type": "markdown",
   "metadata": {},
   "source": [
    "### Simple Dense Model"
   ]
  },
  {
   "cell_type": "code",
   "execution_count": 2,
   "metadata": {},
   "outputs": [],
   "source": [
    "from src.layers import Dense, ReLU, Softmax\n",
    "from src.losses import CategoricalCrossentropy, SparseCategoricalCrossentropy\n",
    "\n",
    "dense1 = Dense(6, n_inputs=4)\n",
    "activation1 = ReLU()\n",
    "dense2 = Dense(3, n_inputs=6)\n",
    "activation2 = Softmax()\n",
    "\n",
    "loss_function1 = CategoricalCrossentropy()\n",
    "loss_function2 = SparseCategoricalCrossentropy()\n",
    "\n",
    "dense1.forward(X)\n",
    "activation1.forward(dense1.outputs)\n",
    "dense2.forward(activation1.outputs)\n",
    "activation2.forward(dense2.outputs)\n",
    "\n",
    "loss1 = loss_function1.calculate(y_onehot, activation2.outputs)\n",
    "loss2 = loss_function2.calculate(y_sparse, activation2.outputs)\n"
   ]
  },
  {
   "cell_type": "markdown",
   "metadata": {},
   "source": [
    "### Weights and biases\n",
    "\n",
    "Parameters after one iteration."
   ]
  },
  {
   "cell_type": "markdown",
   "metadata": {},
   "source": [
    "**Dense 1 (6 neurons, 4 inputs)**"
   ]
  },
  {
   "cell_type": "code",
   "execution_count": 3,
   "metadata": {},
   "outputs": [
    {
     "name": "stdout",
     "output_type": "stream",
     "text": [
      "Inputs:\n",
      "[[2.  3.  5.  9. ]\n",
      " [1.5 3.5 4.5 8.5]\n",
      " [2.5 3.  1.  4. ]]\n",
      "\n",
      "Weights:\n",
      "[[-0.06034395 -0.02014535 -0.12821703  0.05859074]\n",
      " [ 0.08173596  0.05020243 -0.14215858  0.02144856]\n",
      " [-0.0681069   0.01246111 -0.00388374  0.03740159]\n",
      " [-0.14423931  0.08461345 -0.00497278  0.01912357]\n",
      " [-0.12015817 -0.0322316  -0.12715611 -0.11869491]\n",
      " [ 0.10259801  0.08572738  0.13256149 -0.02878768]]\n",
      "\n",
      "Biases:\n",
      "[0. 0. 0. 0. 0. 0.]\n",
      "\n",
      "Outputs:\n",
      "[[-0.29489246 -0.20367658  0.21836515  0.11260995 -2.04104585  0.8660965 ]\n",
      " [-0.23998001 -0.15908834  0.24189022  0.21996094 -1.87415706  0.80577428]\n",
      " [-0.10515     0.29858288  0.01283868 -0.03523641 -0.99902596  0.53108793]]\n",
      "\n"
     ]
    }
   ],
   "source": [
    "dense1.info()"
   ]
  },
  {
   "cell_type": "markdown",
   "metadata": {},
   "source": [
    "**Activation 1 (ReLU)**"
   ]
  },
  {
   "cell_type": "code",
   "execution_count": 4,
   "metadata": {},
   "outputs": [
    {
     "name": "stdout",
     "output_type": "stream",
     "text": [
      "Inputs:\n",
      "[[-0.29489246 -0.20367658  0.21836515  0.11260995 -2.04104585  0.8660965 ]\n",
      " [-0.23998001 -0.15908834  0.24189022  0.21996094 -1.87415706  0.80577428]\n",
      " [-0.10515     0.29858288  0.01283868 -0.03523641 -0.99902596  0.53108793]]\n",
      "\n",
      "Outputs:\n",
      "[[0.         0.         0.21836515 0.11260995 0.         0.8660965 ]\n",
      " [0.         0.         0.24189022 0.21996094 0.         0.80577428]\n",
      " [0.         0.29858288 0.01283868 0.         0.         0.53108793]]\n",
      "\n"
     ]
    }
   ],
   "source": [
    "activation1.info()"
   ]
  },
  {
   "cell_type": "markdown",
   "metadata": {},
   "source": [
    "**Dense 2 (3 neurons, 6 inputs)**"
   ]
  },
  {
   "cell_type": "code",
   "execution_count": 5,
   "metadata": {},
   "outputs": [
    {
     "name": "stdout",
     "output_type": "stream",
     "text": [
      "Inputs:\n",
      "[[0.         0.         0.21836515 0.11260995 0.         0.8660965 ]\n",
      " [0.         0.         0.24189022 0.21996094 0.         0.80577428]\n",
      " [0.         0.29858288 0.01283868 0.         0.         0.53108793]]\n",
      "\n",
      "Weights:\n",
      "[[ 0.12948646 -0.02824002 -0.01088828 -0.02807848 -0.1983655  -0.07489038]\n",
      " [ 0.07730412 -0.12916204  0.1485728   0.06837199 -0.08533333 -0.1029159 ]\n",
      " [-0.02527872  0.06006563 -0.10388947 -0.10610809 -0.06331473  0.00655293]]\n",
      "\n",
      "Biases:\n",
      "[0. 0. 0.]\n",
      "\n",
      "Outputs:\n",
      "[[-0.07040184 -0.04899261 -0.02895919]\n",
      " [-0.06915468 -0.03194951 -0.0431893 ]\n",
      " [-0.04834516 -0.09131548  0.02008095]]\n",
      "\n"
     ]
    }
   ],
   "source": [
    "dense2.info()"
   ]
  },
  {
   "cell_type": "markdown",
   "metadata": {},
   "source": [
    "**Activation 2 (Softmax)**"
   ]
  },
  {
   "cell_type": "code",
   "execution_count": 6,
   "metadata": {},
   "outputs": [
    {
     "name": "stdout",
     "output_type": "stream",
     "text": [
      "Inputs:\n",
      "[[-0.07040184 -0.04899261 -0.02895919]\n",
      " [-0.06915468 -0.03194951 -0.0431893 ]\n",
      " [-0.04834516 -0.09131548  0.02008095]]\n",
      "\n",
      "Outputs:\n",
      "[[0.32637572 0.3334385  0.34018578]\n",
      " [0.32634824 0.33871878 0.33493297]\n",
      " [0.33016798 0.31628105 0.35355097]]\n",
      "\n"
     ]
    }
   ],
   "source": [
    "activation2.info()"
   ]
  },
  {
   "cell_type": "markdown",
   "metadata": {},
   "source": [
    "### Loss\n",
    "\n",
    "* loss1: CategoricalCrossentropy\n",
    "* loss2: SparseCategoricalCrossentropy"
   ]
  },
  {
   "cell_type": "code",
   "execution_count": 7,
   "metadata": {},
   "outputs": [
    {
     "data": {
      "text/plain": [
       "(1.1163925661897438, 1.1163925661897438)"
      ]
     },
     "execution_count": 7,
     "metadata": {},
     "output_type": "execute_result"
    }
   ],
   "source": [
    "loss1, loss2"
   ]
  },
  {
   "cell_type": "markdown",
   "metadata": {},
   "source": [
    "## Visualize datasets"
   ]
  },
  {
   "cell_type": "markdown",
   "metadata": {},
   "source": [
    "### Spiral Data"
   ]
  },
  {
   "cell_type": "code",
   "execution_count": 8,
   "metadata": {},
   "outputs": [
    {
     "data": {
      "text/plain": [
       "<matplotlib.collections.PathCollection at 0x7fcfe0fc9fd0>"
      ]
     },
     "execution_count": 8,
     "metadata": {},
     "output_type": "execute_result"
    },
    {
     "data": {
      "image/png": "[encoded data removed]",
      "text/plain": [
       "<Figure size 640x480 with 1 Axes>"
      ]
     },
     "metadata": {},
     "output_type": "display_data"
    }
   ],
   "source": [
    "import matplotlib.pyplot as plt\n",
    "from src.datasets import spiral_data\n",
    "\n",
    "X, y = spiral_data(n_samples=100, n_classes=3)\n",
    "\n",
    "plt.scatter(X[:, 0], X[:, 1], c=y)"
   ]
  },
  {
   "cell_type": "markdown",
   "metadata": {},
   "source": [
    "### Vertical Data"
   ]
  },
  {
   "cell_type": "code",
   "execution_count": 9,
   "metadata": {},
   "outputs": [
    {
     "data": {
      "text/plain": [
       "<matplotlib.collections.PathCollection at 0x7fcfc1089ee0>"
      ]
     },
     "execution_count": 9,
     "metadata": {},
     "output_type": "execute_result"
    },
    {
     "data": {
      "image/png": "[encoded data removed]",
      "text/plain": [
       "<Figure size 640x480 with 1 Axes>"
      ]
     },
     "metadata": {},
     "output_type": "display_data"
    }
   ],
   "source": [
    "from src.datasets import vertical_data\n",
    "\n",
    "X, y = vertical_data(n_samples=100, n_classes=3)\n",
    "\n",
    "plt.scatter(X[:, 0], X[:, 1], c=y)"
   ]
  },
  {
   "cell_type": "markdown",
   "metadata": {},
   "source": [
    "## Backward Pass"
   ]
  },
  {
   "cell_type": "markdown",
   "metadata": {},
   "source": [
    "### Simple Dense Model\n",
    "One forward and one backward."
   ]
  },
  {
   "cell_type": "code",
   "execution_count": 10,
   "metadata": {},
   "outputs": [
    {
     "name": "stdout",
     "output_type": "stream",
     "text": [
      "loss: 1.0984424019494758\n",
      "acc: 0.32666666666666666\n"
     ]
    }
   ],
   "source": [
    "import numpy as np\n",
    "\n",
    "X, y = spiral_data(n_samples=100, n_classes=3)\n",
    "\n",
    "dense1 = Dense(4, n_inputs=2)\n",
    "activation1 = ReLU()\n",
    "dense2 = Dense(3, n_inputs=4)\n",
    "activation2 = Softmax()\n",
    "loss_function = SparseCategoricalCrossentropy()\n",
    "\n",
    "dense1.forward(X)\n",
    "activation1.forward(dense1.outputs)\n",
    "dense2.forward(activation1.outputs)\n",
    "activation2.forward(dense2.outputs)\n",
    "\n",
    "loss = loss_function.calculate(y_true=y, y_pred=activation2.outputs)\n",
    "print(\"loss:\", loss)\n",
    "\n",
    "predictions = np.argmax(activation2.outputs, axis=1)\n",
    "accuracy = np.mean(predictions == y)\n",
    "print(\"acc:\", accuracy)\n",
    "\n",
    "loss_function.backward(activation2.outputs, y)\n",
    "activation2.backward(loss_function.dinputs)\n",
    "dense2.backward(activation2.dinputs)\n",
    "activation1.backward(dense2.dinputs)\n",
    "dense1.backward(activation1.dinputs)"
   ]
  },
  {
   "cell_type": "markdown",
   "metadata": {},
   "source": [
    "### Gradients\n",
    "\n",
    "Calculated gradients after one iteration."
   ]
  },
  {
   "cell_type": "markdown",
   "metadata": {},
   "source": [
    "**Dense 1 Weight Gradient**"
   ]
  },
  {
   "cell_type": "code",
   "execution_count": 11,
   "metadata": {},
   "outputs": [
    {
     "data": {
      "text/plain": [
       "array([[ 1.71049510e-03, -4.12311098e-03],\n",
       "       [ 5.41172687e-04, -2.69835297e-04],\n",
       "       [-5.55051813e-04,  8.83041784e-05],\n",
       "       [-1.29250929e-03,  4.23759482e-03]])"
      ]
     },
     "execution_count": 11,
     "metadata": {},
     "output_type": "execute_result"
    }
   ],
   "source": [
    "dense1.dweights"
   ]
  },
  {
   "cell_type": "markdown",
   "metadata": {},
   "source": [
    "**Dense 1 Bias Gradient**"
   ]
  },
  {
   "cell_type": "code",
   "execution_count": 12,
   "metadata": {},
   "outputs": [
    {
     "data": {
      "text/plain": [
       "array([0.0002446 , 0.00075883, 0.00069503, 0.00135954])"
      ]
     },
     "execution_count": 12,
     "metadata": {},
     "output_type": "execute_result"
    }
   ],
   "source": [
    "dense1.dbiases"
   ]
  },
  {
   "cell_type": "markdown",
   "metadata": {},
   "source": [
    "**Dense 2 Weight Gradient**"
   ]
  },
  {
   "cell_type": "code",
   "execution_count": 13,
   "metadata": {},
   "outputs": [
    {
     "data": {
      "text/plain": [
       "array([[ 0.00046046,  0.00012456,  0.00064726,  0.00028734],\n",
       "       [-0.00280345, -0.00048182, -0.00094016, -0.00151227],\n",
       "       [ 0.002343  ,  0.00035725,  0.00029289,  0.00122493]])"
      ]
     },
     "execution_count": 13,
     "metadata": {},
     "output_type": "execute_result"
    }
   ],
   "source": [
    "dense2.dweights"
   ]
  },
  {
   "cell_type": "markdown",
   "metadata": {},
   "source": [
    "**Dense 2 Bias Gradient**"
   ]
  },
  {
   "cell_type": "code",
   "execution_count": 14,
   "metadata": {},
   "outputs": [
    {
     "data": {
      "text/plain": [
       "array([-4.93165860e-04,  5.41330204e-04, -4.81643437e-05])"
      ]
     },
     "execution_count": 14,
     "metadata": {},
     "output_type": "execute_result"
    }
   ],
   "source": [
    "dense2.dbiases"
   ]
  },
  {
   "cell_type": "markdown",
   "metadata": {},
   "source": [
    "## Optimizing Parameters "
   ]
  },
  {
   "cell_type": "markdown",
   "metadata": {},
   "source": [
    "### SGD \n",
    "\n",
    "* Learning rate: 1.0\n",
    "* Decay: 0.0\n",
    "* Momentum: 0.0\n",
    "* Epoch: 10000"
   ]
  },
  {
   "cell_type": "code",
   "execution_count": 15,
   "metadata": {},
   "outputs": [
    {
     "name": "stdout",
     "output_type": "stream",
     "text": [
      "epoch: 0, acc: 0.317, loss: 1.099, lr: 1.0\n",
      "epoch: 1000, acc: 0.437, loss: 0.977, lr: 1.0\n",
      "epoch: 2000, acc: 0.583, loss: 0.792, lr: 1.0\n",
      "epoch: 3000, acc: 0.633, loss: 0.720, lr: 1.0\n",
      "epoch: 4000, acc: 0.640, loss: 0.709, lr: 1.0\n",
      "epoch: 5000, acc: 0.713, loss: 0.605, lr: 1.0\n",
      "epoch: 6000, acc: 0.730, loss: 0.570, lr: 1.0\n",
      "epoch: 7000, acc: 0.747, loss: 0.552, lr: 1.0\n",
      "epoch: 8000, acc: 0.757, loss: 0.538, lr: 1.0\n",
      "epoch: 9000, acc: 0.640, loss: 0.939, lr: 1.0\n",
      "epoch: 10000, acc: 0.750, loss: 0.523, lr: 1.0\n"
     ]
    }
   ],
   "source": [
    "from src.optimizers import SGD\n",
    "\n",
    "X, y = spiral_data(n_samples=100, n_classes=3)\n",
    "\n",
    "dense1 = Dense(64, n_inputs=2)\n",
    "activation1 = ReLU()\n",
    "dense2 = Dense(3, n_inputs=64)\n",
    "activation2 = Softmax()\n",
    "\n",
    "loss_function = SparseCategoricalCrossentropy()\n",
    "\n",
    "optimizer = SGD()\n",
    "\n",
    "for epoch in range(10001):\n",
    "    dense1.forward(X)\n",
    "    activation1.forward(dense1.outputs)\n",
    "    dense2.forward(activation1.outputs)\n",
    "    activation2.forward(dense2.outputs)\n",
    "\n",
    "    loss = loss_function.calculate(y_true=y, y_pred=activation2.outputs)\n",
    "\n",
    "    predictions = np.argmax(activation2.outputs, axis=1)\n",
    "    accuracy = np.mean(predictions == y)\n",
    "\n",
    "    if not epoch % 1000:\n",
    "        print(f\"epoch: {epoch}, \" +\n",
    "              f\"acc: {accuracy:.3f}, \" +\n",
    "              f\"loss: {loss:.3f}, \" +\n",
    "              f\"lr: {optimizer.current_learning_rate}\")\n",
    "\n",
    "    loss_function.backward(activation2.outputs, y)\n",
    "    activation2.backward(loss_function.dinputs)\n",
    "    dense2.backward(activation2.dinputs)\n",
    "    activation1.backward(dense2.dinputs)\n",
    "    dense1.backward(activation1.dinputs)\n",
    "\n",
    "    optimizer.update_params(dense1)\n",
    "    optimizer.update_params(dense2)"
   ]
  },
  {
   "cell_type": "markdown",
   "metadata": {},
   "source": [
    "### SGD \n",
    "\n",
    "* Learning rate: 1.0\n",
    "* **Decay: 0.001**\n",
    "* Momentum: 0.0\n",
    "* Epoch: 10000"
   ]
  },
  {
   "cell_type": "code",
   "execution_count": 16,
   "metadata": {},
   "outputs": [
    {
     "name": "stdout",
     "output_type": "stream",
     "text": [
      "epoch: 0, acc: 0.313, loss: 1.100, lr: 1.0\n",
      "epoch: 1000, acc: 0.447, loss: 1.011, lr: 0.5002501250625312\n",
      "epoch: 2000, acc: 0.563, loss: 0.945, lr: 0.33344448149383127\n",
      "epoch: 3000, acc: 0.590, loss: 0.874, lr: 0.25006251562890724\n",
      "epoch: 4000, acc: 0.660, loss: 0.813, lr: 0.2000400080016003\n",
      "epoch: 5000, acc: 0.673, loss: 0.759, lr: 0.16669444907484582\n",
      "epoch: 6000, acc: 0.700, loss: 0.716, lr: 0.1428775539362766\n",
      "epoch: 7000, acc: 0.720, loss: 0.678, lr: 0.12501562695336915\n",
      "epoch: 8000, acc: 0.750, loss: 0.639, lr: 0.11112345816201799\n",
      "epoch: 9000, acc: 0.753, loss: 0.610, lr: 0.1000100010001\n",
      "epoch: 10000, acc: 0.770, loss: 0.586, lr: 0.09091735612328393\n"
     ]
    }
   ],
   "source": [
    "X, y = spiral_data(n_samples=100, n_classes=3)\n",
    "\n",
    "dense1 = Dense(64, n_inputs=2)\n",
    "activation1 = ReLU()\n",
    "dense2 = Dense(3, n_inputs=64)\n",
    "activation2 = Softmax()\n",
    "\n",
    "loss_function = SparseCategoricalCrossentropy()\n",
    "\n",
    "optimizer = SGD(decay=0.001)\n",
    "\n",
    "for epoch in range(10001):\n",
    "    dense1.forward(X)\n",
    "    activation1.forward(dense1.outputs)\n",
    "    dense2.forward(activation1.outputs)\n",
    "    activation2.forward(dense2.outputs)\n",
    "\n",
    "    loss = loss_function.calculate(y_true=y, y_pred=activation2.outputs)\n",
    "\n",
    "    predictions = np.argmax(activation2.outputs, axis=1)\n",
    "    accuracy = np.mean(predictions == y)\n",
    "\n",
    "    if not epoch % 1000:\n",
    "        print(f\"epoch: {epoch}, \" +\n",
    "              f\"acc: {accuracy:.3f}, \" +\n",
    "              f\"loss: {loss:.3f}, \" +\n",
    "              f\"lr: {optimizer.current_learning_rate}\")\n",
    "\n",
    "    loss_function.backward(activation2.outputs, y)\n",
    "    activation2.backward(loss_function.dinputs)\n",
    "    dense2.backward(activation2.dinputs)\n",
    "    activation1.backward(dense2.dinputs)\n",
    "    dense1.backward(activation1.dinputs)\n",
    "\n",
    "    optimizer.pre_update_params()\n",
    "    optimizer.update_params(dense1)\n",
    "    optimizer.update_params(dense2)\n",
    "    optimizer.post_update_params()"
   ]
  },
  {
   "cell_type": "markdown",
   "metadata": {},
   "source": [
    "### SGD \n",
    "\n",
    "* Learning rate: 1.0\n",
    "* **Decay: 0.001**\n",
    "* **Momentum: 0.9**\n",
    "* Epoch: 10000"
   ]
  },
  {
   "cell_type": "code",
   "execution_count": 17,
   "metadata": {},
   "outputs": [
    {
     "name": "stdout",
     "output_type": "stream",
     "text": [
      "epoch: 0, acc: 0.343, loss: 1.099, lr: 1\n",
      "epoch: 1000, acc: 0.717, loss: 0.514, lr: 0.5002501250625312\n",
      "epoch: 2000, acc: 0.747, loss: 0.477, lr: 0.33344448149383127\n",
      "epoch: 3000, acc: 0.753, loss: 0.456, lr: 0.25006251562890724\n",
      "epoch: 4000, acc: 0.753, loss: 0.449, lr: 0.2000400080016003\n",
      "epoch: 5000, acc: 0.777, loss: 0.435, lr: 0.16669444907484582\n",
      "epoch: 6000, acc: 0.780, loss: 0.424, lr: 0.1428775539362766\n",
      "epoch: 7000, acc: 0.783, loss: 0.419, lr: 0.12501562695336915\n",
      "epoch: 8000, acc: 0.787, loss: 0.416, lr: 0.11112345816201799\n",
      "epoch: 9000, acc: 0.787, loss: 0.415, lr: 0.1000100010001\n",
      "epoch: 10000, acc: 0.787, loss: 0.414, lr: 0.09091735612328393\n"
     ]
    }
   ],
   "source": [
    "X, y = spiral_data(n_samples=100, n_classes=3)\n",
    "\n",
    "dense1 = Dense(64, n_inputs=2)\n",
    "activation1 = ReLU()\n",
    "dense2 = Dense(3, n_inputs=64)\n",
    "activation2 = Softmax()\n",
    "\n",
    "loss_function = SparseCategoricalCrossentropy()\n",
    "\n",
    "optimizer = SGD(learning_rate=1, decay=0.001, momentum=0.9)\n",
    "\n",
    "for epoch in range(10001):\n",
    "    dense1.forward(X)\n",
    "    activation1.forward(dense1.outputs)\n",
    "    dense2.forward(activation1.outputs)\n",
    "    activation2.forward(dense2.outputs)\n",
    "\n",
    "    loss = loss_function.calculate(y_true=y, y_pred=activation2.outputs)\n",
    "\n",
    "    predictions = np.argmax(activation2.outputs, axis=1)\n",
    "    accuracy = np.mean(predictions == y)\n",
    "\n",
    "    if not epoch % 1000:\n",
    "        print(f\"epoch: {epoch}, \" +\n",
    "              f\"acc: {accuracy:.3f}, \" +\n",
    "              f\"loss: {loss:.3f}, \" +\n",
    "              f\"lr: {optimizer.current_learning_rate}\")\n",
    "\n",
    "    loss_function.backward(activation2.outputs, y)\n",
    "    activation2.backward(loss_function.dinputs)\n",
    "    dense2.backward(activation2.dinputs)\n",
    "    activation1.backward(dense2.dinputs)\n",
    "    dense1.backward(activation1.dinputs)\n",
    "\n",
    "    optimizer.pre_update_params()\n",
    "    optimizer.update_params(dense1)\n",
    "    optimizer.update_params(dense2)\n",
    "    optimizer.post_update_params()"
   ]
  },
  {
   "cell_type": "markdown",
   "metadata": {},
   "source": [
    "### AdaGrad \n",
    "\n",
    "* Learning rate: 1.0\n",
    "* Decay: 0.0\n",
    "* Epsilon: 1e-7\n",
    "* Epoch: 10000"
   ]
  },
  {
   "cell_type": "code",
   "execution_count": 18,
   "metadata": {},
   "outputs": [
    {
     "name": "stdout",
     "output_type": "stream",
     "text": [
      "epoch: 0, acc: 0.237, loss: 1.102, lr: 1.0\n",
      "epoch: 1000, acc: 0.647, loss: 0.728, lr: 1.0\n",
      "epoch: 2000, acc: 0.717, loss: 0.616, lr: 1.0\n",
      "epoch: 3000, acc: 0.753, loss: 0.561, lr: 1.0\n",
      "epoch: 4000, acc: 0.793, loss: 0.465, lr: 1.0\n",
      "epoch: 5000, acc: 0.823, loss: 0.422, lr: 1.0\n",
      "epoch: 6000, acc: 0.847, loss: 0.405, lr: 1.0\n",
      "epoch: 7000, acc: 0.853, loss: 0.389, lr: 1.0\n",
      "epoch: 8000, acc: 0.857, loss: 0.378, lr: 1.0\n",
      "epoch: 9000, acc: 0.860, loss: 0.370, lr: 1.0\n",
      "epoch: 10000, acc: 0.860, loss: 0.364, lr: 1.0\n"
     ]
    }
   ],
   "source": [
    "from src.optimizers import AdaGrad\n",
    "\n",
    "X, y = spiral_data(n_samples=100, n_classes=3)\n",
    "\n",
    "dense1 = Dense(64, n_inputs=2)\n",
    "activation1 = ReLU()\n",
    "dense2 = Dense(3, n_inputs=64)\n",
    "activation2 = Softmax()\n",
    "\n",
    "loss_function = SparseCategoricalCrossentropy()\n",
    "\n",
    "optimizer = AdaGrad()\n",
    "for epoch in range(10001):\n",
    "    dense1.forward(X)\n",
    "    activation1.forward(dense1.outputs)\n",
    "    dense2.forward(activation1.outputs)\n",
    "    activation2.forward(dense2.outputs)\n",
    "\n",
    "    loss = loss_function.calculate(y_true=y, y_pred=activation2.outputs)\n",
    "\n",
    "    predictions = np.argmax(activation2.outputs, axis=1)\n",
    "    accuracy = np.mean(predictions == y)\n",
    "\n",
    "    if not epoch % 1000:\n",
    "        print(f\"epoch: {epoch}, \" +\n",
    "              f\"acc: {accuracy:.3f}, \" +\n",
    "              f\"loss: {loss:.3f}, \" +\n",
    "              f\"lr: {optimizer.current_learning_rate}\")\n",
    "\n",
    "    loss_function.backward(activation2.outputs, y)\n",
    "    activation2.backward(loss_function.dinputs)\n",
    "    dense2.backward(activation2.dinputs)\n",
    "    activation1.backward(dense2.dinputs)\n",
    "    dense1.backward(activation1.dinputs)\n",
    "\n",
    "    optimizer.pre_update_params()\n",
    "    optimizer.update_params(dense1)\n",
    "    optimizer.update_params(dense2)\n",
    "    optimizer.post_update_params()"
   ]
  },
  {
   "cell_type": "markdown",
   "metadata": {},
   "source": [
    "### RMSProp \n",
    "\n",
    "* Learning rate: 0.001\n",
    "* **Decay: 1e-4**\n",
    "* Epsilon: 1e-7\n",
    "* Rho: 0.9\n",
    "* Epoch: 10000"
   ]
  },
  {
   "cell_type": "code",
   "execution_count": 19,
   "metadata": {},
   "outputs": [
    {
     "name": "stdout",
     "output_type": "stream",
     "text": [
      "epoch: 0, acc: 0.380, loss: 1.098, lr: 0.001\n",
      "epoch: 1000, acc: 0.610, loss: 0.937, lr: 0.0009091735612328393\n",
      "epoch: 2000, acc: 0.657, loss: 0.814, lr: 0.0008334027835652972\n",
      "epoch: 3000, acc: 0.703, loss: 0.714, lr: 0.0007692899453804139\n",
      "epoch: 4000, acc: 0.727, loss: 0.648, lr: 0.0007143367383384526\n",
      "epoch: 5000, acc: 0.770, loss: 0.597, lr: 0.0006667111140742716\n",
      "epoch: 6000, acc: 0.810, loss: 0.559, lr: 0.0006250390649415589\n",
      "epoch: 7000, acc: 0.817, loss: 0.528, lr: 0.0005882698982293077\n",
      "epoch: 8000, acc: 0.827, loss: 0.505, lr: 0.0005555864214678594\n",
      "epoch: 9000, acc: 0.847, loss: 0.483, lr: 0.0005263434917627244\n",
      "epoch: 10000, acc: 0.857, loss: 0.466, lr: 0.0005000250012500625\n"
     ]
    }
   ],
   "source": [
    "from src.optimizers import RMSProp\n",
    "\n",
    "X, y = spiral_data(n_samples=100, n_classes=3)\n",
    "\n",
    "dense1 = Dense(64, n_inputs=2)\n",
    "activation1 = ReLU()\n",
    "dense2 = Dense(3, n_inputs=64)\n",
    "activation2 = Softmax()\n",
    "\n",
    "loss_function = SparseCategoricalCrossentropy()\n",
    "\n",
    "optimizer = RMSProp(decay=1e-4)\n",
    "\n",
    "for epoch in range(10001):\n",
    "    dense1.forward(X)\n",
    "    activation1.forward(dense1.outputs)\n",
    "    dense2.forward(activation1.outputs)\n",
    "    activation2.forward(dense2.outputs)\n",
    "\n",
    "    loss = loss_function.calculate(y_true=y, y_pred=activation2.outputs)\n",
    "\n",
    "    predictions = np.argmax(activation2.outputs, axis=1)\n",
    "    accuracy = np.mean(predictions == y)\n",
    "\n",
    "    if not epoch % 1000:\n",
    "        print(f\"epoch: {epoch}, \" +\n",
    "              f\"acc: {accuracy:.3f}, \" +\n",
    "              f\"loss: {loss:.3f}, \" +\n",
    "              f\"lr: {optimizer.current_learning_rate}\")\n",
    "\n",
    "    loss_function.backward(activation2.outputs, y)\n",
    "    activation2.backward(loss_function.dinputs)\n",
    "    dense2.backward(activation2.dinputs)\n",
    "    activation1.backward(dense2.dinputs)\n",
    "    dense1.backward(activation1.dinputs)\n",
    "\n",
    "    optimizer.pre_update_params()\n",
    "    optimizer.update_params(dense1)\n",
    "    optimizer.update_params(dense2)\n",
    "    optimizer.post_update_params()"
   ]
  },
  {
   "cell_type": "markdown",
   "metadata": {},
   "source": [
    "### Adam \n",
    "\n",
    "* Learning rate: 0.001\n",
    "* Decay: 0.0\n",
    "* Epsilon: 1e-7\n",
    "* Beta 1: 0.9\n",
    "* Beta 2: 0.999\n",
    "* Epoch: 10000"
   ]
  },
  {
   "cell_type": "code",
   "execution_count": 20,
   "metadata": {},
   "outputs": [
    {
     "name": "stdout",
     "output_type": "stream",
     "text": [
      "epoch: 0, acc: 0.287, loss: 1.100, lr: 0.001\n",
      "epoch: 1000, acc: 0.580, loss: 0.926, lr: 0.001\n",
      "epoch: 2000, acc: 0.703, loss: 0.750, lr: 0.001\n",
      "epoch: 3000, acc: 0.750, loss: 0.653, lr: 0.001\n",
      "epoch: 4000, acc: 0.797, loss: 0.556, lr: 0.001\n",
      "epoch: 5000, acc: 0.853, loss: 0.460, lr: 0.001\n",
      "epoch: 6000, acc: 0.877, loss: 0.396, lr: 0.001\n",
      "epoch: 7000, acc: 0.883, loss: 0.343, lr: 0.001\n",
      "epoch: 8000, acc: 0.883, loss: 0.304, lr: 0.001\n",
      "epoch: 9000, acc: 0.893, loss: 0.275, lr: 0.001\n",
      "epoch: 10000, acc: 0.907, loss: 0.255, lr: 0.001\n"
     ]
    }
   ],
   "source": [
    "from src.optimizers import Adam\n",
    "\n",
    "X, y = spiral_data(n_samples=100, n_classes=3)\n",
    "\n",
    "dense1 = Dense(64, n_inputs=2)\n",
    "activation1 = ReLU()\n",
    "dense2 = Dense(3, n_inputs=64)\n",
    "activation2 = Softmax()\n",
    "\n",
    "loss_function = SparseCategoricalCrossentropy()\n",
    "\n",
    "optimizer = Adam()\n",
    "\n",
    "for epoch in range(10001):\n",
    "    dense1.forward(X)\n",
    "    activation1.forward(dense1.outputs)\n",
    "    dense2.forward(activation1.outputs)\n",
    "    activation2.forward(dense2.outputs)\n",
    "\n",
    "    loss = loss_function.calculate(y_true=y, y_pred=activation2.outputs)\n",
    "\n",
    "    predictions = np.argmax(activation2.outputs, axis=1)\n",
    "    accuracy = np.mean(predictions == y)\n",
    "\n",
    "    if not epoch % 1000:\n",
    "        print(f\"epoch: {epoch}, \" +\n",
    "              f\"acc: {accuracy:.3f}, \" +\n",
    "              f\"loss: {loss:.3f}, \" +\n",
    "              f\"lr: {optimizer.current_learning_rate}\")\n",
    "\n",
    "    loss_function.backward(activation2.outputs, y)\n",
    "    activation2.backward(loss_function.dinputs)\n",
    "    dense2.backward(activation2.dinputs)\n",
    "    activation1.backward(dense2.dinputs)\n",
    "    dense1.backward(activation1.dinputs)\n",
    "\n",
    "    optimizer.pre_update_params()\n",
    "    optimizer.update_params(dense1)\n",
    "    optimizer.update_params(dense2)\n",
    "    optimizer.post_update_params()"
   ]
  },
  {
   "cell_type": "markdown",
   "metadata": {},
   "source": [
    "### Testing\n",
    "\n",
    "Performance of the last model."
   ]
  },
  {
   "cell_type": "code",
   "execution_count": 21,
   "metadata": {},
   "outputs": [
    {
     "name": "stdout",
     "output_type": "stream",
     "text": [
      "validation -> acc: 0.753, loss: 0.700\n"
     ]
    }
   ],
   "source": [
    "X_test, y_test = spiral_data(n_samples=100, n_classes=3)\n",
    "\n",
    "dense1.forward(X_test)\n",
    "activation1.forward(dense1.outputs)\n",
    "dense2.forward(activation1.outputs)\n",
    "activation2.forward(dense2.outputs)\n",
    "\n",
    "loss = loss_function.calculate(y_true=y_test, y_pred=activation2.outputs)\n",
    "\n",
    "predictions = np.argmax(activation2.outputs, axis=1)\n",
    "accuracy = np.mean(predictions == y_test)\n",
    "\n",
    "print(f\"validation -> \" + f\"acc: {accuracy:.3f}, \" + f\"loss: {loss:.3f}\")"
   ]
  },
  {
   "cell_type": "markdown",
   "metadata": {},
   "source": [
    "## Regularization"
   ]
  },
  {
   "cell_type": "markdown",
   "metadata": {},
   "source": [
    "### L1 and L2 Regularization"
   ]
  },
  {
   "cell_type": "code",
   "execution_count": 22,
   "metadata": {},
   "outputs": [
    {
     "name": "stdout",
     "output_type": "stream",
     "text": [
      "epoch: 0, acc: 0.287, loss: 1.104, (data loss:1.103, reg loss:0.001), lr: 0.02\n",
      "epoch: 1000, acc: 0.917, loss: 0.396, (data loss:0.233, reg loss:0.163), lr: 0.019990014987513734\n",
      "epoch: 2000, acc: 0.933, loss: 0.325, (data loss:0.189, reg loss:0.136), lr: 0.019980029960054924\n",
      "epoch: 3000, acc: 0.933, loss: 0.291, (data loss:0.170, reg loss:0.120), lr: 0.01997005490267344\n",
      "epoch: 4000, acc: 0.937, loss: 0.265, (data loss:0.155, reg loss:0.110), lr: 0.019960089800444013\n",
      "epoch: 5000, acc: 0.940, loss: 0.248, (data loss:0.146, reg loss:0.102), lr: 0.01995013463847114\n",
      "epoch: 6000, acc: 0.947, loss: 0.235, (data loss:0.139, reg loss:0.096), lr: 0.019940189401889033\n",
      "epoch: 7000, acc: 0.947, loss: 0.225, (data loss:0.134, reg loss:0.091), lr: 0.019930254075861523\n",
      "epoch: 8000, acc: 0.947, loss: 0.215, (data loss:0.128, reg loss:0.087), lr: 0.019920328645581995\n",
      "epoch: 9000, acc: 0.960, loss: 0.208, (data loss:0.124, reg loss:0.084), lr: 0.019910413096273318\n",
      "epoch: 10000, acc: 0.943, loss: 0.203, (data loss:0.123, reg loss:0.081), lr: 0.019900507413187767\n"
     ]
    }
   ],
   "source": [
    "X, y = spiral_data(n_samples=100, n_classes=3)\n",
    "\n",
    "dense1 = Dense(64, n_inputs=2, l2_w=5e-4, l2_b=5e-4)\n",
    "activation1 = ReLU()\n",
    "dense2 = Dense(3, n_inputs=64)\n",
    "activation2 = Softmax()\n",
    "\n",
    "loss_function = SparseCategoricalCrossentropy()\n",
    "\n",
    "optimizer = Adam(learning_rate=0.02, decay=5e-7)\n",
    "\n",
    "for epoch in range(10001):\n",
    "    dense1.forward(X)\n",
    "    activation1.forward(dense1.outputs)\n",
    "    dense2.forward(activation1.outputs)\n",
    "    activation2.forward(dense2.outputs)\n",
    "\n",
    "    data_loss = loss_function.calculate(y_true=y, y_pred=activation2.outputs)\n",
    "    regularization_loss = loss_function.regularization_loss(dense1) + loss_function.regularization_loss(dense2)\n",
    "    loss = data_loss + regularization_loss\n",
    "\n",
    "    predictions = np.argmax(activation2.outputs, axis=1)\n",
    "    accuracy = np.mean(predictions == y)\n",
    "\n",
    "    if not epoch % 1000:\n",
    "        print(f\"epoch: {epoch}, \" +\n",
    "              f\"acc: {accuracy:.3f}, \" +\n",
    "              f\"loss: {loss:.3f}, (data loss:{data_loss:.3f}, reg loss:{regularization_loss:.3f}), \" +\n",
    "              f\"lr: {optimizer.current_learning_rate}\")\n",
    "\n",
    "    loss_function.backward(activation2.outputs, y)\n",
    "    activation2.backward(loss_function.dinputs)\n",
    "    dense2.backward(activation2.dinputs)\n",
    "    activation1.backward(dense2.dinputs)\n",
    "    dense1.backward(activation1.dinputs)\n",
    "\n",
    "    optimizer.pre_update_params()\n",
    "    optimizer.update_params(dense1)\n",
    "    optimizer.update_params(dense2)\n",
    "    optimizer.post_update_params()\n"
   ]
  },
  {
   "cell_type": "markdown",
   "metadata": {},
   "source": [
    "### Testing\n",
    "\n",
    "Performance of the last model."
   ]
  },
  {
   "cell_type": "code",
   "execution_count": 23,
   "metadata": {},
   "outputs": [
    {
     "name": "stdout",
     "output_type": "stream",
     "text": [
      "validation -> acc: 0.857, loss: 0.405\n"
     ]
    }
   ],
   "source": [
    "X_test, y_test = spiral_data(n_samples=100, n_classes=3)\n",
    "\n",
    "dense1.forward(X_test)\n",
    "activation1.forward(dense1.outputs)\n",
    "dense2.forward(activation1.outputs)\n",
    "activation2.forward(dense2.outputs)\n",
    "\n",
    "loss = loss_function.calculate(y_true=y_test, y_pred=activation2.outputs)\n",
    "\n",
    "predictions = np.argmax(activation2.outputs, axis=1)\n",
    "accuracy = np.mean(predictions == y_test)\n",
    "\n",
    "print(f\"validation -> \" + f\"acc: {accuracy:.3f}, \" + f\"loss: {loss:.3f}\")"
   ]
  },
  {
   "cell_type": "markdown",
   "metadata": {},
   "source": [
    "### Dropout Layer"
   ]
  },
  {
   "cell_type": "code",
   "execution_count": 24,
   "metadata": {},
   "outputs": [
    {
     "name": "stdout",
     "output_type": "stream",
     "text": [
      "epoch: 0, acc: 0.333, loss: 1.100, (data loss:1.099, reg loss:0.001), lr: 0.05\n",
      "epoch: 1000, acc: 0.690, loss: 0.966, (data loss:0.711, reg loss:0.255), lr: 0.03334444814938313\n",
      "epoch: 2000, acc: 0.737, loss: 0.919, (data loss:0.627, reg loss:0.293), lr: 0.025006251562890724\n",
      "epoch: 3000, acc: 0.720, loss: 0.905, (data loss:0.599, reg loss:0.305), lr: 0.02000400080016003\n",
      "epoch: 4000, acc: 0.740, loss: 0.860, (data loss:0.548, reg loss:0.312), lr: 0.01666944490748458\n",
      "epoch: 5000, acc: 0.737, loss: 0.929, (data loss:0.608, reg loss:0.320), lr: 0.014287755393627663\n",
      "epoch: 6000, acc: 0.753, loss: 0.862, (data loss:0.534, reg loss:0.327), lr: 0.012501562695336917\n",
      "epoch: 7000, acc: 0.710, loss: 0.910, (data loss:0.583, reg loss:0.327), lr: 0.0111123458162018\n",
      "epoch: 8000, acc: 0.707, loss: 0.946, (data loss:0.615, reg loss:0.331), lr: 0.010001000100010001\n",
      "epoch: 9000, acc: 0.747, loss: 0.952, (data loss:0.618, reg loss:0.335), lr: 0.009091735612328393\n",
      "epoch: 10000, acc: 0.740, loss: 0.906, (data loss:0.568, reg loss:0.338), lr: 0.008334027835652971\n"
     ]
    }
   ],
   "source": [
    "from src.layers import Dropout\n",
    "\n",
    "X, y = spiral_data(n_samples=100, n_classes=3)\n",
    "\n",
    "dense1 = Dense(64, n_inputs=2, l2_w=5e-4, l2_b=5e-4)\n",
    "activation1 = ReLU()\n",
    "dropout = Dropout(0.1)\n",
    "dense2 = Dense(3, n_inputs=64)\n",
    "activation2 = Softmax()\n",
    "\n",
    "loss_function = SparseCategoricalCrossentropy()\n",
    "\n",
    "optimizer = Adam(learning_rate=0.05, decay=5e-4)\n",
    "\n",
    "for epoch in range(10001):\n",
    "    dense1.forward(X)\n",
    "    activation1.forward(dense1.outputs)\n",
    "    dropout.forward(activation1.outputs)\n",
    "    dense2.forward(dropout.outputs)\n",
    "    activation2.forward(dense2.outputs)\n",
    "\n",
    "    data_loss = loss_function.calculate(y_true=y, y_pred=activation2.outputs)\n",
    "    regularization_loss = loss_function.regularization_loss(dense1) + loss_function.regularization_loss(dense2)\n",
    "    loss = data_loss + regularization_loss\n",
    "\n",
    "    predictions = np.argmax(activation2.outputs, axis=1)\n",
    "    accuracy = np.mean(predictions == y)\n",
    "\n",
    "    if not epoch % 1000:\n",
    "        print(f\"epoch: {epoch}, \" +\n",
    "              f\"acc: {accuracy:.3f}, \" +\n",
    "              f\"loss: {loss:.3f}, (data loss:{data_loss:.3f}, reg loss:{regularization_loss:.3f}), \" +\n",
    "              f\"lr: {optimizer.current_learning_rate}\")\n",
    "\n",
    "    loss_function.backward(activation2.outputs, y)\n",
    "    activation2.backward(loss_function.dinputs)\n",
    "    dense2.backward(activation2.dinputs)\n",
    "    activation1.backward(dense2.dinputs)\n",
    "    dense1.backward(activation1.dinputs)\n",
    "\n",
    "    optimizer.pre_update_params()\n",
    "    optimizer.update_params(dense1)\n",
    "    optimizer.update_params(dense2)\n",
    "    optimizer.post_update_params()"
   ]
  },
  {
   "cell_type": "markdown",
   "metadata": {},
   "source": [
    "### Testing\n",
    "\n",
    "Performance of the last model."
   ]
  },
  {
   "cell_type": "code",
   "execution_count": 25,
   "metadata": {},
   "outputs": [
    {
     "name": "stdout",
     "output_type": "stream",
     "text": [
      "validation -> acc: 0.760, loss: 0.647\n"
     ]
    }
   ],
   "source": [
    "X_test, y_test = spiral_data(n_samples=100, n_classes=3)\n",
    "\n",
    "dense1.forward(X_test)\n",
    "activation1.forward(dense1.outputs)\n",
    "dense2.forward(activation1.outputs)\n",
    "activation2.forward(dense2.outputs)\n",
    "\n",
    "loss = loss_function.calculate(y_true=y_test, y_pred=activation2.outputs)\n",
    "\n",
    "predictions = np.argmax(activation2.outputs, axis=1)\n",
    "accuracy = np.mean(predictions == y_test)\n",
    "\n",
    "print(f\"validation -> \" + f\"acc: {accuracy:.3f}, \" + f\"loss: {loss:.3f}\")"
   ]
  }
 ],
 "metadata": {
  "kernelspec": {
   "display_name": "venv",
   "language": "python",
   "name": "python3"
  },
  "language_info": {
   "codemirror_mode": {
    "name": "ipython",
    "version": 3
   },
   "file_extension": ".py",
   "mimetype": "text/x-python",
   "name": "python",
   "nbconvert_exporter": "python",
   "pygments_lexer": "ipython3",
   "version": "3.9.5"
  }
 },
 "nbformat": 4,
 "nbformat_minor": 2
}
