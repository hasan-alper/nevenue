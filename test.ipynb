{
 "cells": [
  {
   "cell_type": "code",
   "execution_count": 1,
   "metadata": {},
   "outputs": [],
   "source": [
    "inputs = [[2.0, 3.0, 5.0, 9.0],\n",
    "          [1.5, 3.5, 4.5, 8.5],\n",
    "          [2.5, 3.0, 1.0, 4.0]]"
   ]
  },
  {
   "cell_type": "code",
   "execution_count": 2,
   "metadata": {},
   "outputs": [],
   "source": [
    "from src.layers import Dense, ReLU, Softmax\n",
    "\n",
    "dense1 = Dense(6, n_inputs=4)\n",
    "activation1 = ReLU()\n",
    "dense2 = Dense(2, n_inputs=6)\n",
    "activation2 = Softmax()\n",
    "\n",
    "dense1.forward(inputs)\n",
    "activation1.forward(dense1.outputs)\n",
    "dense2.forward(activation1.outputs)\n",
    "activation2.forward(dense2.outputs)\n"
   ]
  },
  {
   "cell_type": "code",
   "execution_count": 3,
   "metadata": {},
   "outputs": [
    {
     "name": "stdout",
     "output_type": "stream",
     "text": [
      "#### DENSE 1 ####\n",
      "\n",
      "Inputs:\n",
      "[[2.  3.  5.  9. ]\n",
      " [1.5 3.5 4.5 8.5]\n",
      " [2.5 3.  1.  4. ]]\n",
      "\n",
      "Weights:\n",
      "[[ 0.16641189 -0.03660371 -0.07433427  0.06218561]\n",
      " [-0.11335711 -0.09254305 -0.07955455 -0.12030352]\n",
      " [-0.14296439 -0.13503528  0.09943532  0.14589735]\n",
      " [-0.1302032   0.03064887  0.15998895 -0.10276619]\n",
      " [ 0.04911746 -0.02988714 -0.1803191   0.03884459]\n",
      " [-0.04374153 -0.0130015  -0.01092275 -0.07968289]]\n",
      "\n",
      "Biases:\n",
      "[0. 0. 0. 0. 0. 0.]\n",
      "\n",
      "Outputs:\n",
      "[[ 0.41101176 -1.98484781  1.11921812 -0.29341073 -0.54342068 -0.89824735]\n",
      " [ 0.31557829 -1.87451174  1.00051633 -0.24159608 -0.51218572 -0.83757451]\n",
      " [ 0.48062674 -1.12179057 -0.0794921  -0.48463718  0.00819151 -0.47801266]]\n",
      "\n"
     ]
    }
   ],
   "source": [
    "print(\"#### DENSE 1 ####\\n\")\n",
    "dense1.info()"
   ]
  },
  {
   "cell_type": "code",
   "execution_count": 4,
   "metadata": {},
   "outputs": [
    {
     "name": "stdout",
     "output_type": "stream",
     "text": [
      "#### ACTIVATION 1 ####\n",
      "\n",
      "Inputs:\n",
      "[[ 0.41101176 -1.98484781  1.11921812 -0.29341073 -0.54342068 -0.89824735]\n",
      " [ 0.31557829 -1.87451174  1.00051633 -0.24159608 -0.51218572 -0.83757451]\n",
      " [ 0.48062674 -1.12179057 -0.0794921  -0.48463718  0.00819151 -0.47801266]]\n",
      "\n",
      "Outputs:\n",
      "[[0.41101176 0.         1.11921812 0.         0.         0.        ]\n",
      " [0.31557829 0.         1.00051633 0.         0.         0.        ]\n",
      " [0.48062674 0.         0.         0.         0.00819151 0.        ]]\n",
      "\n"
     ]
    }
   ],
   "source": [
    "print(\"#### ACTIVATION 1 ####\\n\")\n",
    "activation1.info()"
   ]
  },
  {
   "cell_type": "code",
   "execution_count": 5,
   "metadata": {},
   "outputs": [
    {
     "name": "stdout",
     "output_type": "stream",
     "text": [
      "#### DENSE 2 ####\n",
      "\n",
      "Inputs:\n",
      "[[0.41101176 0.         1.11921812 0.         0.         0.        ]\n",
      " [0.31557829 0.         1.00051633 0.         0.         0.        ]\n",
      " [0.48062674 0.         0.         0.         0.00819151 0.        ]]\n",
      "\n",
      "Weights:\n",
      "[[ 0.04758793  0.269903    0.14806131  0.15741722 -0.01018213  0.0298046 ]\n",
      " [ 0.02745986  0.15427952  0.04891574 -0.03761725  0.135203    0.03247407]]\n",
      "\n",
      "Biases:\n",
      "[0. 0.]\n",
      "\n",
      "Outputs:\n",
      "[[0.1852721  0.06603371]\n",
      " [0.16315548 0.05760674]\n",
      " [0.02278862 0.01430546]]\n",
      "\n"
     ]
    }
   ],
   "source": [
    "print(\"#### DENSE 2 ####\\n\")\n",
    "dense2.info()"
   ]
  },
  {
   "cell_type": "code",
   "execution_count": 6,
   "metadata": {},
   "outputs": [
    {
     "name": "stdout",
     "output_type": "stream",
     "text": [
      "#### ACTIVATION 2 ####\n",
      "\n",
      "Inputs:\n",
      "[[0.1852721  0.06603371]\n",
      " [0.16315548 0.05760674]\n",
      " [0.02278862 0.01430546]]\n",
      "\n",
      "Outputs:\n",
      "[[0.18386578 0.16319856]\n",
      " [0.17984393 0.16182907]\n",
      " [0.15629145 0.15497121]]\n",
      "\n"
     ]
    }
   ],
   "source": [
    "print(\"#### ACTIVATION 2 ####\\n\")\n",
    "activation2.info()"
   ]
  }
 ],
 "metadata": {
  "kernelspec": {
   "display_name": "venv",
   "language": "python",
   "name": "python3"
  },
  "language_info": {
   "codemirror_mode": {
    "name": "ipython",
    "version": 3
   },
   "file_extension": ".py",
   "mimetype": "text/x-python",
   "name": "python",
   "nbconvert_exporter": "python",
   "pygments_lexer": "ipython3",
   "version": "3.9.5"
  }
 },
 "nbformat": 4,
 "nbformat_minor": 2
}
