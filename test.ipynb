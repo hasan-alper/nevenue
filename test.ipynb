{
 "cells": [
  {
   "cell_type": "markdown",
   "metadata": {},
   "source": [
    "# Test Notebook"
   ]
  },
  {
   "cell_type": "markdown",
   "metadata": {},
   "source": [
    "## Forward Pass"
   ]
  },
  {
   "cell_type": "markdown",
   "metadata": {},
   "source": [
    "### Example Dataset"
   ]
  },
  {
   "cell_type": "code",
   "execution_count": 1,
   "metadata": {},
   "outputs": [],
   "source": [
    "X = [[2.0, 3.0, 5.0, 9.0],\n",
    "     [1.5, 3.5, 4.5, 8.5],\n",
    "     [2.5, 3.0, 1.0, 4.0]]\n",
    "\n",
    "y_sparse = [2, 0, 1]\n",
    "y_onehot = [[0, 0, 1], [1, 0, 0], [0, 1, 0]]"
   ]
  },
  {
   "cell_type": "markdown",
   "metadata": {},
   "source": [
    "### Simple Dense Model"
   ]
  },
  {
   "cell_type": "code",
   "execution_count": 2,
   "metadata": {},
   "outputs": [],
   "source": [
    "from src.layers import Dense, ReLU, Softmax\n",
    "from src.losses import CategoricalCrossentropy, SparseCategoricalCrossentropy\n",
    "\n",
    "dense1 = Dense(6, n_inputs=4)\n",
    "activation1 = ReLU()\n",
    "dense2 = Dense(3, n_inputs=6)\n",
    "activation2 = Softmax()\n",
    "\n",
    "loss_function1 = CategoricalCrossentropy()\n",
    "loss_function2 = SparseCategoricalCrossentropy()\n",
    "\n",
    "dense1.forward(X)\n",
    "activation1.forward(dense1.outputs)\n",
    "dense2.forward(activation1.outputs)\n",
    "activation2.forward(dense2.outputs)\n",
    "\n",
    "loss1 = loss_function1.calculate(y_onehot, activation2.outputs)\n",
    "loss2 = loss_function2.calculate(y_sparse, activation2.outputs)\n"
   ]
  },
  {
   "cell_type": "markdown",
   "metadata": {},
   "source": [
    "### Weights and biases\n",
    "\n",
    "Parameters after one iteration."
   ]
  },
  {
   "cell_type": "markdown",
   "metadata": {},
   "source": [
    "**Dense 1 (6 neurons, 4 inputs)**"
   ]
  },
  {
   "cell_type": "code",
   "execution_count": 3,
   "metadata": {},
   "outputs": [
    {
     "name": "stdout",
     "output_type": "stream",
     "text": [
      "Inputs:\n",
      "[[2.  3.  5.  9. ]\n",
      " [1.5 3.5 4.5 8.5]\n",
      " [2.5 3.  1.  4. ]]\n",
      "\n",
      "Weights:\n",
      "[[-0.09547076  0.00296255  0.00396586 -0.02120603]\n",
      " [-0.03557107  0.02770152 -0.09759252  0.06777244]\n",
      " [ 0.14171852 -0.08066567 -0.0144932   0.1107612 ]\n",
      " [-0.15196544 -0.08329129  0.0015183  -0.04347929]\n",
      " [ 0.01428677  0.05109281 -0.15917366 -0.07378313]\n",
      " [ 0.04622606  0.04405937 -0.04605335 -0.08073206]]\n",
      "\n",
      "Biases:\n",
      "[0. 0. 0. 0. 0. 0.]\n",
      "\n",
      "Outputs:\n",
      "[[-0.35307882  0.13395178  0.96582481 -0.93752682 -1.27806445 -0.73222505]\n",
      " [-0.29524208  0.18049811  0.80649872 -0.88220925 -1.14318304 -0.66991569]\n",
      " [-0.31064751  0.16767413  0.54085088 -0.80218632 -0.2653108  -0.12123831]]\n",
      "\n"
     ]
    }
   ],
   "source": [
    "dense1.info()"
   ]
  },
  {
   "cell_type": "markdown",
   "metadata": {},
   "source": [
    "**Activation 1 (ReLU)**"
   ]
  },
  {
   "cell_type": "code",
   "execution_count": 4,
   "metadata": {},
   "outputs": [
    {
     "name": "stdout",
     "output_type": "stream",
     "text": [
      "Inputs:\n",
      "[[-0.35307882  0.13395178  0.96582481 -0.93752682 -1.27806445 -0.73222505]\n",
      " [-0.29524208  0.18049811  0.80649872 -0.88220925 -1.14318304 -0.66991569]\n",
      " [-0.31064751  0.16767413  0.54085088 -0.80218632 -0.2653108  -0.12123831]]\n",
      "\n",
      "Outputs:\n",
      "[[0.         0.13395178 0.96582481 0.         0.         0.        ]\n",
      " [0.         0.18049811 0.80649872 0.         0.         0.        ]\n",
      " [0.         0.16767413 0.54085088 0.         0.         0.        ]]\n",
      "\n"
     ]
    }
   ],
   "source": [
    "activation1.info()"
   ]
  },
  {
   "cell_type": "markdown",
   "metadata": {},
   "source": [
    "**Dense 2 (3 neurons, 6 inputs)**"
   ]
  },
  {
   "cell_type": "code",
   "execution_count": 5,
   "metadata": {},
   "outputs": [
    {
     "name": "stdout",
     "output_type": "stream",
     "text": [
      "Inputs:\n",
      "[[0.         0.13395178 0.96582481 0.         0.         0.        ]\n",
      " [0.         0.18049811 0.80649872 0.         0.         0.        ]\n",
      " [0.         0.16767413 0.54085088 0.         0.         0.        ]]\n",
      "\n",
      "Weights:\n",
      "[[ 0.10652297 -0.06700413  0.16849171 -0.02692517  0.03407567  0.0610652 ]\n",
      " [ 0.00524254 -0.23227619  0.01033201 -0.18676873 -0.19779252  0.098251  ]\n",
      " [-0.02239492  0.16990508  0.00983439  0.04429853 -0.05692386 -0.01818293]]\n",
      "\n",
      "Biases:\n",
      "[0. 0. 0.]\n",
      "\n",
      "Outputs:\n",
      "[[ 0.15375815 -0.02113489  0.03225738]\n",
      " [ 0.12379423 -0.03359266  0.03859897]\n",
      " [ 0.07989403 -0.03335863  0.03380762]]\n",
      "\n"
     ]
    }
   ],
   "source": [
    "dense2.info()"
   ]
  },
  {
   "cell_type": "markdown",
   "metadata": {},
   "source": [
    "**Activation 2 (Softmax)**"
   ]
  },
  {
   "cell_type": "code",
   "execution_count": 6,
   "metadata": {},
   "outputs": [
    {
     "name": "stdout",
     "output_type": "stream",
     "text": [
      "Inputs:\n",
      "[[ 0.15375815 -0.02113489  0.03225738]\n",
      " [ 0.12379423 -0.03359266  0.03859897]\n",
      " [ 0.07989403 -0.03335863  0.03380762]]\n",
      "\n",
      "Outputs:\n",
      "[[0.366954   0.30807506 0.32497093]\n",
      " [0.36065845 0.30813701 0.33120454]\n",
      " [0.35113784 0.31353976 0.3353224 ]]\n",
      "\n"
     ]
    }
   ],
   "source": [
    "activation2.info()"
   ]
  },
  {
   "cell_type": "markdown",
   "metadata": {},
   "source": [
    "### Loss\n",
    "\n",
    "* loss1: CategoricalCrossentropy\n",
    "* loss2: SparseCategoricalCrossentropy"
   ]
  },
  {
   "cell_type": "code",
   "execution_count": 7,
   "metadata": {},
   "outputs": [
    {
     "data": {
      "text/plain": [
       "(1.1012241690691644, 1.1012241690691644)"
      ]
     },
     "execution_count": 7,
     "metadata": {},
     "output_type": "execute_result"
    }
   ],
   "source": [
    "loss1, loss2"
   ]
  },
  {
   "cell_type": "markdown",
   "metadata": {},
   "source": [
    "## Visualize datasets"
   ]
  },
  {
   "cell_type": "markdown",
   "metadata": {},
   "source": [
    "### Spiral Data"
   ]
  },
  {
   "cell_type": "code",
   "execution_count": 8,
   "metadata": {},
   "outputs": [
    {
     "data": {
      "text/plain": [
       "<matplotlib.collections.PathCollection at 0x7fb560d80d90>"
      ]
     },
     "execution_count": 8,
     "metadata": {},
     "output_type": "execute_result"
    },
    {
     "data": {
      "image/png": "[encoded data removed]",
      "text/plain": [
       "<Figure size 640x480 with 1 Axes>"
      ]
     },
     "metadata": {},
     "output_type": "display_data"
    }
   ],
   "source": [
    "import matplotlib.pyplot as plt\n",
    "from src.datasets import spiral_data\n",
    "\n",
    "X, y = spiral_data(n_samples=100, n_classes=3)\n",
    "\n",
    "plt.scatter(X[:, 0], X[:, 1], c=y)"
   ]
  },
  {
   "cell_type": "markdown",
   "metadata": {},
   "source": [
    "### Vertical Data"
   ]
  },
  {
   "cell_type": "code",
   "execution_count": 9,
   "metadata": {},
   "outputs": [
    {
     "data": {
      "text/plain": [
       "<matplotlib.collections.PathCollection at 0x7fb5400e6160>"
      ]
     },
     "execution_count": 9,
     "metadata": {},
     "output_type": "execute_result"
    },
    {
     "data": {
      "image/png": "[encoded data removed]",
      "text/plain": [
       "<Figure size 640x480 with 1 Axes>"
      ]
     },
     "metadata": {},
     "output_type": "display_data"
    }
   ],
   "source": [
    "from src.datasets import vertical_data\n",
    "\n",
    "X, y = vertical_data(n_samples=100, n_classes=3)\n",
    "\n",
    "plt.scatter(X[:, 0], X[:, 1], c=y)"
   ]
  },
  {
   "cell_type": "markdown",
   "metadata": {},
   "source": [
    "## Backward Pass"
   ]
  },
  {
   "cell_type": "markdown",
   "metadata": {},
   "source": [
    "### Simple Dense Model\n",
    "One forward and one backward."
   ]
  },
  {
   "cell_type": "code",
   "execution_count": 10,
   "metadata": {},
   "outputs": [
    {
     "name": "stdout",
     "output_type": "stream",
     "text": [
      "loss: 1.0989033452258503\n",
      "acc: 0.27666666666666667\n"
     ]
    }
   ],
   "source": [
    "import numpy as np\n",
    "\n",
    "X, y = spiral_data(n_samples=100, n_classes=3)\n",
    "\n",
    "dense1 = Dense(n_neurons=4, n_inputs=2)\n",
    "activation1 = ReLU()\n",
    "dense2 = Dense(n_neurons=3, n_inputs=4)\n",
    "activation2 = Softmax()\n",
    "loss_function = SparseCategoricalCrossentropy()\n",
    "\n",
    "dense1.forward(X)\n",
    "activation1.forward(dense1.outputs)\n",
    "dense2.forward(activation1.outputs)\n",
    "activation2.forward(dense2.outputs)\n",
    "\n",
    "loss = loss_function.calculate(y_true=y, y_pred=activation2.outputs)\n",
    "print(\"loss:\", loss)\n",
    "\n",
    "predictions = np.argmax(activation2.outputs, axis=1)\n",
    "accuracy = np.mean(predictions == y)\n",
    "print(\"acc:\", accuracy)\n",
    "\n",
    "loss_function.backward(activation2.outputs, y)\n",
    "activation2.backward(loss_function.dinputs)\n",
    "dense2.backward(activation2.dinputs)\n",
    "activation1.backward(dense2.dinputs)\n",
    "dense1.backward(activation1.dinputs)"
   ]
  },
  {
   "cell_type": "markdown",
   "metadata": {},
   "source": [
    "### Gradients\n",
    "\n",
    "Calculated gradients after one iteration."
   ]
  },
  {
   "cell_type": "markdown",
   "metadata": {},
   "source": [
    "**Dense 1 Weight Gradient**"
   ]
  },
  {
   "cell_type": "code",
   "execution_count": 11,
   "metadata": {},
   "outputs": [
    {
     "data": {
      "text/plain": [
       "array([[-0.00216845,  0.00191147],\n",
       "       [-0.00065106, -0.00012913],\n",
       "       [ 0.00209695, -0.00559267],\n",
       "       [ 0.00045589,  0.00139085]])"
      ]
     },
     "execution_count": 11,
     "metadata": {},
     "output_type": "execute_result"
    }
   ],
   "source": [
    "dense1.dweights"
   ]
  },
  {
   "cell_type": "markdown",
   "metadata": {},
   "source": [
    "**Dense 1 Bias Gradient**"
   ]
  },
  {
   "cell_type": "code",
   "execution_count": 12,
   "metadata": {},
   "outputs": [
    {
     "data": {
      "text/plain": [
       "array([0.00433982, 0.00093007, 0.01001687, 0.00027256])"
      ]
     },
     "execution_count": 12,
     "metadata": {},
     "output_type": "execute_result"
    }
   ],
   "source": [
    "dense1.dbiases"
   ]
  },
  {
   "cell_type": "markdown",
   "metadata": {},
   "source": [
    "**Dense 2 Weight Gradient**"
   ]
  },
  {
   "cell_type": "code",
   "execution_count": 13,
   "metadata": {},
   "outputs": [
    {
     "data": {
      "text/plain": [
       "array([[ 0.00104859,  0.00056544, -0.00108649,  0.00174797],\n",
       "       [ 0.00010453,  0.00065652,  0.00098184,  0.00091802],\n",
       "       [-0.00115311, -0.00122196,  0.00010465, -0.00266599]])"
      ]
     },
     "execution_count": 13,
     "metadata": {},
     "output_type": "execute_result"
    }
   ],
   "source": [
    "dense2.dweights"
   ]
  },
  {
   "cell_type": "markdown",
   "metadata": {},
   "source": [
    "**Dense 2 Bias Gradient**"
   ]
  },
  {
   "cell_type": "code",
   "execution_count": 14,
   "metadata": {},
   "outputs": [
    {
     "data": {
      "text/plain": [
       "array([ 8.27171457e-05, -1.74988927e-04,  9.22717810e-05])"
      ]
     },
     "execution_count": 14,
     "metadata": {},
     "output_type": "execute_result"
    }
   ],
   "source": [
    "dense2.dbiases"
   ]
  },
  {
   "cell_type": "markdown",
   "metadata": {},
   "source": [
    "## Optimizing Parameters "
   ]
  },
  {
   "cell_type": "markdown",
   "metadata": {},
   "source": [
    "### SGD \n",
    "\n",
    "* Learning rate: 1.0\n",
    "* Decay: 0.0\n",
    "* Momentum: 0.0\n",
    "* Epoch: 10000"
   ]
  },
  {
   "cell_type": "code",
   "execution_count": 15,
   "metadata": {},
   "outputs": [
    {
     "name": "stdout",
     "output_type": "stream",
     "text": [
      "epoch: 0, acc: 0.277, loss: 1.105, lr: 1\n"
     ]
    },
    {
     "name": "stdout",
     "output_type": "stream",
     "text": [
      "epoch: 1000, acc: 0.490, loss: 0.998, lr: 1\n",
      "epoch: 2000, acc: 0.600, loss: 0.896, lr: 1\n",
      "epoch: 3000, acc: 0.580, loss: 0.861, lr: 1\n",
      "epoch: 4000, acc: 0.583, loss: 0.864, lr: 1\n",
      "epoch: 5000, acc: 0.630, loss: 0.820, lr: 1\n",
      "epoch: 6000, acc: 0.550, loss: 1.032, lr: 1\n",
      "epoch: 7000, acc: 0.680, loss: 0.698, lr: 1\n",
      "epoch: 8000, acc: 0.663, loss: 0.681, lr: 1\n",
      "epoch: 9000, acc: 0.687, loss: 0.658, lr: 1\n",
      "epoch: 10000, acc: 0.690, loss: 0.697, lr: 1\n"
     ]
    }
   ],
   "source": [
    "from src.optimizers import SGD\n",
    "\n",
    "X, y = spiral_data(n_samples=100, n_classes=3)\n",
    "\n",
    "dense1 = Dense(n_neurons=64, n_inputs=2)\n",
    "activation1 = ReLU()\n",
    "dense2 = Dense(n_neurons=3, n_inputs=64)\n",
    "activation2 = Softmax()\n",
    "\n",
    "loss_function = SparseCategoricalCrossentropy()\n",
    "\n",
    "optimizer = SGD()\n",
    "\n",
    "for epoch in range(10001):\n",
    "    dense1.forward(X)\n",
    "    activation1.forward(dense1.outputs)\n",
    "    dense2.forward(activation1.outputs)\n",
    "    activation2.forward(dense2.outputs)\n",
    "\n",
    "    loss = loss_function.calculate(y_true=y, y_pred=activation2.outputs)\n",
    "\n",
    "    predictions = np.argmax(activation2.outputs, axis=1)\n",
    "    accuracy = np.mean(predictions == y)\n",
    "\n",
    "    if not epoch % 1000:\n",
    "        print(f\"epoch: {epoch}, \" +\n",
    "              f\"acc: {accuracy:.3f}, \" +\n",
    "              f\"loss: {loss:.3f}, \" +\n",
    "              f\"lr: {optimizer.current_learning_rate}\")\n",
    "\n",
    "    loss_function.backward(activation2.outputs, y)\n",
    "    activation2.backward(loss_function.dinputs)\n",
    "    dense2.backward(activation2.dinputs)\n",
    "    activation1.backward(dense2.dinputs)\n",
    "    dense1.backward(activation1.dinputs)\n",
    "\n",
    "    optimizer.update_params(dense1)\n",
    "    optimizer.update_params(dense2)"
   ]
  },
  {
   "cell_type": "markdown",
   "metadata": {},
   "source": [
    "### SGD \n",
    "\n",
    "* Learning rate: 1.0\n",
    "* **Decay: 0.001**\n",
    "* Momentum: 0.0\n",
    "* Epoch: 10000"
   ]
  },
  {
   "cell_type": "code",
   "execution_count": 16,
   "metadata": {},
   "outputs": [
    {
     "name": "stdout",
     "output_type": "stream",
     "text": [
      "epoch: 0, acc: 0.317, loss: 1.100, lr: 1\n",
      "epoch: 1000, acc: 0.560, loss: 0.970, lr: 0.5002501250625312\n",
      "epoch: 2000, acc: 0.620, loss: 0.864, lr: 0.33344448149383127\n",
      "epoch: 3000, acc: 0.657, loss: 0.759, lr: 0.25006251562890724\n",
      "epoch: 4000, acc: 0.730, loss: 0.660, lr: 0.2000400080016003\n",
      "epoch: 5000, acc: 0.767, loss: 0.585, lr: 0.16669444907484582\n",
      "epoch: 6000, acc: 0.813, loss: 0.530, lr: 0.1428775539362766\n",
      "epoch: 7000, acc: 0.823, loss: 0.497, lr: 0.12501562695336915\n",
      "epoch: 8000, acc: 0.840, loss: 0.473, lr: 0.11112345816201799\n",
      "epoch: 9000, acc: 0.843, loss: 0.454, lr: 0.1000100010001\n",
      "epoch: 10000, acc: 0.847, loss: 0.439, lr: 0.09091735612328393\n"
     ]
    }
   ],
   "source": [
    "X, y = spiral_data(n_samples=100, n_classes=3)\n",
    "\n",
    "dense1 = Dense(n_neurons=64, n_inputs=2)\n",
    "activation1 = ReLU()\n",
    "dense2 = Dense(n_neurons=3, n_inputs=64)\n",
    "activation2 = Softmax()\n",
    "\n",
    "loss_function = SparseCategoricalCrossentropy()\n",
    "\n",
    "optimizer = SGD(decay=0.001)\n",
    "\n",
    "for epoch in range(10001):\n",
    "    dense1.forward(X)\n",
    "    activation1.forward(dense1.outputs)\n",
    "    dense2.forward(activation1.outputs)\n",
    "    activation2.forward(dense2.outputs)\n",
    "\n",
    "    loss = loss_function.calculate(y_true=y, y_pred=activation2.outputs)\n",
    "\n",
    "    predictions = np.argmax(activation2.outputs, axis=1)\n",
    "    accuracy = np.mean(predictions == y)\n",
    "\n",
    "    if not epoch % 1000:\n",
    "        print(f\"epoch: {epoch}, \" +\n",
    "              f\"acc: {accuracy:.3f}, \" +\n",
    "              f\"loss: {loss:.3f}, \" +\n",
    "              f\"lr: {optimizer.current_learning_rate}\")\n",
    "\n",
    "    loss_function.backward(activation2.outputs, y)\n",
    "    activation2.backward(loss_function.dinputs)\n",
    "    dense2.backward(activation2.dinputs)\n",
    "    activation1.backward(dense2.dinputs)\n",
    "    dense1.backward(activation1.dinputs)\n",
    "\n",
    "    optimizer.pre_update_params()\n",
    "    optimizer.update_params(dense1)\n",
    "    optimizer.update_params(dense2)\n",
    "    optimizer.post_update_params()"
   ]
  },
  {
   "cell_type": "markdown",
   "metadata": {},
   "source": [
    "### SGD \n",
    "\n",
    "* Learning rate: 1.0\n",
    "* **Decay: 0.001**\n",
    "* **Momentum: 0.9**\n",
    "* Epoch: 10000"
   ]
  },
  {
   "cell_type": "code",
   "execution_count": 17,
   "metadata": {},
   "outputs": [
    {
     "name": "stdout",
     "output_type": "stream",
     "text": [
      "epoch: 0, acc: 0.320, loss: 1.097, lr: 1\n",
      "epoch: 1000, acc: 0.870, loss: 0.317, lr: 0.5002501250625312\n",
      "epoch: 2000, acc: 0.930, loss: 0.201, lr: 0.33344448149383127\n",
      "epoch: 3000, acc: 0.937, loss: 0.166, lr: 0.25006251562890724\n",
      "epoch: 4000, acc: 0.933, loss: 0.159, lr: 0.2000400080016003\n",
      "epoch: 5000, acc: 0.933, loss: 0.155, lr: 0.16669444907484582\n",
      "epoch: 6000, acc: 0.930, loss: 0.152, lr: 0.1428775539362766\n",
      "epoch: 7000, acc: 0.933, loss: 0.150, lr: 0.12501562695336915\n",
      "epoch: 8000, acc: 0.933, loss: 0.148, lr: 0.11112345816201799\n",
      "epoch: 9000, acc: 0.933, loss: 0.146, lr: 0.1000100010001\n",
      "epoch: 10000, acc: 0.933, loss: 0.145, lr: 0.09091735612328393\n"
     ]
    }
   ],
   "source": [
    "X, y = spiral_data(n_samples=100, n_classes=3)\n",
    "\n",
    "dense1 = Dense(n_neurons=64, n_inputs=2)\n",
    "activation1 = ReLU()\n",
    "dense2 = Dense(n_neurons=3, n_inputs=64)\n",
    "activation2 = Softmax()\n",
    "\n",
    "loss_function = SparseCategoricalCrossentropy()\n",
    "\n",
    "optimizer = SGD(learning_rate=1, decay=0.001, momentum=0.9)\n",
    "\n",
    "for epoch in range(10001):\n",
    "    dense1.forward(X)\n",
    "    activation1.forward(dense1.outputs)\n",
    "    dense2.forward(activation1.outputs)\n",
    "    activation2.forward(dense2.outputs)\n",
    "\n",
    "    loss = loss_function.calculate(y_true=y, y_pred=activation2.outputs)\n",
    "\n",
    "    predictions = np.argmax(activation2.outputs, axis=1)\n",
    "    accuracy = np.mean(predictions == y)\n",
    "\n",
    "    if not epoch % 1000:\n",
    "        print(f\"epoch: {epoch}, \" +\n",
    "              f\"acc: {accuracy:.3f}, \" +\n",
    "              f\"loss: {loss:.3f}, \" +\n",
    "              f\"lr: {optimizer.current_learning_rate}\")\n",
    "\n",
    "    loss_function.backward(activation2.outputs, y)\n",
    "    activation2.backward(loss_function.dinputs)\n",
    "    dense2.backward(activation2.dinputs)\n",
    "    activation1.backward(dense2.dinputs)\n",
    "    dense1.backward(activation1.dinputs)\n",
    "\n",
    "    optimizer.pre_update_params()\n",
    "    optimizer.update_params(dense1)\n",
    "    optimizer.update_params(dense2)\n",
    "    optimizer.post_update_params()"
   ]
  },
  {
   "cell_type": "markdown",
   "metadata": {},
   "source": [
    "### AdaGrad \n",
    "\n",
    "* Learning rate: 1.0\n",
    "* Decay: 0.0\n",
    "* Epsilon: 1e-7\n",
    "* Epoch: 10000"
   ]
  },
  {
   "cell_type": "code",
   "execution_count": 18,
   "metadata": {},
   "outputs": [
    {
     "name": "stdout",
     "output_type": "stream",
     "text": [
      "epoch: 0, acc: 0.320, loss: 1.100, lr: 1\n",
      "epoch: 1000, acc: 0.657, loss: 0.718, lr: 1.0\n",
      "epoch: 2000, acc: 0.723, loss: 0.598, lr: 1.0\n",
      "epoch: 3000, acc: 0.730, loss: 0.540, lr: 1.0\n",
      "epoch: 4000, acc: 0.740, loss: 0.507, lr: 1.0\n",
      "epoch: 5000, acc: 0.813, loss: 0.440, lr: 1.0\n",
      "epoch: 6000, acc: 0.827, loss: 0.397, lr: 1.0\n",
      "epoch: 7000, acc: 0.843, loss: 0.364, lr: 1.0\n",
      "epoch: 8000, acc: 0.853, loss: 0.338, lr: 1.0\n",
      "epoch: 9000, acc: 0.880, loss: 0.311, lr: 1.0\n",
      "epoch: 10000, acc: 0.887, loss: 0.292, lr: 1.0\n"
     ]
    }
   ],
   "source": [
    "from src.optimizers import AdaGrad\n",
    "\n",
    "X, y = spiral_data(n_samples=100, n_classes=3)\n",
    "\n",
    "dense1 = Dense(n_neurons=64, n_inputs=2)\n",
    "activation1 = ReLU()\n",
    "dense2 = Dense(n_neurons=3, n_inputs=64)\n",
    "activation2 = Softmax()\n",
    "\n",
    "loss_function = SparseCategoricalCrossentropy()\n",
    "\n",
    "optimizer = AdaGrad()\n",
    "for epoch in range(10001):\n",
    "    dense1.forward(X)\n",
    "    activation1.forward(dense1.outputs)\n",
    "    dense2.forward(activation1.outputs)\n",
    "    activation2.forward(dense2.outputs)\n",
    "\n",
    "    loss = loss_function.calculate(y_true=y, y_pred=activation2.outputs)\n",
    "\n",
    "    predictions = np.argmax(activation2.outputs, axis=1)\n",
    "    accuracy = np.mean(predictions == y)\n",
    "\n",
    "    if not epoch % 1000:\n",
    "        print(f\"epoch: {epoch}, \" +\n",
    "              f\"acc: {accuracy:.3f}, \" +\n",
    "              f\"loss: {loss:.3f}, \" +\n",
    "              f\"lr: {optimizer.current_learning_rate}\")\n",
    "\n",
    "    loss_function.backward(activation2.outputs, y)\n",
    "    activation2.backward(loss_function.dinputs)\n",
    "    dense2.backward(activation2.dinputs)\n",
    "    activation1.backward(dense2.dinputs)\n",
    "    dense1.backward(activation1.dinputs)\n",
    "\n",
    "    optimizer.pre_update_params()\n",
    "    optimizer.update_params(dense1)\n",
    "    optimizer.update_params(dense2)\n",
    "    optimizer.post_update_params()"
   ]
  },
  {
   "cell_type": "markdown",
   "metadata": {},
   "source": [
    "### RMSProp \n",
    "\n",
    "* Learning rate: 0.001\n",
    "* **Decay: 1e-4**\n",
    "* Epsilon: 1e-7\n",
    "* Rho: 0.9\n",
    "* Epoch: 10000"
   ]
  },
  {
   "cell_type": "code",
   "execution_count": 19,
   "metadata": {},
   "outputs": [
    {
     "name": "stdout",
     "output_type": "stream",
     "text": [
      "epoch: 0, acc: 0.303, loss: 1.098, lr: 0.001\n",
      "epoch: 1000, acc: 0.570, loss: 0.924, lr: 0.0009091735612328393\n",
      "epoch: 2000, acc: 0.700, loss: 0.750, lr: 0.0008334027835652972\n",
      "epoch: 3000, acc: 0.743, loss: 0.618, lr: 0.0007692899453804139\n",
      "epoch: 4000, acc: 0.797, loss: 0.510, lr: 0.0007143367383384526\n",
      "epoch: 5000, acc: 0.837, loss: 0.431, lr: 0.0006667111140742716\n",
      "epoch: 6000, acc: 0.867, loss: 0.374, lr: 0.0006250390649415589\n",
      "epoch: 7000, acc: 0.887, loss: 0.332, lr: 0.0005882698982293077\n",
      "epoch: 8000, acc: 0.890, loss: 0.295, lr: 0.0005555864214678594\n",
      "epoch: 9000, acc: 0.910, loss: 0.268, lr: 0.0005263434917627244\n",
      "epoch: 10000, acc: 0.917, loss: 0.243, lr: 0.0005000250012500625\n"
     ]
    }
   ],
   "source": [
    "from src.optimizers import RMSProp\n",
    "\n",
    "X, y = spiral_data(n_samples=100, n_classes=3)\n",
    "\n",
    "dense1 = Dense(n_neurons=64, n_inputs=2)\n",
    "activation1 = ReLU()\n",
    "dense2 = Dense(n_neurons=3, n_inputs=64)\n",
    "activation2 = Softmax()\n",
    "\n",
    "loss_function = SparseCategoricalCrossentropy()\n",
    "\n",
    "optimizer = RMSProp(decay=1e-4)\n",
    "\n",
    "for epoch in range(10001):\n",
    "    dense1.forward(X)\n",
    "    activation1.forward(dense1.outputs)\n",
    "    dense2.forward(activation1.outputs)\n",
    "    activation2.forward(dense2.outputs)\n",
    "\n",
    "    loss = loss_function.calculate(y_true=y, y_pred=activation2.outputs)\n",
    "\n",
    "    predictions = np.argmax(activation2.outputs, axis=1)\n",
    "    accuracy = np.mean(predictions == y)\n",
    "\n",
    "    if not epoch % 1000:\n",
    "        print(f\"epoch: {epoch}, \" +\n",
    "              f\"acc: {accuracy:.3f}, \" +\n",
    "              f\"loss: {loss:.3f}, \" +\n",
    "              f\"lr: {optimizer.current_learning_rate}\")\n",
    "\n",
    "    loss_function.backward(activation2.outputs, y)\n",
    "    activation2.backward(loss_function.dinputs)\n",
    "    dense2.backward(activation2.dinputs)\n",
    "    activation1.backward(dense2.dinputs)\n",
    "    dense1.backward(activation1.dinputs)\n",
    "\n",
    "    optimizer.pre_update_params()\n",
    "    optimizer.update_params(dense1)\n",
    "    optimizer.update_params(dense2)\n",
    "    optimizer.post_update_params()"
   ]
  },
  {
   "cell_type": "markdown",
   "metadata": {},
   "source": [
    "### Adam \n",
    "\n",
    "* Learning rate: 0.001\n",
    "* Decay: 0.0\n",
    "* Epsilon: 1e-7\n",
    "* Beta 1: 0.9\n",
    "* Beta 2: 0.999\n",
    "* Epoch: 10000"
   ]
  },
  {
   "cell_type": "code",
   "execution_count": 20,
   "metadata": {},
   "outputs": [
    {
     "name": "stdout",
     "output_type": "stream",
     "text": [
      "epoch: 0, acc: 0.350, loss: 1.098, lr: 0.001\n",
      "epoch: 1000, acc: 0.570, loss: 0.917, lr: 0.001\n",
      "epoch: 2000, acc: 0.763, loss: 0.654, lr: 0.001\n",
      "epoch: 3000, acc: 0.833, loss: 0.491, lr: 0.001\n",
      "epoch: 4000, acc: 0.850, loss: 0.393, lr: 0.001\n",
      "epoch: 5000, acc: 0.870, loss: 0.331, lr: 0.001\n",
      "epoch: 6000, acc: 0.903, loss: 0.275, lr: 0.001\n",
      "epoch: 7000, acc: 0.917, loss: 0.240, lr: 0.001\n",
      "epoch: 8000, acc: 0.927, loss: 0.213, lr: 0.001\n",
      "epoch: 9000, acc: 0.930, loss: 0.193, lr: 0.001\n",
      "epoch: 10000, acc: 0.933, loss: 0.176, lr: 0.001\n"
     ]
    }
   ],
   "source": [
    "from src.optimizers import Adam\n",
    "\n",
    "X, y = spiral_data(n_samples=100, n_classes=3)\n",
    "\n",
    "dense1 = Dense(n_neurons=64, n_inputs=2)\n",
    "activation1 = ReLU()\n",
    "dense2 = Dense(n_neurons=3, n_inputs=64)\n",
    "activation2 = Softmax()\n",
    "\n",
    "loss_function = SparseCategoricalCrossentropy()\n",
    "\n",
    "optimizer = Adam()\n",
    "for epoch in range(10001):\n",
    "    dense1.forward(X)\n",
    "    activation1.forward(dense1.outputs)\n",
    "    dense2.forward(activation1.outputs)\n",
    "    activation2.forward(dense2.outputs)\n",
    "\n",
    "    loss = loss_function.calculate(y_true=y, y_pred=activation2.outputs)\n",
    "\n",
    "    predictions = np.argmax(activation2.outputs, axis=1)\n",
    "    accuracy = np.mean(predictions == y)\n",
    "\n",
    "    if not epoch % 1000:\n",
    "        print(f\"epoch: {epoch}, \" +\n",
    "              f\"acc: {accuracy:.3f}, \" +\n",
    "              f\"loss: {loss:.3f}, \" +\n",
    "              f\"lr: {optimizer.current_learning_rate}\")\n",
    "\n",
    "    loss_function.backward(activation2.outputs, y)\n",
    "    activation2.backward(loss_function.dinputs)\n",
    "    dense2.backward(activation2.dinputs)\n",
    "    activation1.backward(dense2.dinputs)\n",
    "    dense1.backward(activation1.dinputs)\n",
    "\n",
    "    optimizer.pre_update_params()\n",
    "    optimizer.update_params(dense1)\n",
    "    optimizer.update_params(dense2)\n",
    "    optimizer.post_update_params()"
   ]
  }
 ],
 "metadata": {
  "kernelspec": {
   "display_name": "venv",
   "language": "python",
   "name": "python3"
  },
  "language_info": {
   "codemirror_mode": {
    "name": "ipython",
    "version": 3
   },
   "file_extension": ".py",
   "mimetype": "text/x-python",
   "name": "python",
   "nbconvert_exporter": "python",
   "pygments_lexer": "ipython3",
   "version": "3.9.5"
  }
 },
 "nbformat": 4,
 "nbformat_minor": 2
}
